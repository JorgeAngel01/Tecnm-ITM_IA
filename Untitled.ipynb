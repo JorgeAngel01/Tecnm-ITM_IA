{
 "cells": [
  {
   "cell_type": "code",
   "execution_count": 1,
   "id": "5b93dcc2-0b59-4597-9f4f-67783164015f",
   "metadata": {},
   "outputs": [],
   "source": [
    "import cv2 as cv"
   ]
  },
  {
   "cell_type": "code",
   "execution_count": 2,
   "id": "4be3e12f-1fff-4c9e-bdbe-db54b529a7bc",
   "metadata": {},
   "outputs": [
    {
     "name": "stdout",
     "output_type": "stream",
     "text": [
      "(488, 489) 238632\n"
     ]
    },
    {
     "name": "stderr",
     "output_type": "stream",
     "text": [
      "Warning: Ignoring XDG_SESSION_TYPE=wayland on Gnome. Use QT_QPA_PLATFORM=wayland to run on Wayland anyway.\n"
     ]
    }
   ],
   "source": [
    "img = cv.imread('f1.jpg',0)\n",
    "print(img.shape, img.size)\n",
    "w = img.shape[0]\n",
    "h = img.shape[1]\n",
    "#c = img.shape[2]\n",
    "w1, h1 = img.shape\n",
    "\n",
    "img2 = img.copy()\n",
    "\n",
    "for x in range(w):\n",
    "    for y in range(h):\n",
    "        if(img[x,y]>150):\n",
    "            img2[x,y] = 255\n",
    "        else:\n",
    "            img2[x,y] = 0\n",
    "cv.imshow('imagen', img)\n",
    "cv.imshow('imagen1', img2)\n",
    "img3 = img\n",
    "\n",
    "for x in range(w):\n",
    "    for y in range(h):\n",
    "        if(img[x,y]>150):\n",
    "            img3[x,y] = 122\n",
    "        else:\n",
    "            img3[x,y] = 66\n",
    "\n",
    "cv.imshow('imagen2', img3)\n",
    "img4 = img\n",
    "\n",
    "for x in range(w):\n",
    "    for y in range(h):\n",
    "        if(img[x,y]>150):\n",
    "            img4[x,y] = 122\n",
    "        else:\n",
    "            img4[x,y] = 66\n",
    "\n",
    "cv.imshow('imagen3', img4)\n",
    "\n",
    "#print(w,h,c, w1, h1, c1)\n",
    "\n",
    "cv.waitKey(0)\n",
    "cv.destroyAllWindows()"
   ]
  },
  {
   "cell_type": "code",
   "execution_count": 3,
   "id": "44c99a47-721f-4f96-8602-4763225525df",
   "metadata": {},
   "outputs": [
    {
     "ename": "NameError",
     "evalue": "name 'np' is not defined",
     "output_type": "error",
     "traceback": [
      "\u001b[0;31m---------------------------------------------------------------------------\u001b[0m",
      "\u001b[0;31mNameError\u001b[0m                                 Traceback (most recent call last)",
      "Cell \u001b[0;32mIn[3], line 6\u001b[0m\n\u001b[1;32m      3\u001b[0m cv\u001b[38;5;241m.\u001b[39mimshow(\u001b[38;5;124m'\u001b[39m\u001b[38;5;124mimg\u001b[39m\u001b[38;5;124m'\u001b[39m, img)\n\u001b[1;32m      4\u001b[0m cv\u001b[38;5;241m.\u001b[39mimshow(\u001b[38;5;124m'\u001b[39m\u001b[38;5;124mimg2\u001b[39m\u001b[38;5;124m'\u001b[39m, img2)\n\u001b[0;32m----> 6\u001b[0m zero \u001b[38;5;241m=\u001b[39m \u001b[43mnp\u001b[49m\u001b[38;5;241m.\u001b[39mzeros(img\u001b[38;5;241m.\u001b[39mshape[:\u001b[38;5;241m2\u001b[39m], dtype\u001b[38;5;241m=\u001b[39m\u001b[38;5;124m'\u001b[39m\u001b[38;5;124muint8\u001b[39m\u001b[38;5;124m'\u001b[39m)\n\u001b[1;32m      7\u001b[0m (r,g,b) \u001b[38;5;241m=\u001b[39m cv\u001b[38;5;241m.\u001b[39msplit[img]\n\u001b[1;32m      8\u001b[0m cv\u001b[38;5;241m.\u001b[39mimshow(\u001b[38;5;124m'\u001b[39m\u001b[38;5;124mB\u001b[39m\u001b[38;5;124m'\u001b[39m, cv\u001b[38;5;241m.\u001b[39mmerge([b,zero,zero]))\n",
      "\u001b[0;31mNameError\u001b[0m: name 'np' is not defined"
     ]
    }
   ],
   "source": [
    "img = cv.imread('f1.jpg',1)\n",
    "img2 = cv.cvtColor(img, cv.COLOR_BGR2RGB)\n",
    "cv.imshow('img', img)\n",
    "cv.imshow('img2', img2)\n",
    "\n",
    "zero = np.zeros(img.shape[:2], dtype='uint8')\n",
    "(r,g,b) = cv.split[img]\n",
    "cv.imshow('B', cv.merge([b,zero,zero]))\n",
    "cv.imshow('G', cv.merge([zero,g,zero]))\n",
    "cv.imshow('R', cv.merge([zero,zero,r]))\n",
    "\n",
    "(r1,g1,b1) = cv.split(img2)\n",
    "cv.imshow('R1', cv.merge([r1,zero,zero]))\n",
    "cv.imshow('G1', cv.merge([zero,g1,zero]))\n",
    "cv.imshow('B1', cv.merge([zero,zero,b1]))"
   ]
  },
  {
   "cell_type": "code",
   "execution_count": null,
   "id": "a60d8a39-5861-4f11-9936-9c5e6668767b",
   "metadata": {},
   "outputs": [],
   "source": [
    "img = cv.imread('f1.jpg',1)\n",
    "img2 = cv.cvtColor(img, cv.COLOR_BGR2RGB)\n",
    "img3 = cv.cvtColor(img2, cv.COLOR_RGB2HSV)\n",
    "\n",
    "umbralBajo = (0, 80, 80)\n",
    "umbralAlto = (10, 255, 255)\n",
    "\n",
    "umbralBajoB = (170, 80, 80)\n",
    "umbralAltoB = (180, 255, 255)\n",
    "\n",
    "mascara1 = cv.inRange(img3, umbralBajo, umbralAlto)\n",
    "mascara2 = cv.inRange(img3, umbralBajoB, umbralAltoB)\n",
    "\n",
    "mascara = mascara1 + mascara2\n",
    "\n",
    "resultado = cv.bitwise_and(img, img, mask=mascara)\n",
    "\n",
    "cv.imshow('resultado',resultado)\n",
    "cv.imshow('mascara',mascara)\n",
    "cv.imshow('img', img)\n",
    "cv.imshow('img2', img2)\n",
    "cv.imshow('img3', img3)\n",
    "\n",
    "cv.waitKey(0)\n",
    "cv.destroyAllWindows()"
   ]
  },
  {
   "cell_type": "code",
   "execution_count": 5,
   "id": "8bbf7a40-1066-49a2-9cef-0d59594c58ff",
   "metadata": {},
   "outputs": [
    {
     "name": "stderr",
     "output_type": "stream",
     "text": [
      "qt.qpa.plugin: Could not find the Qt platform plugin \"wayland\" in \"/home/angel/Desktop/IA/.venv/lib/python3.10/site-packages/cv2/qt/plugins\"\n"
     ]
    }
   ],
   "source": [
    "import cv2 as cv\n",
    "import numpy as np\n",
    "\n",
    "cap = cv.VideoCapture(0)\n",
    "\n",
    "while True:\n",
    "    ret, img = cap.read()\n",
    "    img2 = cv.cvtColor(img,cv.COLOR_BGR2RGB)\n",
    "    img3 = cv.cvtColor(img,cv.COLOR_RGB2HSV)\n",
    "\n",
    "    umbralBajo = (100,80,80)\n",
    "    umbralAlto = (130,255,255)\n",
    "    \n",
    "    mascara = cv.inRange(img3,umbralBajo,umbralAlto)\n",
    "\n",
    "    resultado = cv.bitwise_and(img,img, mask=mascara)\n",
    "\n",
    "    cv.imshow('resultado', resultado)\n",
    "    cv.imshow('mascara', mascara)\n",
    "    cv.imshow('imagen',img)\n",
    "    cv.imshow('imagen2',img2)\n",
    "    cv.imshow('imagen3',img3)\n",
    "    \n",
    "    if cv.waitKey(1) == ord('q'):\n",
    "        break\n",
    "        \n",
    "cap.release()\n",
    "cv.destroyAllWindows()\n"
   ]
  },
  {
   "cell_type": "code",
   "execution_count": null,
   "id": "c11d3f9b-fad4-4b6f-bbe9-2e9a7426999d",
   "metadata": {},
   "outputs": [],
   "source": [
    "img = cv.imread('f1.jpg',1)\n",
    "img2 = cv.cvtColor(img, cv.COLOR_BGR2RGB)\n",
    "img3 = cv.cvtColor(img2, cv.COLOR_RGB2HSV)\n",
    "\n",
    "umbralBajo = (0, 80, 80)\n",
    "umbralAlto = (10, 255, 255)\n",
    "\n",
    "umbralBajoB = (170, 80, 80)\n",
    "umbralAltoB = (180, 255, 255)\n",
    "\n",
    "mascara1 = cv.inRange(img3, umbralBajo, umbralAlto)\n",
    "mascara2 = cv.inRange(img3, umbralBajoB, umbralAltoB)\n",
    "\n",
    "mascara = mascara1 + mascara2\n",
    "\n",
    "resultado = cv.bitwise_and(img, img, mask=mascara)\n",
    "\n",
    "cv.imshow('resultado',resultado)\n",
    "cv.imshow('mascara',mascara)\n",
    "cv.imshow('img', img)\n",
    "\n",
    "w = img.shape[0]\n",
    "h = img.shape[1]\n",
    "z = img.shape[2]\n",
    "\n",
    "for x in range(w):\n",
    "    for y in range(h):\n",
    "        for j in range(z):\n",
    "            print(resultado[x][y][j])\n",
    "\n",
    "\n",
    "cv.waitKey(0)\n",
    "cv.destroyAllWindows()"
   ]
  },
  {
   "cell_type": "code",
   "execution_count": 6,
   "id": "e9e89ab8-7f39-4573-a8fb-41c17188f5fb",
   "metadata": {},
   "outputs": [],
   "source": [
    "import cv2 as cv\n",
    "import numpy as np\n",
    "\n",
    "rostro = cv.CascadeClassifier('haarcascade_frontalface_alt.xml')\n",
    "cap = cv.VideoCapture(0)\n",
    "while True:\n",
    "    ret, frame = cap.read()\n",
    "    gray = cv.cvtColor(frame, cv.COLOR_BGR2GRAY)\n",
    "    rostros = rostro.detectMultiScale(gray, 1.3, 5)\n",
    "    for(x, y, w, h) in rostros:\n",
    "        frame = cv.rectangle(frame, (x,y), (x+w, y+h), (255, 0, 0), 5)\n",
    "        frame = cv.rectangle(frame, (x+30,y+30), (x+w-30, y+h-100), (0 ,255, 0), 5)\n",
    "        w1 = int(w/2)\n",
    "        h1 = int(h/2)\n",
    "        frame  = cv.circle(frame, (x+w1, y+h1),20, (0,0,255), 3)\n",
    "        h2 = int(h/4)\n",
    "        frame = cv.rectangle(frame, (x+50,y+h1+h1), (x+w, y+h-50), (0 ,255, 0), 5)\n",
    "    cv.imshow('rostros', frame)\n",
    "    #cv.imwrite(\"\" + str(i)+'.jpg', frame) \n",
    "    k = cv.waitKey(1)\n",
    "    if k == 27:\n",
    "        break\n",
    "cap.release()\n",
    "cv.destroyAllWindows()\n"
   ]
  }
 ],
 "metadata": {
  "kernelspec": {
   "display_name": "Python 3 (ipykernel)",
   "language": "python",
   "name": "python3"
  },
  "language_info": {
   "codemirror_mode": {
    "name": "ipython",
    "version": 3
   },
   "file_extension": ".py",
   "mimetype": "text/x-python",
   "name": "python",
   "nbconvert_exporter": "python",
   "pygments_lexer": "ipython3",
   "version": "3.10.12"
  }
 },
 "nbformat": 4,
 "nbformat_minor": 5
}
