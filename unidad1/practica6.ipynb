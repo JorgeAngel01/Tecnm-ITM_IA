{
 "cells": [
  {
   "cell_type": "markdown",
   "metadata": {},
   "source": [
    "# Practica 6. Introducción a la Inteligencia Artificial: El proceso de razonamiento según la lógica\n",
    "\n",
    "1. ***Dado el siguiente problema hacer el planteamiento matemático y programar el siguiente problema:***\n",
    "\n",
    "La historia que sigue es una versión adaptada de lo que –supuestamente— sucedió durante el siglo I. Sí, el siglo uno. Suena raro, ¿no? Más aún: esa historia dio origen a un problema clásico de la matemática/computación que sobrevivió el paso del tiempo. Se lo conoce con el nombre del “Problema de Josephus”, ya que se supone que fue Flavius Josephus, un historiador judío nacido en Jerusalén, quien describió la situación que vivieron él y 40 soldados que lo acompañaban.\n",
    "En un momento determinado  de  la  guerra  judeo-romana,  Josephus  y su grupo cayeron en una emboscada y quedaron atrapados en una caverna rodeada de soldados enemigos. Después de debatir cómo proceder, optaron por suicidarse antes de ser capturados. Sin embargo, Josephus no estuvo de acuerdo con la propuesta y para que nadie tuviera que quitarse la vida, propuso el siguiente método:\n",
    "“Sentémonos todos en un círculo.  Alguno de nosotros empezará primero y matará a quien tenga sentado a la izquierda y así vamos a seguir hasta que –claramente— quedará nada más que uno solo de nosotros con vida.   Ese será el único que tendrá que suicidarse”.\n",
    "\n",
    "![Josephus-problem](/assets/josephus.png)\n",
    "\n",
    "Allí están las cuarenta y un posiciones numeradas en forma creciente. Supongamos que empieza el que está sentado en la posición número 1. Ese soldado matará al 2. Luego, el 3 matará al 4, el 5 al 6. . . y así siguiendo. Como usted advierte, llegará un momento en el que habrán muerto todos los que están sentados en las posiciones que llevan un número par. Pero cuando muera el último de ellos, el número 40 (a manos del 39),  el 41 estará vivo aún y ahora, el que tiene sentado a la izquierda es el número 1 quien había empezado con los asesinatos.\n",
    "\n",
    "De acuerdo con las reglas, el 41 matará al 1, el 3 matará al 5, etc. Creo que ahora está claro que van a morir todos hasta que quede solamente uno con vida.\n",
    "\n",
    "Es aquí donde aparece una parte interesante de la historia de Josephus. En principio, habrían de morir todos los soldados que estaban con Josephus en la caverna, pero la diferencia es que quien quedara último tendría que suicidarse. . . Más aún: el sobreviviente tendría que quitarse la vida y no habría ningún otro integrante del grupo que estuviera vivo para verificar que lo hiciera.\n",
    "\n",
    "Como usted se imagina, Josephus eligió un lugar particular del círculo y se sentó allí.  El sabía que siguiendo las reglas escritas más arriba, él habría de quedar como único sobreviviente. Esperó que todos estuvieran muertos, y en lugar de suicidarse, salió de la caverna y se entregó al enemigo.\n",
    "Pregunta: ¿en qué lugar se sentó Josephus?\n",
    "El problema es muy conocido en el mundo de la matemática y los pro- gramadores, y es por eso que hay muchísima literatura escrita sobre el tema, pero no hace falta saber nada particular para poder pensarlo. La versión que figura más arriba es solo una de las posibles variantes (la más sencilla) y si yo estuviera junto a usted, le sugeriría que no empiece con el caso de los 41 soldados,  sino que intente con números más pequeños (de soldados) de manera tal de ver si le es posible intuir o imaginar una estrategia para determinar al ganador o sobreviviente a medida que va incrementando el número de soldados.\n",
    "\n",
    "De la misma forma,  una vez que hayamos resuelto el problema para 41 soldados, sería interesante pensar en una estrategia que permita deducir cuál será la posición ganadora en el caso general, es decir, independizarse del número 41 y encontrar alguna estrategia o fórmula que permita deducir el número que hay que elegir sin tener que recorrer todos los pasos intermedios.\n",
    "\n",
    "## Resolucion del problema\n",
    "\n",
    "### Observacion y analisis\n",
    "Para resolver este problema utilizaremos primero la observacion y el analisis con la finalidad de comprender el patron de dicho problema. Para esto empezaremos con el mismo enfoque de dividir comenzando con casos pequeños como n = 2, n = 3, y así sucesivamente, haremos la eliminación manualmente para entender cómo se desarrolla el patrón.\n",
    "\n",
    "Si utilizamos un escenario simple como n = 5 y k = 2. Aquí tienes cinco personas numeradas del 1 al 5, y en cada ronda, se elimina la segunda persona. Realiza el proceso manualmente:\n",
    "\n",
    "- Ronda 1: Se elimina la segunda persona. ¿Cómo cambian las posiciones?\n",
    "  - Inicial: 1, 2, 3, 4, 5\n",
    "  - Después: 1, 3, 4, 5\n",
    "- Ronda 2: Se elimina la segunda persona nuevamente.\n",
    "    - Inicial: 1, 3, 4, 5\n",
    "    - Después: 1, 3, 5\n",
    "- Ronda 3: Y así sucesivamente.\n",
    "\n",
    "Podemos notar que después de la primera eliminación, las posiciones se desplazan hacia arriba, y después de la segunda eliminación, vuelven a comenzar desde el principio.\n",
    "\n",
    "### Casos base\n",
    "\n",
    "A partir de ahi buscamos casos base como cuando Josephus es el unico sobreviviente, (n = 1). En este caso, la única persona es la última sobreviviente, por lo que puedes establecer josephus(1, k) = 1.\n",
    "\n",
    "### Logica del problema\n",
    "\n",
    "Cada vez que eliminamos a una persona la cantidad de soldados disminuye por lo que cada vez que llamemos a nuestra funcion rexursivamente se podria definir como josephus(n - 1, k).\n",
    "sin enmbargo es importante tener a cuenta que posicion ahora estamos.\n",
    "\n",
    "Para esto tomaremos k y se los sumaremos a la posicion que obtengamos del la recurividad, asimilando el movimiento k, pero le restamos uno por la persona que fue eliminada. Obteniendo: \n",
    "\n",
    "nueva_posicion = (posicion_restada + k - 1)\n",
    "\n",
    "No obstante, como lo notamos en la observacion, despues de cada ciertas eliminaciones la posicion se reinicia, po eso usamos el operador de módulo (%) para manejar la circularidad. Tomar el módulo n asegura que la posición resultante esté dentro del rango de las n personas restantes. Obteniendo\n",
    "\n",
    "(posicion_restada + k - 1) % n\n",
    "\n",
    "Por ultimo, le sumamos uno por que nos regresara una posicion antes debido a la que en la programacion se comienza con el cero en vez del 1.\n",
    "\n",
    "Al final obtenemos el siguietne codigo"
   ]
  },
  {
   "cell_type": "code",
   "execution_count": 2,
   "metadata": {},
   "outputs": [],
   "source": [
    "def josephus(n, k):\n",
    "    # Si hay solo una persona, devuelve la posición 1.\n",
    "    if n == 1:\n",
    "        return 1\n",
    "    else:\n",
    "        # Resuelve el problema para n - 1 personas restantes.\n",
    "        posicion_restada = josephus(n - 1, k)\n",
    "        \n",
    "        # Ajusta la posición resultante después de la eliminación \n",
    "        nueva_posicion = (posicion_restada + k - 1) % n + 1\n",
    "        \n",
    "        \n",
    "        return nueva_posicion"
   ]
  },
  {
   "cell_type": "code",
   "execution_count": 5,
   "metadata": {},
   "outputs": [
    {
     "name": "stdout",
     "output_type": "stream",
     "text": [
      "La posicion 19 es la indicada para ser el ultimo sobreviviente.\n"
     ]
    }
   ],
   "source": [
    "n_soldados = 41\n",
    "k_valor = 2\n",
    "posicion = josephus(n_soldados, k_valor)\n",
    "\n",
    "print(f\"La posicion {posicion} es la indicada para ser el ultimo sobreviviente.\")"
   ]
  },
  {
   "cell_type": "code",
   "execution_count": null,
   "metadata": {},
   "outputs": [],
   "source": []
  }
 ],
 "metadata": {
  "kernelspec": {
   "display_name": "venv",
   "language": "python",
   "name": "python3"
  },
  "language_info": {
   "codemirror_mode": {
    "name": "ipython",
    "version": 3
   },
   "file_extension": ".py",
   "mimetype": "text/x-python",
   "name": "python",
   "nbconvert_exporter": "python",
   "pygments_lexer": "ipython3",
   "version": "3.11.5"
  }
 },
 "nbformat": 4,
 "nbformat_minor": 2
}
