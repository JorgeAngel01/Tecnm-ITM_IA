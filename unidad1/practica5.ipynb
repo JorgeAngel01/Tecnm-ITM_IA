{
 "cells": [
  {
   "cell_type": "markdown",
   "metadata": {},
   "source": [
    "# Practica 5. Introducción a la Inteligencia Artificial: Introspección\n",
    "\n",
    "Una vez que se resolvió el algoritmo de las islas en la siguiente imagen contar los elementos que tienen el color rojo. \n",
    "\n",
    "![ImagenComidas](/unidad1/f1.jpg)\n",
    "\n",
    "## Introduccion\n",
    "\n",
    "Cuando se trata de las imágenes digitale, estas se componen de minúsculos elementos llamados píxeles. Cada píxel contribuye al conjunto general de la imagen, similar a cómo las piezas de un rompecabezas se ensamblan para formar una imagen completa. Cada pixel puede tener un color, no obstante, para asignarle este color se suele utilizar en las imagenes lo que se conoce un canal de color.\n",
    "\n",
    "Ahora, hablemos de los canales de color, específicamente el modelo RGB (Rojo, Verde, Azul). Este modelo utiliza tres canales principales para representar colores, donde la combinación de intensidades de rojo, verde y azul produce una amplia gama de colores. Además, el canal alfa se introduce para gestionar la opacidad, permitiendo efectos de transparencia. Este es el canal de color mas comun, no obstante existe otros como el HSV(matiz, saturación, valor) que abarcaremos mas adelante.\n",
    "\n",
    "Cuando nos sumergimos en el procesamiento de imágenes, OpenCV se destaca como una herramienta esencial. OpenCV, facilita la carga, manipulación y almacenamiento de imágenes. Esta biblioteca ofrece una amplia variedad de funciones para ajustar colores, realizar operaciones con píxeles y llevar a cabo diversas operaciones de procesamiento de imágenes.\n",
    "\n",
    "## Resolucion del problema\n",
    "\n",
    "Para abordar la tarea de contar los elementos de color rojo en la imagen proporcionada, primero, debemos entender cómo manipular imágenes con OpenCV. La biblioteca OpenCV nos brinda herramientas poderosas para procesar imágenes de manera efectiva. \n",
    "\n",
    "La imagen se carga usando cv.imread('f1.jpg', 1), por defecto cuando cargamos una imagen en OpenCV esta se carga con el canal de color RGB si se espcifica el 1, si no se carga en escala de grises. Luego se realiza una conversión de color para trabajar con el espacio de color HSV (matiz, saturación, valor), que es más adecuado para detectar colores específicos. Esto se debe simplemente a que se define un rango estrecho en el componente de Matiz que abarque los valores correspondientes al color, independientemente de la luminosidad o saturación, a diferencia del RGB donde tenemos tres rangos que hay que tomar en cuenta."
   ]
  },
  {
   "cell_type": "code",
   "execution_count": 1,
   "metadata": {},
   "outputs": [],
   "source": [
    "import cv2 as cv\n",
    "\n",
    "img = cv.imread('f1.jpg', 1)\n",
    "img2 = cv.cvtColor(img, cv.COLOR_BGR2RGB)\n",
    "img3 = cv.cvtColor(img2, cv.COLOR_RGB2HSV)"
   ]
  },
  {
   "cell_type": "markdown",
   "metadata": {},
   "source": [
    "Se definen umbrales para identificar los píxeles que corresponden al color rojo en el espacio de color HSV. Esto se debe a del componente matiz el rojo se separa de en dos espectros, por lo tanto utilizamos un umbral para abarcar el espectro bajo y otro umbral para el espectro alto, tendo los rangos del 0-10, y del 170-180."
   ]
  },
  {
   "cell_type": "code",
   "execution_count": 2,
   "metadata": {},
   "outputs": [],
   "source": [
    "umbralBajo = (0, 80, 80)\n",
    "umbralAlto = (10, 255, 255)\n",
    "\n",
    "umbralBajoB = (170, 80, 80)\n",
    "umbralAltoB = (180, 255, 255)\n"
   ]
  },
  {
   "cell_type": "markdown",
   "metadata": {},
   "source": [
    "A continuación, se crea una máscara aplicando los umbrales a la imagen en el espacio de color HSV."
   ]
  },
  {
   "cell_type": "code",
   "execution_count": 3,
   "metadata": {},
   "outputs": [],
   "source": [
    "mascara1 = cv.inRange(img3, umbralBajo, umbralAlto)\n",
    "mascara2 = cv.inRange(img3, umbralBajoB, umbralAltoB)\n",
    "\n",
    "mascara = mascara1 + mascara2"
   ]
  },
  {
   "cell_type": "markdown",
   "metadata": {},
   "source": [
    "Finalmente, se aplica la máscara a la imagen original utilizando la operación bitwise AND. Esta se encarga de comparar la imagen y aplicar una máscara a la imagen original, conservando solo los píxeles que cumplen con la condición especificada en la máscara. En este caso, se conservarán los píxeles que son de color rojo según los umbrales definidos previamente."
   ]
  },
  {
   "cell_type": "code",
   "execution_count": 4,
   "metadata": {},
   "outputs": [],
   "source": [
    "resultado = cv.bitwise_and(img, img, mask=mascara)\n"
   ]
  },
  {
   "cell_type": "markdown",
   "metadata": {},
   "source": [
    "El código muestra visualmente el resultado, la máscara, y las imágenes en diferentes etapas del proceso."
   ]
  },
  {
   "cell_type": "code",
   "execution_count": 5,
   "metadata": {},
   "outputs": [],
   "source": [
    "cv.imshow('resultado', resultado)\n",
    "cv.imshow('mascara', mascara)\n",
    "cv.imshow('img', img)\n",
    "cv.imshow('img2', img2)\n",
    "cv.imshow('img3', img3)\n",
    "\n",
    "cv.waitKey(0)\n",
    "cv.destroyAllWindows()\n"
   ]
  }
 ],
 "metadata": {
  "kernelspec": {
   "display_name": "venv",
   "language": "python",
   "name": "python3"
  },
  "language_info": {
   "codemirror_mode": {
    "name": "ipython",
    "version": 3
   },
   "file_extension": ".py",
   "mimetype": "text/x-python",
   "name": "python",
   "nbconvert_exporter": "python",
   "pygments_lexer": "ipython3",
   "version": "3.11.5"
  }
 },
 "nbformat": 4,
 "nbformat_minor": 2
}
