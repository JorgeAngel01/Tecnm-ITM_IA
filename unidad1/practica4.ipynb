{
 "cells": [
  {
   "cell_type": "markdown",
   "metadata": {},
   "source": [
    "# Practica 4. Introducción a la Inteligencia Artificial: Introspección\n",
    "\n",
    "Se trata de contar el numero de elementos (islas) contenidos en la siguiente imagen, se requiere lo siguiente.\n",
    "\n",
    "![Islas](/assets/islas.JPG)\n",
    "\n",
    "◦ Hacer un programa que pueda contar el numero de elementos que son del mismo color\n",
    "◦ Utilizar método iterativo y recursivo\n",
    "\n",
    "## Resolucion del problema\n",
    "\n",
    "### Matrices, Iteraciones y Recursion\n",
    "\n",
    "**Matrices**\n",
    "\n",
    "Para abordar este problema es importante tener en cuenta en funcionamiento de los componentes con los que vamos a resolver este problema. Tenemos una matriz 2x2 de n tamaño, esta matriz vamos a representar de la siguiente manera: *islas[n][n]*. Para una mejor representacion, en esta matriz, cada espacio lo vamos a llenar de ceros y unos, donde cada uno representa lo que seria el mar o vacio, y las islas o elementos.\n",
    "\n",
    "Una matriz en programacion representadad acomo *islas[n][n]* funciona de la siguiente manera: Para declarar el tamaño de una matriz remplazamos n por los tamaños que queremos, por ejemplo, *islas[2][3]* que estaria siendo representada de la sguiente manera:\n",
    "\n",
    "| 1 | 2 |   \n",
    "| 3 | 4 | \n",
    "| 5 | 6 |\n",
    "\n",
    "Donde podemos tomar el 2 como las columnas y el 3 como las filas. En la programacion se suele comenzar por el cero asi que si quisieramos utilizar un elemento de esta matriz en este caso el 4, podriamos obtenerlo llamando de la siguiente forma *islas[1][1]*.\n",
    "\n",
    "La eficacia en la resolución de este problema radica en una comprensión clara de cómo funcionan las matrices en programación. El manejo adecuado de índices, la notación correcta y la aplicación de algoritmos de búsqueda son fundamentales para desarrollar una solución robusta.\n",
    "\n",
    "**Iteraciones**\n",
    "\n",
    "La iteración es un enfoque repetitivo para procesar los elementos de una matriz. Al trabajar con matrices, generalmente utilizamos bucles para recorrer las filas y columnas, accediendo y manipulando cada elemento individualmente.  Esto quiere decir, que dependiendo del tamaño vamos a ir iterando para avanzar por cada columna checando cada fila hasta completarla. A continuacion tenemos un ejemplo cómo podríamos iterar sobre una matriz y realizar alguna operación simple, como imprimir sus elementos:"
   ]
  },
  {
   "cell_type": "code",
   "execution_count": null,
   "metadata": {},
   "outputs": [],
   "source": [
    "filas = 3\n",
    "columnas = 3\n",
    "matriz = [[1, 2, 3], [4, 5, 6], [7, 8, 9]]\n",
    "\n",
    "for i in range(filas):\n",
    "    for j in range(columnas):\n",
    "        print(matriz[i][j])"
   ]
  },
  {
   "cell_type": "markdown",
   "metadata": {},
   "source": [
    "**Recursion**\n",
    "\n",
    "La recursión, por otro lado, implica dividir un problema en subproblemas más pequeños y resolverlos de manera similar. En el contexto de las funciones de programacion, una funcion recusriva es aquella a la cual se llama a si misma para ir resolviendo el problema que se subdividio en subproblemas, cada llamada iria resolviendo cada subproblema hasta resolverse.\n",
    "\n",
    "###  Enfoque de Divide y Conquista\n",
    "\n",
    "Entonces utilizamos el enfoque divide y venceras para dividir el problema en ma subproblemas que resolveremos, de igual manera, en vez de trabajar con la misma matriz grande. Tomaremos una de un tamaño pequeño para manejar este. Enfocandonos en los subproblemas siguientes:\n",
    "\n",
    "- Como recorrer la matriz de manera completa de forma iterativa y con recursion-\n",
    "- Como detectar y contar que elementos estan juntos para ser considerados una isla.\n",
    "- Como continuar con el recorrido de la matriz despues de haber encontrado una isla, ya que esto implica una interrupcion para moverse a elementos subsecuentes para considerlos parte de la isla.\n",
    "  \n",
    "### Enfoque pruba y error\n",
    "\n",
    "Por ultimo, por medio de prueba y error realizamos el algoritmo y el programa para resolver este problema teniendo los siguientes codigos:\n",
    "\n"
   ]
  },
  {
   "cell_type": "code",
   "execution_count": 18,
   "metadata": {},
   "outputs": [
    {
     "name": "stdout",
     "output_type": "stream",
     "text": [
      "Numero de islas: 6\n"
     ]
    }
   ],
   "source": [
    "islas = [\n",
    "    [1, 0, 0, 1, 1],\n",
    "    [1, 1, 0, 0, 0],\n",
    "    [0, 0, 0, 1, 1],\n",
    "    [0, 1, 1, 0, 0],\n",
    "    [1, 0, 1, 0, 1]\n",
    "]\n",
    "\n",
    "def contar_islas_iterativo(matriz):\n",
    "    filas = len(matriz)\n",
    "    columnas = len(matriz[0])\n",
    "    num_islas = 0\n",
    "\n",
    "    for i in range(filas):\n",
    "        for j in range(columnas):\n",
    "            if matriz[i][j] == 1:\n",
    "                num_islas += 1\n",
    "                aux = [(i, j)]\n",
    "                matriz[i][j] = -1  # Marcar como visitado\n",
    "\n",
    "                while aux:\n",
    "                    fila, columna = aux.pop()\n",
    "\n",
    "                    # Explorar los elementos adyacentes\n",
    "                    adyacentes = [\n",
    "                        (fila - 1, columna),\n",
    "                        (fila + 1, columna),\n",
    "                        (fila, columna - 1),\n",
    "                        (fila, columna + 1)\n",
    "                    ]\n",
    "\n",
    "                    for x, y in adyacentes:\n",
    "                        if 0 <= x < filas and 0 <= y < columnas and matriz[x][y] == 1:\n",
    "                            aux.append((x, y))\n",
    "                            matriz[x][y] = -1  # Marcar como visitado\n",
    "\n",
    "    return num_islas\n",
    "\n",
    "resultado_iterativo = contar_islas_iterativo(islas)\n",
    "print(f'Numero de islas: {resultado_iterativo}')\n",
    "\n"
   ]
  },
  {
   "cell_type": "code",
   "execution_count": 19,
   "metadata": {},
   "outputs": [
    {
     "name": "stdout",
     "output_type": "stream",
     "text": [
      "Numero de islas: 6\n"
     ]
    }
   ],
   "source": [
    "islas = [\n",
    "    [1, 0, 0, 1, 1],\n",
    "    [1, 1, 0, 0, 0],\n",
    "    [0, 0, 0, 1, 1],\n",
    "    [0, 1, 1, 0, 0],\n",
    "    [1, 0, 1, 0, 1]\n",
    "]\n",
    "\n",
    "def contar_islas_recursivo(matriz, fila, columna):\n",
    "    filas = len(matriz)\n",
    "    columnas = len(matriz[0])\n",
    "\n",
    "    if fila < 0 or fila >= filas or columna < 0 or columna >= columnas or matriz[fila][columna] != 1:\n",
    "        return 0\n",
    "\n",
    "    # Marcar el elemento como visitado\n",
    "    matriz[fila][columna] = -1\n",
    "\n",
    "    # Explorar los elementos adyacentes de la misma isla\n",
    "    isla_actual = 1\n",
    "    isla_actual += contar_islas_recursivo(matriz, fila - 1, columna)  # Arriba\n",
    "    isla_actual += contar_islas_recursivo(matriz, fila + 1, columna)  # Abajo\n",
    "    isla_actual += contar_islas_recursivo(matriz, fila, columna - 1)  # Izquierda\n",
    "    isla_actual += contar_islas_recursivo(matriz, fila, columna + 1)  # Derecha\n",
    "\n",
    "    return isla_actual\n",
    "\n",
    "def contar_islas_recursivo_total(matriz):\n",
    "    filas = len(matriz)\n",
    "    columnas = len(matriz[0])\n",
    "    num_islas = 0\n",
    "\n",
    "    for i in range(filas):\n",
    "        for j in range(columnas):\n",
    "            if matriz[i][j] == 1:\n",
    "                num_islas += 1\n",
    "                contar_islas_recursivo(matriz, i, j)\n",
    "\n",
    "    return num_islas\n",
    "\n",
    "resultado_recursivo = contar_islas_recursivo_total(islas)\n",
    "print(f'Numero de islas: {resultado_recursivo}')"
   ]
  }
 ],
 "metadata": {
  "kernelspec": {
   "display_name": "Python 3",
   "language": "python",
   "name": "python3"
  },
  "language_info": {
   "codemirror_mode": {
    "name": "ipython",
    "version": 3
   },
   "file_extension": ".py",
   "mimetype": "text/x-python",
   "name": "python",
   "nbconvert_exporter": "python",
   "pygments_lexer": "ipython3",
   "version": "3.10.2"
  }
 },
 "nbformat": 4,
 "nbformat_minor": 2
}
