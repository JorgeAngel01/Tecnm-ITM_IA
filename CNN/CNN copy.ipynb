{
 "cells": [
  {
   "cell_type": "code",
   "execution_count": 1,
   "metadata": {
    "scrolled": true
   },
   "outputs": [
    {
     "name": "stdout",
     "output_type": "stream",
     "text": [
      "256 256 3 3\n"
     ]
    }
   ],
   "source": [
    "import cv2 \n",
    "\n",
    "img = cv2.imread('../../a/flowers/black_eyed_susan/1007595613_b884ca8509_c.jpg')\n",
    "\"\"\" img = cv2.imread('/home/angel/Desktop/IA/sportimages/basket/basket_0004.jpg') \"\"\"\n",
    "\n",
    "print(img.shape[0], img.shape[1], img.shape[2], len(img.shape))"
   ]
  },
  {
   "cell_type": "markdown",
   "metadata": {},
   "source": [
    "# Convolutional Neural Networks"
   ]
  },
  {
   "cell_type": "markdown",
   "metadata": {},
   "source": []
  },
  {
   "cell_type": "markdown",
   "metadata": {},
   "source": [
    "# Importar Librerías"
   ]
  },
  {
   "cell_type": "code",
   "execution_count": 2,
   "metadata": {
    "ExecuteTime": {
     "end_time": "2018-11-08T00:12:59.231970Z",
     "start_time": "2018-11-08T00:12:51.800950Z"
    }
   },
   "outputs": [],
   "source": [
    "import numpy as np\n",
    "import os\n",
    "import re\n",
    "import matplotlib.pyplot as plt\n",
    "%matplotlib inline\n",
    "from sklearn.model_selection import train_test_split\n",
    "from sklearn.metrics import classification_report\n",
    "\n",
    "from skimage.transform import resize\n",
    "from skimage import img_as_ubyte"
   ]
  },
  {
   "cell_type": "code",
   "execution_count": 3,
   "metadata": {
    "ExecuteTime": {
     "end_time": "2018-11-08T00:13:12.550878Z",
     "start_time": "2018-11-08T00:12:59.234748Z"
    },
    "scrolled": true
   },
   "outputs": [
    {
     "name": "stdout",
     "output_type": "stream",
     "text": [
      "WARNING:tensorflow:From c:\\Users\\jorge\\Desktop\\Tec\\9no Sem\\Tecnm-ITM_IA\\venv\\Lib\\site-packages\\keras\\src\\losses.py:2976: The name tf.losses.sparse_softmax_cross_entropy is deprecated. Please use tf.compat.v1.losses.sparse_softmax_cross_entropy instead.\n",
      "\n"
     ]
    }
   ],
   "source": [
    "import keras\n",
    "import tensorflow as tf\n",
    "from tensorflow.keras.utils import to_categorical\n",
    "from keras.models import Sequential,Model\n",
    "from tensorflow.keras.layers import Input\n",
    "from keras.layers import Dense, Dropout, Flatten\n",
    "#from keras.layers import Conv2D, MaxPooling2D\n",
    "#from tensorflow.keras.models import Sequential\n",
    "from tensorflow.keras.layers import (\n",
    "    BatchNormalization, SeparableConv2D, MaxPooling2D, Activation, Flatten, Dropout, Dense, Conv2D\n",
    ")\n",
    "from keras.layers import LeakyReLU"
   ]
  },
  {
   "cell_type": "markdown",
   "metadata": {},
   "source": [
    "# Cargar set de Imágenes"
   ]
  },
  {
   "cell_type": "code",
   "execution_count": 4,
   "metadata": {
    "ExecuteTime": {
     "end_time": "2018-11-08T00:16:45.248080Z",
     "start_time": "2018-11-08T00:13:12.553292Z"
    },
    "scrolled": true
   },
   "outputs": [
    {
     "name": "stdout",
     "output_type": "stream",
     "text": [
      "leyendo imagenes de  c:\\Users\\jorge\\Desktop\\Tec\\9no Sem\\Tecnm-ITM_IA\\CNN\\../../dataAugmented/\\\n",
      "c:\\Users\\jorge\\Desktop\\Tec\\9no Sem\\Tecnm-ITM_IA\\CNN\\../../dataAugmented/\\black_eyed_susan 1\n",
      "c:\\Users\\jorge\\Desktop\\Tec\\9no Sem\\Tecnm-ITM_IA\\CNN\\../../dataAugmented/\\dandelion 14959\n",
      "c:\\Users\\jorge\\Desktop\\Tec\\9no Sem\\Tecnm-ITM_IA\\CNN\\../../dataAugmented/\\iris 15602\n",
      "c:\\Users\\jorge\\Desktop\\Tec\\9no Sem\\Tecnm-ITM_IA\\CNN\\../../dataAugmented/\\rose 15637\n",
      "c:\\Users\\jorge\\Desktop\\Tec\\9no Sem\\Tecnm-ITM_IA\\CNN\\../../dataAugmented/\\tulip 14910\n",
      "Directorios leidos: 5\n",
      "Imagenes en cada directorio [14960, 15602, 15637, 14910, 15513]\n",
      "suma Total de imagenes en subdirs: 76622\n"
     ]
    }
   ],
   "source": [
    "dirname = os.path.join(os.getcwd(),'../../dataAugmented/')\n",
    "\"\"\" dirname = os.path.join(os.getcwd(),'/home/likcos/DataSets/sportimages/sportimages') \"\"\"\n",
    "imgpath = dirname + os.sep \n",
    "\n",
    "images = []\n",
    "directories = []\n",
    "dircount = []\n",
    "prevRoot=''\n",
    "cant=0\n",
    "\n",
    "print(\"leyendo imagenes de \",imgpath)\n",
    "\n",
    "small_size = (32, 32, 3)  # Adjust the size as needed\n",
    "\n",
    "for root, dirnames, filenames in os.walk(imgpath):\n",
    "    for filename in filenames:\n",
    "        if re.search(\"\\.(jpg|jpeg|png|bmp|tiff)$\", filename):\n",
    "            cant=cant+1\n",
    "            filepath = os.path.join(root, filename)\n",
    "            image = plt.imread(filepath)\n",
    "            if(len(image.shape)==3):\n",
    "                resized_image = resize(image, small_size)\n",
    "                resized_image = img_as_ubyte(resized_image)\n",
    "                images.append(resized_image)\n",
    "            b = \"Leyendo...\" + str(cant)\n",
    "            print (b, end=\"\\r\")\n",
    "            if len(image.shape) == 2:\n",
    "                # Grayscale image - delete the file\n",
    "                print(f\"Deleting: {filepath} - Grayscale image\")\n",
    "                os.remove(filepath)\n",
    "            # Deleted all non RGB images\n",
    "            \n",
    "            if prevRoot !=root:\n",
    "                print(root, cant)\n",
    "                prevRoot=root\n",
    "                directories.append(root)\n",
    "                dircount.append(cant)\n",
    "                cant=0\n",
    "dircount.append(cant)\n",
    "\n",
    "dircount = dircount[1:]\n",
    "dircount[0]=dircount[0]+1\n",
    "print('Directorios leidos:',len(directories))\n",
    "print(\"Imagenes en cada directorio\", dircount)\n",
    "print('suma Total de imagenes en subdirs:',sum(dircount))"
   ]
  },
  {
   "cell_type": "markdown",
   "metadata": {},
   "source": [
    "# Creamos las etiquetas"
   ]
  },
  {
   "cell_type": "code",
   "execution_count": 5,
   "metadata": {
    "ExecuteTime": {
     "end_time": "2018-11-08T00:16:45.269861Z",
     "start_time": "2018-11-08T00:16:45.251786Z"
    }
   },
   "outputs": [
    {
     "name": "stdout",
     "output_type": "stream",
     "text": [
      "Cantidad etiquetas creadas:  76622\n"
     ]
    }
   ],
   "source": [
    "labels=[]\n",
    "indice=0\n",
    "for cantidad in dircount:\n",
    "    for i in range(cantidad):\n",
    "        labels.append(indice)\n",
    "    indice=indice+1\n",
    "print(\"Cantidad etiquetas creadas: \",len(labels))\n"
   ]
  },
  {
   "cell_type": "code",
   "execution_count": 6,
   "metadata": {
    "ExecuteTime": {
     "end_time": "2018-11-08T00:16:45.285925Z",
     "start_time": "2018-11-08T00:16:45.273489Z"
    }
   },
   "outputs": [
    {
     "name": "stdout",
     "output_type": "stream",
     "text": [
      "0 black_eyed_susan\n",
      "1 dandelion\n",
      "2 iris\n",
      "3 rose\n",
      "4 tulip\n"
     ]
    }
   ],
   "source": [
    "flores=[]\n",
    "indice=0\n",
    "for directorio in directories:\n",
    "    name = directorio.split(os.sep)\n",
    "    print(indice , name[len(name)-1])\n",
    "    flores.append(name[len(name)-1])\n",
    "    indice=indice+1"
   ]
  },
  {
   "cell_type": "code",
   "execution_count": 7,
   "metadata": {},
   "outputs": [
    {
     "name": "stdout",
     "output_type": "stream",
     "text": [
      "Total number of outputs :  5\n",
      "Output classes :  [0 1 2 3 4]\n"
     ]
    }
   ],
   "source": [
    "y = np.array(labels)\n",
    "X = np.array(images, dtype=np.uint8) #convierto de lista a numpy\n",
    "\n",
    "\n",
    "\n",
    "# Find the unique numbers from the train labels\n",
    "classes = np.unique(y)\n",
    "nClasses = len(classes)\n",
    "print('Total number of outputs : ', nClasses)\n",
    "print('Output classes : ', classes)"
   ]
  },
  {
   "cell_type": "markdown",
   "metadata": {},
   "source": [
    "# Creamos Sets de Entrenamiento y Test"
   ]
  },
  {
   "cell_type": "code",
   "execution_count": 8,
   "metadata": {},
   "outputs": [
    {
     "name": "stdout",
     "output_type": "stream",
     "text": [
      "Shape of X: (76622, 32, 32, 3)\n",
      "Shape of y: (76622,)\n",
      "76622\n"
     ]
    }
   ],
   "source": [
    "print('Shape of X:', X.shape)\n",
    "print('Shape of y:', y.shape)\n",
    "print(len(images))\n"
   ]
  },
  {
   "cell_type": "code",
   "execution_count": 9,
   "metadata": {
    "ExecuteTime": {
     "end_time": "2018-11-08T00:16:45.669596Z",
     "start_time": "2018-11-08T00:16:45.502716Z"
    }
   },
   "outputs": [
    {
     "name": "stdout",
     "output_type": "stream",
     "text": [
      "Training data shape :  (61297, 32, 32, 3) (61297,)\n",
      "Testing data shape :  (15325, 32, 32, 3) (15325,)\n"
     ]
    }
   ],
   "source": [
    "train_X,test_X,train_Y,test_Y = train_test_split(X,y,test_size=0.2)\n",
    "print('Training data shape : ', train_X.shape, train_Y.shape)\n",
    "print('Testing data shape : ', test_X.shape, test_Y.shape)"
   ]
  },
  {
   "cell_type": "code",
   "execution_count": 10,
   "metadata": {
    "ExecuteTime": {
     "end_time": "2018-11-08T00:16:49.319746Z",
     "start_time": "2018-11-08T00:16:45.673944Z"
    }
   },
   "outputs": [
    {
     "data": {
      "text/plain": [
       "Text(0.5, 1.0, 'Ground Truth : 1')"
      ]
     },
     "execution_count": 10,
     "metadata": {},
     "output_type": "execute_result"
    },
    {
     "data": {
      "image/png": "[encoded data removed]",
      "text/plain": [
       "<Figure size 500x500 with 2 Axes>"
      ]
     },
     "metadata": {},
     "output_type": "display_data"
    }
   ],
   "source": [
    "plt.figure(figsize=[5,5])\n",
    "\n",
    "# Display the first image in training data\n",
    "plt.subplot(121)\n",
    "plt.imshow(train_X[0,:,:], cmap='gray')\n",
    "plt.title(\"Ground Truth : {}\".format(train_Y[0]))\n",
    "\n",
    "# Display the first image in testing data\n",
    "plt.subplot(122)\n",
    "plt.imshow(test_X[0,:,:], cmap='gray')\n",
    "plt.title(\"Ground Truth : {}\".format(test_Y[0]))"
   ]
  },
  {
   "cell_type": "markdown",
   "metadata": {},
   "source": [
    "# Preprocesamos las imagenes"
   ]
  },
  {
   "cell_type": "code",
   "execution_count": 11,
   "metadata": {
    "ExecuteTime": {
     "end_time": "2018-11-08T00:16:50.798162Z",
     "start_time": "2018-11-08T00:16:49.322999Z"
    }
   },
   "outputs": [
    {
     "data": {
      "text/plain": [
       "<matplotlib.image.AxesImage at 0x197d6d5abd0>"
      ]
     },
     "execution_count": 11,
     "metadata": {},
     "output_type": "execute_result"
    },
    {
     "data": {
      "image/png": "[encoded data removed]",
      "text/plain": [
       "<Figure size 640x480 with 1 Axes>"
      ]
     },
     "metadata": {},
     "output_type": "display_data"
    }
   ],
   "source": [
    "train_X = train_X.astype('float32')\n",
    "test_X = test_X.astype('float32')\n",
    "train_X = train_X/255.\n",
    "test_X = test_X/255.\n",
    "plt.imshow(test_X[0,:,:])"
   ]
  },
  {
   "cell_type": "markdown",
   "metadata": {},
   "source": [
    "## Hacemos el One-hot Encoding para la red"
   ]
  },
  {
   "cell_type": "code",
   "execution_count": 12,
   "metadata": {
    "ExecuteTime": {
     "end_time": "2018-11-08T00:16:50.815482Z",
     "start_time": "2018-11-08T00:16:50.800831Z"
    }
   },
   "outputs": [
    {
     "name": "stdout",
     "output_type": "stream",
     "text": [
      "Original label: 3\n",
      "After conversion to one-hot: [0. 0. 0. 1. 0.]\n"
     ]
    }
   ],
   "source": [
    "# Change the labels from categorical to one-hot encoding\n",
    "train_Y_one_hot = to_categorical(train_Y)\n",
    "test_Y_one_hot = to_categorical(test_Y)\n",
    "\n",
    "# Display the change for category label using one-hot encoding\n",
    "print('Original label:', train_Y[0])\n",
    "print('After conversion to one-hot:', train_Y_one_hot[0])"
   ]
  },
  {
   "cell_type": "markdown",
   "metadata": {},
   "source": [
    "# Creamos el Set de Entrenamiento y Validación"
   ]
  },
  {
   "cell_type": "code",
   "execution_count": 13,
   "metadata": {
    "ExecuteTime": {
     "end_time": "2018-11-08T00:16:51.218520Z",
     "start_time": "2018-11-08T00:16:50.818992Z"
    }
   },
   "outputs": [],
   "source": [
    "#Mezclar todo y crear los grupos de entrenamiento y testing\n",
    "train_X,valid_X,train_label,valid_label = train_test_split(train_X, train_Y_one_hot, test_size=0.2, random_state=13)"
   ]
  },
  {
   "cell_type": "code",
   "execution_count": 14,
   "metadata": {
    "ExecuteTime": {
     "end_time": "2018-11-08T00:16:51.228116Z",
     "start_time": "2018-11-08T00:16:51.222460Z"
    }
   },
   "outputs": [
    {
     "name": "stdout",
     "output_type": "stream",
     "text": [
      "(49037, 32, 32, 3) (12260, 32, 32, 3) (49037, 5) (12260, 5)\n"
     ]
    }
   ],
   "source": [
    "print(train_X.shape,valid_X.shape,train_label.shape,valid_label.shape)"
   ]
  },
  {
   "cell_type": "markdown",
   "metadata": {},
   "source": [
    "# Creamos el modelo de CNN"
   ]
  },
  {
   "cell_type": "code",
   "execution_count": 15,
   "metadata": {
    "ExecuteTime": {
     "end_time": "2018-11-08T00:16:51.244776Z",
     "start_time": "2018-11-08T00:16:51.238704Z"
    }
   },
   "outputs": [],
   "source": [
    "#declaramos variables con los parámetros de configuración de la red\n",
    "\"\"\" INIT_LR = 1e-3 # Valor inicial de learning rate. El valor 1e-3 corresponde con 0.001 \"\"\"\n",
    "INIT_LR = 0.003 # Valor inicial de learning rate. El valor 1e-3 corresponde con 0.001\n",
    "epochs = 200 # Cantidad de iteraciones completas al conjunto de imagenes de entrenamiento\n",
    "batch_size = 16 # cantidad de imágenes que se toman a la vez en memoria"
   ]
  },
  {
   "cell_type": "code",
   "execution_count": 16,
   "metadata": {
    "ExecuteTime": {
     "end_time": "2018-11-08T00:16:51.384131Z",
     "start_time": "2018-11-08T00:16:51.252188Z"
    }
   },
   "outputs": [
    {
     "name": "stdout",
     "output_type": "stream",
     "text": [
      "WARNING:tensorflow:From c:\\Users\\jorge\\Desktop\\Tec\\9no Sem\\Tecnm-ITM_IA\\venv\\Lib\\site-packages\\keras\\src\\backend.py:873: The name tf.get_default_graph is deprecated. Please use tf.compat.v1.get_default_graph instead.\n",
      "\n",
      "WARNING:tensorflow:From c:\\Users\\jorge\\Desktop\\Tec\\9no Sem\\Tecnm-ITM_IA\\venv\\Lib\\site-packages\\keras\\src\\layers\\pooling\\max_pooling2d.py:161: The name tf.nn.max_pool is deprecated. Please use tf.nn.max_pool2d instead.\n",
      "\n"
     ]
    }
   ],
   "source": [
    "flor_model = Sequential()\n",
    "flor_model.add(Conv2D(32, kernel_size=(3, 3),activation='linear',padding='same',input_shape=(32,32,3)))\n",
    "flor_model.add(LeakyReLU(alpha=0.1))\n",
    "flor_model.add(MaxPooling2D((2, 2),padding='same'))\n",
    "flor_model.add(Dropout(0.5))\n",
    "\"\"\" \n",
    "flor_model.add(Conv2D(64, kernel_size=(3, 3), activation='linear', padding='same'))\n",
    "flor_model.add(LeakyReLU(alpha=0.1))\n",
    "flor_model.add(MaxPooling2D((2, 2), padding='same'))\n",
    "flor_model.add(Dropout(0.5)) \"\"\"\n",
    "\n",
    "flor_model.add(Flatten())\n",
    "flor_model.add(Dense(32, activation='linear'))\n",
    "flor_model.add(LeakyReLU(alpha=0.1))\n",
    "flor_model.add(Dropout(0.5))\n",
    "flor_model.add(Dense(nClasses, activation='softmax'))"
   ]
  },
  {
   "cell_type": "code",
   "execution_count": 17,
   "metadata": {
    "ExecuteTime": {
     "end_time": "2018-11-08T00:16:51.401674Z",
     "start_time": "2018-11-08T00:16:51.386676Z"
    }
   },
   "outputs": [
    {
     "name": "stdout",
     "output_type": "stream",
     "text": [
      "Model: \"sequential\"\n",
      "_________________________________________________________________\n",
      " Layer (type)                Output Shape              Param #   \n",
      "=================================================================\n",
      " conv2d (Conv2D)             (None, 32, 32, 32)        896       \n",
      "                                                                 \n",
      " leaky_re_lu (LeakyReLU)     (None, 32, 32, 32)        0         \n",
      "                                                                 \n",
      " max_pooling2d (MaxPooling2  (None, 16, 16, 32)        0         \n",
      " D)                                                              \n",
      "                                                                 \n",
      " dropout (Dropout)           (None, 16, 16, 32)        0         \n",
      "                                                                 \n",
      " flatten (Flatten)           (None, 8192)              0         \n",
      "                                                                 \n",
      " dense (Dense)               (None, 32)                262176    \n",
      "                                                                 \n",
      " leaky_re_lu_1 (LeakyReLU)   (None, 32)                0         \n",
      "                                                                 \n",
      " dropout_1 (Dropout)         (None, 32)                0         \n",
      "                                                                 \n",
      " dense_1 (Dense)             (None, 5)                 165       \n",
      "                                                                 \n",
      "=================================================================\n",
      "Total params: 263237 (1.00 MB)\n",
      "Trainable params: 263237 (1.00 MB)\n",
      "Non-trainable params: 0 (0.00 Byte)\n",
      "_________________________________________________________________\n"
     ]
    }
   ],
   "source": [
    "flor_model.summary()"
   ]
  },
  {
   "cell_type": "code",
   "execution_count": 18,
   "metadata": {
    "ExecuteTime": {
     "end_time": "2018-11-08T00:16:51.472349Z",
     "start_time": "2018-11-08T00:16:51.406817Z"
    }
   },
   "outputs": [],
   "source": [
    "flor_model.compile(loss=keras.losses.categorical_crossentropy, optimizer=tf.keras.optimizers.legacy.SGD(learning_rate=INIT_LR, decay=INIT_LR / 100),metrics=['accuracy'])"
   ]
  },
  {
   "cell_type": "markdown",
   "metadata": {},
   "source": [
    "# Entrenamos el modelo: Aprende a clasificar imágenes"
   ]
  },
  {
   "cell_type": "code",
   "execution_count": 19,
   "metadata": {
    "ExecuteTime": {
     "end_time": "2018-11-08T00:20:49.562522Z",
     "start_time": "2018-11-08T00:16:51.474807Z"
    }
   },
   "outputs": [
    {
     "name": "stdout",
     "output_type": "stream",
     "text": [
      "Epoch 1/200\n",
      "WARNING:tensorflow:From c:\\Users\\jorge\\Desktop\\Tec\\9no Sem\\Tecnm-ITM_IA\\venv\\Lib\\site-packages\\keras\\src\\utils\\tf_utils.py:492: The name tf.ragged.RaggedTensorValue is deprecated. Please use tf.compat.v1.ragged.RaggedTensorValue instead.\n",
      "\n",
      "WARNING:tensorflow:From c:\\Users\\jorge\\Desktop\\Tec\\9no Sem\\Tecnm-ITM_IA\\venv\\Lib\\site-packages\\keras\\src\\engine\\base_layer_utils.py:384: The name tf.executing_eagerly_outside_functions is deprecated. Please use tf.compat.v1.executing_eagerly_outside_functions instead.\n",
      "\n",
      "3065/3065 [==============================] - 9s 3ms/step - loss: 1.0608 - accuracy: 0.5830 - val_loss: 0.7579 - val_accuracy: 0.7263\n",
      "Epoch 2/200\n",
      "3065/3065 [==============================] - 8s 3ms/step - loss: 0.8029 - accuracy: 0.7011 - val_loss: 0.6624 - val_accuracy: 0.7564\n",
      "Epoch 3/200\n",
      "3065/3065 [==============================] - 8s 3ms/step - loss: 0.7192 - accuracy: 0.7333 - val_loss: 0.5962 - val_accuracy: 0.7778\n",
      "Epoch 4/200\n",
      "3065/3065 [==============================] - 8s 3ms/step - loss: 0.6675 - accuracy: 0.7532 - val_loss: 0.5639 - val_accuracy: 0.7919\n",
      "Epoch 5/200\n",
      "3065/3065 [==============================] - 8s 3ms/step - loss: 0.6314 - accuracy: 0.7674 - val_loss: 0.5250 - val_accuracy: 0.8082\n",
      "Epoch 6/200\n",
      "3065/3065 [==============================] - 8s 3ms/step - loss: 0.6044 - accuracy: 0.7805 - val_loss: 0.5045 - val_accuracy: 0.8147\n",
      "Epoch 7/200\n",
      "3065/3065 [==============================] - 8s 3ms/step - loss: 0.5826 - accuracy: 0.7881 - val_loss: 0.4860 - val_accuracy: 0.8220\n",
      "Epoch 8/200\n",
      "3065/3065 [==============================] - 8s 3ms/step - loss: 0.5655 - accuracy: 0.7948 - val_loss: 0.4777 - val_accuracy: 0.8232\n",
      "Epoch 9/200\n",
      "3065/3065 [==============================] - 8s 3ms/step - loss: 0.5491 - accuracy: 0.7997 - val_loss: 0.4619 - val_accuracy: 0.8276\n",
      "Epoch 10/200\n",
      "3065/3065 [==============================] - 8s 3ms/step - loss: 0.5402 - accuracy: 0.8041 - val_loss: 0.4518 - val_accuracy: 0.8307\n",
      "Epoch 11/200\n",
      "3065/3065 [==============================] - 9s 3ms/step - loss: 0.5281 - accuracy: 0.8082 - val_loss: 0.4482 - val_accuracy: 0.8356\n",
      "Epoch 12/200\n",
      "3065/3065 [==============================] - 9s 3ms/step - loss: 0.5189 - accuracy: 0.8104 - val_loss: 0.4443 - val_accuracy: 0.8369\n",
      "Epoch 13/200\n",
      "3065/3065 [==============================] - 9s 3ms/step - loss: 0.5130 - accuracy: 0.8148 - val_loss: 0.4315 - val_accuracy: 0.8405\n",
      "Epoch 14/200\n",
      "3065/3065 [==============================] - 9s 3ms/step - loss: 0.5047 - accuracy: 0.8174 - val_loss: 0.4378 - val_accuracy: 0.8391\n",
      "Epoch 15/200\n",
      "3065/3065 [==============================] - 9s 3ms/step - loss: 0.4999 - accuracy: 0.8183 - val_loss: 0.4235 - val_accuracy: 0.8434\n",
      "Epoch 16/200\n",
      "3065/3065 [==============================] - 9s 3ms/step - loss: 0.4942 - accuracy: 0.8214 - val_loss: 0.4157 - val_accuracy: 0.8475\n",
      "Epoch 17/200\n",
      "3065/3065 [==============================] - 9s 3ms/step - loss: 0.4885 - accuracy: 0.8224 - val_loss: 0.4122 - val_accuracy: 0.8500\n",
      "Epoch 18/200\n",
      "3065/3065 [==============================] - 9s 3ms/step - loss: 0.4840 - accuracy: 0.8237 - val_loss: 0.4052 - val_accuracy: 0.8511\n",
      "Epoch 19/200\n",
      "3065/3065 [==============================] - 9s 3ms/step - loss: 0.4782 - accuracy: 0.8260 - val_loss: 0.4026 - val_accuracy: 0.8515\n",
      "Epoch 20/200\n",
      "3065/3065 [==============================] - 9s 3ms/step - loss: 0.4804 - accuracy: 0.8244 - val_loss: 0.4086 - val_accuracy: 0.8508\n",
      "Epoch 21/200\n",
      "3065/3065 [==============================] - 9s 3ms/step - loss: 0.4747 - accuracy: 0.8288 - val_loss: 0.4052 - val_accuracy: 0.8498\n",
      "Epoch 22/200\n",
      "3065/3065 [==============================] - 9s 3ms/step - loss: 0.4705 - accuracy: 0.8298 - val_loss: 0.3978 - val_accuracy: 0.8538\n",
      "Epoch 23/200\n",
      "3065/3065 [==============================] - 9s 3ms/step - loss: 0.4710 - accuracy: 0.8308 - val_loss: 0.3957 - val_accuracy: 0.8561\n",
      "Epoch 24/200\n",
      "3065/3065 [==============================] - 9s 3ms/step - loss: 0.4646 - accuracy: 0.8304 - val_loss: 0.3967 - val_accuracy: 0.8534\n",
      "Epoch 25/200\n",
      "3065/3065 [==============================] - 9s 3ms/step - loss: 0.4644 - accuracy: 0.8293 - val_loss: 0.3901 - val_accuracy: 0.8573\n",
      "Epoch 26/200\n",
      "3065/3065 [==============================] - 9s 3ms/step - loss: 0.4588 - accuracy: 0.8335 - val_loss: 0.3947 - val_accuracy: 0.8538\n",
      "Epoch 27/200\n",
      "3065/3065 [==============================] - 9s 3ms/step - loss: 0.4527 - accuracy: 0.8356 - val_loss: 0.3834 - val_accuracy: 0.8594\n",
      "Epoch 28/200\n",
      "3065/3065 [==============================] - 9s 3ms/step - loss: 0.4552 - accuracy: 0.8352 - val_loss: 0.3880 - val_accuracy: 0.8581\n",
      "Epoch 29/200\n",
      "3065/3065 [==============================] - 9s 3ms/step - loss: 0.4486 - accuracy: 0.8363 - val_loss: 0.3808 - val_accuracy: 0.8597\n",
      "Epoch 30/200\n",
      "3065/3065 [==============================] - 9s 3ms/step - loss: 0.4465 - accuracy: 0.8356 - val_loss: 0.3789 - val_accuracy: 0.8609\n",
      "Epoch 31/200\n",
      "3065/3065 [==============================] - 9s 3ms/step - loss: 0.4477 - accuracy: 0.8366 - val_loss: 0.3800 - val_accuracy: 0.8594\n",
      "Epoch 32/200\n",
      "3065/3065 [==============================] - 9s 3ms/step - loss: 0.4436 - accuracy: 0.8381 - val_loss: 0.3781 - val_accuracy: 0.8624\n",
      "Epoch 33/200\n",
      "3065/3065 [==============================] - 9s 3ms/step - loss: 0.4432 - accuracy: 0.8380 - val_loss: 0.3773 - val_accuracy: 0.8614\n",
      "Epoch 34/200\n",
      "3065/3065 [==============================] - 9s 3ms/step - loss: 0.4403 - accuracy: 0.8408 - val_loss: 0.3758 - val_accuracy: 0.8622\n",
      "Epoch 35/200\n",
      "3065/3065 [==============================] - 9s 3ms/step - loss: 0.4405 - accuracy: 0.8401 - val_loss: 0.3737 - val_accuracy: 0.8618\n",
      "Epoch 36/200\n",
      "3065/3065 [==============================] - 9s 3ms/step - loss: 0.4379 - accuracy: 0.8410 - val_loss: 0.3734 - val_accuracy: 0.8631\n",
      "Epoch 37/200\n",
      "3065/3065 [==============================] - 9s 3ms/step - loss: 0.4379 - accuracy: 0.8412 - val_loss: 0.3712 - val_accuracy: 0.8637\n",
      "Epoch 38/200\n",
      "3065/3065 [==============================] - 9s 3ms/step - loss: 0.4354 - accuracy: 0.8448 - val_loss: 0.3709 - val_accuracy: 0.8627\n",
      "Epoch 39/200\n",
      "3065/3065 [==============================] - 9s 3ms/step - loss: 0.4318 - accuracy: 0.8432 - val_loss: 0.3701 - val_accuracy: 0.8629\n",
      "Epoch 40/200\n",
      "3065/3065 [==============================] - 9s 3ms/step - loss: 0.4301 - accuracy: 0.8420 - val_loss: 0.3678 - val_accuracy: 0.8642\n",
      "Epoch 41/200\n",
      "3065/3065 [==============================] - 9s 3ms/step - loss: 0.4299 - accuracy: 0.8420 - val_loss: 0.3719 - val_accuracy: 0.8635\n",
      "Epoch 42/200\n",
      "3065/3065 [==============================] - 9s 3ms/step - loss: 0.4287 - accuracy: 0.8451 - val_loss: 0.3615 - val_accuracy: 0.8677\n",
      "Epoch 43/200\n",
      "3065/3065 [==============================] - 9s 3ms/step - loss: 0.4273 - accuracy: 0.8445 - val_loss: 0.3687 - val_accuracy: 0.8629\n",
      "Epoch 44/200\n",
      "3065/3065 [==============================] - 8s 3ms/step - loss: 0.4277 - accuracy: 0.8454 - val_loss: 0.3668 - val_accuracy: 0.8646\n",
      "Epoch 45/200\n",
      "3065/3065 [==============================] - 8s 3ms/step - loss: 0.4250 - accuracy: 0.8424 - val_loss: 0.3627 - val_accuracy: 0.8653\n",
      "Epoch 46/200\n",
      "3065/3065 [==============================] - 9s 3ms/step - loss: 0.4254 - accuracy: 0.8447 - val_loss: 0.3625 - val_accuracy: 0.8656\n",
      "Epoch 47/200\n",
      "3065/3065 [==============================] - 9s 3ms/step - loss: 0.4233 - accuracy: 0.8459 - val_loss: 0.3575 - val_accuracy: 0.8709\n",
      "Epoch 48/200\n",
      "3065/3065 [==============================] - 9s 3ms/step - loss: 0.4229 - accuracy: 0.8476 - val_loss: 0.3606 - val_accuracy: 0.8666\n",
      "Epoch 49/200\n",
      "3065/3065 [==============================] - 9s 3ms/step - loss: 0.4177 - accuracy: 0.8487 - val_loss: 0.3585 - val_accuracy: 0.8692\n",
      "Epoch 50/200\n",
      "3065/3065 [==============================] - 9s 3ms/step - loss: 0.4181 - accuracy: 0.8481 - val_loss: 0.3590 - val_accuracy: 0.8657\n",
      "Epoch 51/200\n",
      "3065/3065 [==============================] - 9s 3ms/step - loss: 0.4179 - accuracy: 0.8472 - val_loss: 0.3551 - val_accuracy: 0.8711\n",
      "Epoch 52/200\n",
      "3065/3065 [==============================] - 9s 3ms/step - loss: 0.4154 - accuracy: 0.8487 - val_loss: 0.3536 - val_accuracy: 0.8710\n",
      "Epoch 53/200\n",
      "3065/3065 [==============================] - 9s 3ms/step - loss: 0.4183 - accuracy: 0.8469 - val_loss: 0.3538 - val_accuracy: 0.8699\n",
      "Epoch 54/200\n",
      "3065/3065 [==============================] - 9s 3ms/step - loss: 0.4157 - accuracy: 0.8476 - val_loss: 0.3554 - val_accuracy: 0.8697\n",
      "Epoch 55/200\n",
      "3065/3065 [==============================] - 9s 3ms/step - loss: 0.4139 - accuracy: 0.8487 - val_loss: 0.3568 - val_accuracy: 0.8674\n",
      "Epoch 56/200\n",
      "3065/3065 [==============================] - 9s 3ms/step - loss: 0.4123 - accuracy: 0.8492 - val_loss: 0.3510 - val_accuracy: 0.8715\n",
      "Epoch 57/200\n",
      "3065/3065 [==============================] - 8s 3ms/step - loss: 0.4126 - accuracy: 0.8499 - val_loss: 0.3515 - val_accuracy: 0.8728\n",
      "Epoch 58/200\n",
      "3065/3065 [==============================] - 9s 3ms/step - loss: 0.4114 - accuracy: 0.8493 - val_loss: 0.3511 - val_accuracy: 0.8709\n",
      "Epoch 59/200\n",
      "3065/3065 [==============================] - 9s 3ms/step - loss: 0.4102 - accuracy: 0.8498 - val_loss: 0.3494 - val_accuracy: 0.8716\n",
      "Epoch 60/200\n",
      "3065/3065 [==============================] - 9s 3ms/step - loss: 0.4103 - accuracy: 0.8505 - val_loss: 0.3491 - val_accuracy: 0.8750\n",
      "Epoch 61/200\n",
      "3065/3065 [==============================] - 9s 3ms/step - loss: 0.4083 - accuracy: 0.8503 - val_loss: 0.3532 - val_accuracy: 0.8695\n",
      "Epoch 62/200\n",
      "3065/3065 [==============================] - 9s 3ms/step - loss: 0.4073 - accuracy: 0.8523 - val_loss: 0.3477 - val_accuracy: 0.8729\n",
      "Epoch 63/200\n",
      "3065/3065 [==============================] - 9s 3ms/step - loss: 0.4052 - accuracy: 0.8532 - val_loss: 0.3460 - val_accuracy: 0.8704\n",
      "Epoch 64/200\n",
      "3065/3065 [==============================] - 8s 3ms/step - loss: 0.4046 - accuracy: 0.8524 - val_loss: 0.3475 - val_accuracy: 0.8703\n",
      "Epoch 65/200\n",
      "3065/3065 [==============================] - 9s 3ms/step - loss: 0.4043 - accuracy: 0.8529 - val_loss: 0.3471 - val_accuracy: 0.8728\n",
      "Epoch 66/200\n",
      "3065/3065 [==============================] - 9s 3ms/step - loss: 0.4035 - accuracy: 0.8529 - val_loss: 0.3469 - val_accuracy: 0.8715\n",
      "Epoch 67/200\n",
      "3065/3065 [==============================] - 9s 3ms/step - loss: 0.4015 - accuracy: 0.8532 - val_loss: 0.3448 - val_accuracy: 0.8732\n",
      "Epoch 68/200\n",
      "3065/3065 [==============================] - 9s 3ms/step - loss: 0.4015 - accuracy: 0.8525 - val_loss: 0.3430 - val_accuracy: 0.8746\n",
      "Epoch 69/200\n",
      "3065/3065 [==============================] - 9s 3ms/step - loss: 0.4018 - accuracy: 0.8541 - val_loss: 0.3447 - val_accuracy: 0.8748\n",
      "Epoch 70/200\n",
      "3065/3065 [==============================] - 8s 3ms/step - loss: 0.4008 - accuracy: 0.8559 - val_loss: 0.3408 - val_accuracy: 0.8749\n",
      "Epoch 71/200\n",
      "3065/3065 [==============================] - 8s 3ms/step - loss: 0.4009 - accuracy: 0.8528 - val_loss: 0.3495 - val_accuracy: 0.8700\n",
      "Epoch 72/200\n",
      "3065/3065 [==============================] - 9s 3ms/step - loss: 0.4007 - accuracy: 0.8529 - val_loss: 0.3417 - val_accuracy: 0.8737\n",
      "Epoch 73/200\n",
      "3065/3065 [==============================] - 9s 3ms/step - loss: 0.4010 - accuracy: 0.8548 - val_loss: 0.3418 - val_accuracy: 0.8740\n",
      "Epoch 74/200\n",
      "3065/3065 [==============================] - 9s 3ms/step - loss: 0.3983 - accuracy: 0.8565 - val_loss: 0.3395 - val_accuracy: 0.8756\n",
      "Epoch 75/200\n",
      "3065/3065 [==============================] - 9s 3ms/step - loss: 0.4004 - accuracy: 0.8541 - val_loss: 0.3395 - val_accuracy: 0.8762\n",
      "Epoch 76/200\n",
      "3065/3065 [==============================] - 9s 3ms/step - loss: 0.3970 - accuracy: 0.8543 - val_loss: 0.3403 - val_accuracy: 0.8760\n",
      "Epoch 77/200\n",
      "3065/3065 [==============================] - 9s 3ms/step - loss: 0.3959 - accuracy: 0.8559 - val_loss: 0.3392 - val_accuracy: 0.8753\n",
      "Epoch 78/200\n",
      "3065/3065 [==============================] - 9s 3ms/step - loss: 0.3957 - accuracy: 0.8554 - val_loss: 0.3386 - val_accuracy: 0.8754\n",
      "Epoch 79/200\n",
      "3065/3065 [==============================] - 9s 3ms/step - loss: 0.3973 - accuracy: 0.8548 - val_loss: 0.3375 - val_accuracy: 0.8773\n",
      "Epoch 80/200\n",
      "3065/3065 [==============================] - 8s 3ms/step - loss: 0.3949 - accuracy: 0.8574 - val_loss: 0.3378 - val_accuracy: 0.8758\n",
      "Epoch 81/200\n",
      "3065/3065 [==============================] - 9s 3ms/step - loss: 0.3955 - accuracy: 0.8555 - val_loss: 0.3354 - val_accuracy: 0.8785\n",
      "Epoch 82/200\n",
      "3065/3065 [==============================] - 8s 3ms/step - loss: 0.3913 - accuracy: 0.8573 - val_loss: 0.3367 - val_accuracy: 0.8758\n",
      "Epoch 83/200\n",
      "3065/3065 [==============================] - 9s 3ms/step - loss: 0.3903 - accuracy: 0.8573 - val_loss: 0.3402 - val_accuracy: 0.8756\n",
      "Epoch 84/200\n",
      "3065/3065 [==============================] - 8s 3ms/step - loss: 0.3937 - accuracy: 0.8568 - val_loss: 0.3380 - val_accuracy: 0.8747\n",
      "Epoch 85/200\n",
      "3065/3065 [==============================] - 8s 3ms/step - loss: 0.3942 - accuracy: 0.8556 - val_loss: 0.3388 - val_accuracy: 0.8753\n",
      "Epoch 86/200\n",
      "3065/3065 [==============================] - 8s 3ms/step - loss: 0.3964 - accuracy: 0.8550 - val_loss: 0.3362 - val_accuracy: 0.8749\n",
      "Epoch 87/200\n",
      "3065/3065 [==============================] - 8s 3ms/step - loss: 0.3908 - accuracy: 0.8584 - val_loss: 0.3335 - val_accuracy: 0.8791\n",
      "Epoch 88/200\n",
      "3065/3065 [==============================] - 8s 3ms/step - loss: 0.3901 - accuracy: 0.8576 - val_loss: 0.3345 - val_accuracy: 0.8770\n",
      "Epoch 89/200\n",
      "3065/3065 [==============================] - 8s 3ms/step - loss: 0.3905 - accuracy: 0.8586 - val_loss: 0.3347 - val_accuracy: 0.8788\n",
      "Epoch 90/200\n",
      "3065/3065 [==============================] - 8s 3ms/step - loss: 0.3883 - accuracy: 0.8589 - val_loss: 0.3329 - val_accuracy: 0.8792\n",
      "Epoch 91/200\n",
      "3065/3065 [==============================] - 8s 3ms/step - loss: 0.3878 - accuracy: 0.8591 - val_loss: 0.3318 - val_accuracy: 0.8796\n",
      "Epoch 92/200\n",
      "3065/3065 [==============================] - 8s 3ms/step - loss: 0.3878 - accuracy: 0.8565 - val_loss: 0.3335 - val_accuracy: 0.8785\n",
      "Epoch 93/200\n",
      "3065/3065 [==============================] - 8s 3ms/step - loss: 0.3869 - accuracy: 0.8593 - val_loss: 0.3364 - val_accuracy: 0.8785\n",
      "Epoch 94/200\n",
      "3065/3065 [==============================] - 8s 3ms/step - loss: 0.3829 - accuracy: 0.8610 - val_loss: 0.3321 - val_accuracy: 0.8785\n",
      "Epoch 95/200\n",
      "3065/3065 [==============================] - 8s 3ms/step - loss: 0.3879 - accuracy: 0.8589 - val_loss: 0.3310 - val_accuracy: 0.8796\n",
      "Epoch 96/200\n",
      "3065/3065 [==============================] - 9s 3ms/step - loss: 0.3891 - accuracy: 0.8595 - val_loss: 0.3323 - val_accuracy: 0.8777\n",
      "Epoch 97/200\n",
      "3065/3065 [==============================] - 8s 3ms/step - loss: 0.3835 - accuracy: 0.8602 - val_loss: 0.3297 - val_accuracy: 0.8790\n",
      "Epoch 98/200\n",
      "3065/3065 [==============================] - 8s 3ms/step - loss: 0.3860 - accuracy: 0.8597 - val_loss: 0.3285 - val_accuracy: 0.8813\n",
      "Epoch 99/200\n",
      "3065/3065 [==============================] - 8s 3ms/step - loss: 0.3854 - accuracy: 0.8583 - val_loss: 0.3312 - val_accuracy: 0.8806\n",
      "Epoch 100/200\n",
      "3065/3065 [==============================] - 8s 3ms/step - loss: 0.3828 - accuracy: 0.8603 - val_loss: 0.3294 - val_accuracy: 0.8794\n",
      "Epoch 101/200\n",
      "3065/3065 [==============================] - 8s 3ms/step - loss: 0.3841 - accuracy: 0.8585 - val_loss: 0.3297 - val_accuracy: 0.8794\n",
      "Epoch 102/200\n",
      "3065/3065 [==============================] - 8s 3ms/step - loss: 0.3821 - accuracy: 0.8608 - val_loss: 0.3301 - val_accuracy: 0.8779\n",
      "Epoch 103/200\n",
      "3065/3065 [==============================] - 8s 3ms/step - loss: 0.3851 - accuracy: 0.8591 - val_loss: 0.3363 - val_accuracy: 0.8741\n",
      "Epoch 104/200\n",
      "3065/3065 [==============================] - 8s 3ms/step - loss: 0.3798 - accuracy: 0.8610 - val_loss: 0.3288 - val_accuracy: 0.8796\n",
      "Epoch 105/200\n",
      "3065/3065 [==============================] - 8s 3ms/step - loss: 0.3810 - accuracy: 0.8611 - val_loss: 0.3271 - val_accuracy: 0.8807\n",
      "Epoch 106/200\n",
      "3065/3065 [==============================] - 8s 3ms/step - loss: 0.3808 - accuracy: 0.8612 - val_loss: 0.3256 - val_accuracy: 0.8820\n",
      "Epoch 107/200\n",
      "3065/3065 [==============================] - 8s 3ms/step - loss: 0.3801 - accuracy: 0.8617 - val_loss: 0.3284 - val_accuracy: 0.8785\n",
      "Epoch 108/200\n",
      "3065/3065 [==============================] - 8s 3ms/step - loss: 0.3801 - accuracy: 0.8613 - val_loss: 0.3272 - val_accuracy: 0.8790\n",
      "Epoch 109/200\n",
      "3065/3065 [==============================] - 8s 3ms/step - loss: 0.3815 - accuracy: 0.8586 - val_loss: 0.3274 - val_accuracy: 0.8785\n",
      "Epoch 110/200\n",
      "3065/3065 [==============================] - 8s 3ms/step - loss: 0.3817 - accuracy: 0.8606 - val_loss: 0.3255 - val_accuracy: 0.8808\n",
      "Epoch 111/200\n",
      "3065/3065 [==============================] - 8s 3ms/step - loss: 0.3800 - accuracy: 0.8598 - val_loss: 0.3306 - val_accuracy: 0.8773\n",
      "Epoch 112/200\n",
      "3065/3065 [==============================] - 8s 3ms/step - loss: 0.3794 - accuracy: 0.8621 - val_loss: 0.3278 - val_accuracy: 0.8793\n",
      "Epoch 113/200\n",
      "3065/3065 [==============================] - 8s 3ms/step - loss: 0.3771 - accuracy: 0.8623 - val_loss: 0.3244 - val_accuracy: 0.8812\n",
      "Epoch 114/200\n",
      "3065/3065 [==============================] - 8s 3ms/step - loss: 0.3796 - accuracy: 0.8611 - val_loss: 0.3265 - val_accuracy: 0.8783\n",
      "Epoch 115/200\n",
      "3065/3065 [==============================] - 8s 3ms/step - loss: 0.3773 - accuracy: 0.8624 - val_loss: 0.3273 - val_accuracy: 0.8804\n",
      "Epoch 116/200\n",
      "3065/3065 [==============================] - 8s 3ms/step - loss: 0.3788 - accuracy: 0.8625 - val_loss: 0.3270 - val_accuracy: 0.8816\n",
      "Epoch 117/200\n",
      "3065/3065 [==============================] - 8s 3ms/step - loss: 0.3777 - accuracy: 0.8611 - val_loss: 0.3234 - val_accuracy: 0.8816\n",
      "Epoch 118/200\n",
      "3065/3065 [==============================] - 8s 3ms/step - loss: 0.3779 - accuracy: 0.8622 - val_loss: 0.3216 - val_accuracy: 0.8838\n",
      "Epoch 119/200\n",
      "3065/3065 [==============================] - 8s 3ms/step - loss: 0.3776 - accuracy: 0.8604 - val_loss: 0.3246 - val_accuracy: 0.8815\n",
      "Epoch 120/200\n",
      "3065/3065 [==============================] - 8s 3ms/step - loss: 0.3765 - accuracy: 0.8619 - val_loss: 0.3236 - val_accuracy: 0.8806\n",
      "Epoch 121/200\n",
      "3065/3065 [==============================] - 8s 3ms/step - loss: 0.3748 - accuracy: 0.8630 - val_loss: 0.3212 - val_accuracy: 0.8831\n",
      "Epoch 122/200\n",
      "3065/3065 [==============================] - 8s 3ms/step - loss: 0.3752 - accuracy: 0.8630 - val_loss: 0.3263 - val_accuracy: 0.8802\n",
      "Epoch 123/200\n",
      "3065/3065 [==============================] - 8s 3ms/step - loss: 0.3765 - accuracy: 0.8627 - val_loss: 0.3245 - val_accuracy: 0.8798\n",
      "Epoch 124/200\n",
      "3065/3065 [==============================] - 9s 3ms/step - loss: 0.3767 - accuracy: 0.8631 - val_loss: 0.3241 - val_accuracy: 0.8805\n",
      "Epoch 125/200\n",
      "3065/3065 [==============================] - 8s 3ms/step - loss: 0.3705 - accuracy: 0.8625 - val_loss: 0.3231 - val_accuracy: 0.8826\n",
      "Epoch 126/200\n",
      "3065/3065 [==============================] - 8s 3ms/step - loss: 0.3732 - accuracy: 0.8634 - val_loss: 0.3206 - val_accuracy: 0.8823\n",
      "Epoch 127/200\n",
      "3065/3065 [==============================] - 8s 3ms/step - loss: 0.3738 - accuracy: 0.8634 - val_loss: 0.3194 - val_accuracy: 0.8842\n",
      "Epoch 128/200\n",
      "3065/3065 [==============================] - 8s 3ms/step - loss: 0.3760 - accuracy: 0.8622 - val_loss: 0.3265 - val_accuracy: 0.8820\n",
      "Epoch 129/200\n",
      "3065/3065 [==============================] - 8s 3ms/step - loss: 0.3733 - accuracy: 0.8635 - val_loss: 0.3209 - val_accuracy: 0.8825\n",
      "Epoch 130/200\n",
      "3065/3065 [==============================] - 8s 3ms/step - loss: 0.3716 - accuracy: 0.8636 - val_loss: 0.3211 - val_accuracy: 0.8832\n",
      "Epoch 131/200\n",
      "3065/3065 [==============================] - 8s 3ms/step - loss: 0.3704 - accuracy: 0.8662 - val_loss: 0.3206 - val_accuracy: 0.8816\n",
      "Epoch 132/200\n",
      "3065/3065 [==============================] - 8s 3ms/step - loss: 0.3718 - accuracy: 0.8644 - val_loss: 0.3205 - val_accuracy: 0.8843\n",
      "Epoch 133/200\n",
      "3065/3065 [==============================] - 8s 3ms/step - loss: 0.3745 - accuracy: 0.8639 - val_loss: 0.3207 - val_accuracy: 0.8806\n",
      "Epoch 134/200\n",
      "3065/3065 [==============================] - 8s 3ms/step - loss: 0.3724 - accuracy: 0.8651 - val_loss: 0.3191 - val_accuracy: 0.8821\n",
      "Epoch 135/200\n",
      "3065/3065 [==============================] - 8s 3ms/step - loss: 0.3741 - accuracy: 0.8654 - val_loss: 0.3182 - val_accuracy: 0.8829\n",
      "Epoch 136/200\n",
      "3065/3065 [==============================] - 8s 3ms/step - loss: 0.3691 - accuracy: 0.8648 - val_loss: 0.3195 - val_accuracy: 0.8828\n",
      "Epoch 137/200\n",
      "3065/3065 [==============================] - 8s 3ms/step - loss: 0.3715 - accuracy: 0.8651 - val_loss: 0.3171 - val_accuracy: 0.8848\n",
      "Epoch 138/200\n",
      "3065/3065 [==============================] - 8s 3ms/step - loss: 0.3703 - accuracy: 0.8649 - val_loss: 0.3182 - val_accuracy: 0.8837\n",
      "Epoch 139/200\n",
      "3065/3065 [==============================] - 8s 3ms/step - loss: 0.3695 - accuracy: 0.8653 - val_loss: 0.3210 - val_accuracy: 0.8816\n",
      "Epoch 140/200\n",
      "3065/3065 [==============================] - 8s 3ms/step - loss: 0.3678 - accuracy: 0.8653 - val_loss: 0.3168 - val_accuracy: 0.8869\n",
      "Epoch 141/200\n",
      "3065/3065 [==============================] - 8s 3ms/step - loss: 0.3686 - accuracy: 0.8645 - val_loss: 0.3161 - val_accuracy: 0.8865\n",
      "Epoch 142/200\n",
      "3065/3065 [==============================] - 8s 3ms/step - loss: 0.3672 - accuracy: 0.8651 - val_loss: 0.3177 - val_accuracy: 0.8832\n",
      "Epoch 143/200\n",
      "3065/3065 [==============================] - 8s 3ms/step - loss: 0.3709 - accuracy: 0.8657 - val_loss: 0.3174 - val_accuracy: 0.8845\n",
      "Epoch 144/200\n",
      "3065/3065 [==============================] - 8s 3ms/step - loss: 0.3682 - accuracy: 0.8643 - val_loss: 0.3170 - val_accuracy: 0.8830\n",
      "Epoch 145/200\n",
      "3065/3065 [==============================] - 8s 3ms/step - loss: 0.3679 - accuracy: 0.8661 - val_loss: 0.3152 - val_accuracy: 0.8862\n",
      "Epoch 146/200\n",
      "3065/3065 [==============================] - 8s 3ms/step - loss: 0.3702 - accuracy: 0.8636 - val_loss: 0.3174 - val_accuracy: 0.8821\n",
      "Epoch 147/200\n",
      "3065/3065 [==============================] - 8s 3ms/step - loss: 0.3665 - accuracy: 0.8667 - val_loss: 0.3188 - val_accuracy: 0.8816\n",
      "Epoch 148/200\n",
      "3065/3065 [==============================] - 8s 3ms/step - loss: 0.3680 - accuracy: 0.8651 - val_loss: 0.3156 - val_accuracy: 0.8839\n",
      "Epoch 149/200\n",
      "3065/3065 [==============================] - 8s 3ms/step - loss: 0.3696 - accuracy: 0.8654 - val_loss: 0.3167 - val_accuracy: 0.8830\n",
      "Epoch 150/200\n",
      "3065/3065 [==============================] - 8s 3ms/step - loss: 0.3690 - accuracy: 0.8665 - val_loss: 0.3160 - val_accuracy: 0.8842\n",
      "Epoch 151/200\n",
      "3065/3065 [==============================] - 8s 3ms/step - loss: 0.3669 - accuracy: 0.8660 - val_loss: 0.3148 - val_accuracy: 0.8856\n",
      "Epoch 152/200\n",
      "3065/3065 [==============================] - 8s 3ms/step - loss: 0.3671 - accuracy: 0.8654 - val_loss: 0.3149 - val_accuracy: 0.8843\n",
      "Epoch 153/200\n",
      "3065/3065 [==============================] - 8s 3ms/step - loss: 0.3662 - accuracy: 0.8661 - val_loss: 0.3165 - val_accuracy: 0.8843\n",
      "Epoch 154/200\n",
      "3065/3065 [==============================] - 8s 3ms/step - loss: 0.3662 - accuracy: 0.8677 - val_loss: 0.3157 - val_accuracy: 0.8861\n",
      "Epoch 155/200\n",
      "3065/3065 [==============================] - 8s 3ms/step - loss: 0.3625 - accuracy: 0.8676 - val_loss: 0.3133 - val_accuracy: 0.8858\n",
      "Epoch 156/200\n",
      "3065/3065 [==============================] - 8s 3ms/step - loss: 0.3657 - accuracy: 0.8674 - val_loss: 0.3154 - val_accuracy: 0.8850\n",
      "Epoch 157/200\n",
      "3065/3065 [==============================] - 8s 3ms/step - loss: 0.3642 - accuracy: 0.8668 - val_loss: 0.3162 - val_accuracy: 0.8835\n",
      "Epoch 158/200\n",
      "3065/3065 [==============================] - 8s 3ms/step - loss: 0.3664 - accuracy: 0.8663 - val_loss: 0.3162 - val_accuracy: 0.8838\n",
      "Epoch 159/200\n",
      "3065/3065 [==============================] - 8s 3ms/step - loss: 0.3635 - accuracy: 0.8678 - val_loss: 0.3144 - val_accuracy: 0.8848\n",
      "Epoch 160/200\n",
      "3065/3065 [==============================] - 8s 3ms/step - loss: 0.3667 - accuracy: 0.8647 - val_loss: 0.3153 - val_accuracy: 0.8842\n",
      "Epoch 161/200\n",
      "3065/3065 [==============================] - 8s 3ms/step - loss: 0.3637 - accuracy: 0.8669 - val_loss: 0.3125 - val_accuracy: 0.8856\n",
      "Epoch 162/200\n",
      "3065/3065 [==============================] - 8s 3ms/step - loss: 0.3656 - accuracy: 0.8670 - val_loss: 0.3128 - val_accuracy: 0.8871\n",
      "Epoch 163/200\n",
      "3065/3065 [==============================] - 8s 3ms/step - loss: 0.3644 - accuracy: 0.8667 - val_loss: 0.3121 - val_accuracy: 0.8873\n",
      "Epoch 164/200\n",
      "3065/3065 [==============================] - 8s 3ms/step - loss: 0.3622 - accuracy: 0.8684 - val_loss: 0.3135 - val_accuracy: 0.8858\n",
      "Epoch 165/200\n",
      "3065/3065 [==============================] - 8s 3ms/step - loss: 0.3665 - accuracy: 0.8660 - val_loss: 0.3141 - val_accuracy: 0.8871\n",
      "Epoch 166/200\n",
      "3065/3065 [==============================] - 8s 3ms/step - loss: 0.3641 - accuracy: 0.8676 - val_loss: 0.3132 - val_accuracy: 0.8844\n",
      "Epoch 167/200\n",
      "3065/3065 [==============================] - 8s 3ms/step - loss: 0.3622 - accuracy: 0.8661 - val_loss: 0.3127 - val_accuracy: 0.8856\n",
      "Epoch 168/200\n",
      "3065/3065 [==============================] - 8s 3ms/step - loss: 0.3637 - accuracy: 0.8658 - val_loss: 0.3145 - val_accuracy: 0.8852\n",
      "Epoch 169/200\n",
      "3065/3065 [==============================] - 8s 3ms/step - loss: 0.3653 - accuracy: 0.8661 - val_loss: 0.3132 - val_accuracy: 0.8854\n",
      "Epoch 170/200\n",
      "3065/3065 [==============================] - 8s 3ms/step - loss: 0.3632 - accuracy: 0.8669 - val_loss: 0.3126 - val_accuracy: 0.8849\n",
      "Epoch 171/200\n",
      "3065/3065 [==============================] - 8s 3ms/step - loss: 0.3614 - accuracy: 0.8670 - val_loss: 0.3134 - val_accuracy: 0.8858\n",
      "Epoch 172/200\n",
      "3065/3065 [==============================] - 8s 3ms/step - loss: 0.3567 - accuracy: 0.8694 - val_loss: 0.3110 - val_accuracy: 0.8861\n",
      "Epoch 173/200\n",
      "3065/3065 [==============================] - 8s 3ms/step - loss: 0.3622 - accuracy: 0.8687 - val_loss: 0.3106 - val_accuracy: 0.8867\n",
      "Epoch 174/200\n",
      "3065/3065 [==============================] - 8s 3ms/step - loss: 0.3638 - accuracy: 0.8684 - val_loss: 0.3105 - val_accuracy: 0.8863\n",
      "Epoch 175/200\n",
      "3065/3065 [==============================] - 8s 3ms/step - loss: 0.3636 - accuracy: 0.8668 - val_loss: 0.3095 - val_accuracy: 0.8869\n",
      "Epoch 176/200\n",
      "3065/3065 [==============================] - 8s 3ms/step - loss: 0.3647 - accuracy: 0.8683 - val_loss: 0.3119 - val_accuracy: 0.8874\n",
      "Epoch 177/200\n",
      "3065/3065 [==============================] - 8s 3ms/step - loss: 0.3611 - accuracy: 0.8700 - val_loss: 0.3098 - val_accuracy: 0.8871\n",
      "Epoch 178/200\n",
      "3065/3065 [==============================] - 8s 3ms/step - loss: 0.3580 - accuracy: 0.8689 - val_loss: 0.3087 - val_accuracy: 0.8885\n",
      "Epoch 179/200\n",
      "3065/3065 [==============================] - 8s 3ms/step - loss: 0.3613 - accuracy: 0.8676 - val_loss: 0.3101 - val_accuracy: 0.8885\n",
      "Epoch 180/200\n",
      "3065/3065 [==============================] - 8s 3ms/step - loss: 0.3600 - accuracy: 0.8674 - val_loss: 0.3076 - val_accuracy: 0.8869\n",
      "Epoch 181/200\n",
      "3065/3065 [==============================] - 8s 3ms/step - loss: 0.3612 - accuracy: 0.8684 - val_loss: 0.3133 - val_accuracy: 0.8858\n",
      "Epoch 182/200\n",
      "3065/3065 [==============================] - 8s 3ms/step - loss: 0.3609 - accuracy: 0.8692 - val_loss: 0.3104 - val_accuracy: 0.8869\n",
      "Epoch 183/200\n",
      "3065/3065 [==============================] - 8s 3ms/step - loss: 0.3597 - accuracy: 0.8705 - val_loss: 0.3105 - val_accuracy: 0.8865\n",
      "Epoch 184/200\n",
      "3065/3065 [==============================] - 8s 3ms/step - loss: 0.3575 - accuracy: 0.8683 - val_loss: 0.3103 - val_accuracy: 0.8870\n",
      "Epoch 185/200\n",
      "3065/3065 [==============================] - 8s 3ms/step - loss: 0.3578 - accuracy: 0.8683 - val_loss: 0.3101 - val_accuracy: 0.8865\n",
      "Epoch 186/200\n",
      "3065/3065 [==============================] - 8s 3ms/step - loss: 0.3589 - accuracy: 0.8682 - val_loss: 0.3097 - val_accuracy: 0.8869\n",
      "Epoch 187/200\n",
      "3065/3065 [==============================] - 8s 3ms/step - loss: 0.3559 - accuracy: 0.8686 - val_loss: 0.3095 - val_accuracy: 0.8873\n",
      "Epoch 188/200\n",
      "3065/3065 [==============================] - 8s 3ms/step - loss: 0.3578 - accuracy: 0.8684 - val_loss: 0.3097 - val_accuracy: 0.8863\n",
      "Epoch 189/200\n",
      "3065/3065 [==============================] - 8s 3ms/step - loss: 0.3592 - accuracy: 0.8681 - val_loss: 0.3090 - val_accuracy: 0.8867\n",
      "Epoch 190/200\n",
      "3065/3065 [==============================] - 8s 3ms/step - loss: 0.3590 - accuracy: 0.8686 - val_loss: 0.3116 - val_accuracy: 0.8861\n",
      "Epoch 191/200\n",
      "3065/3065 [==============================] - 8s 3ms/step - loss: 0.3554 - accuracy: 0.8684 - val_loss: 0.3101 - val_accuracy: 0.8868\n",
      "Epoch 192/200\n",
      "3065/3065 [==============================] - 8s 3ms/step - loss: 0.3559 - accuracy: 0.8700 - val_loss: 0.3070 - val_accuracy: 0.8882\n",
      "Epoch 193/200\n",
      "3065/3065 [==============================] - 8s 3ms/step - loss: 0.3564 - accuracy: 0.8716 - val_loss: 0.3103 - val_accuracy: 0.8871\n",
      "Epoch 194/200\n",
      "3065/3065 [==============================] - 8s 3ms/step - loss: 0.3560 - accuracy: 0.8690 - val_loss: 0.3081 - val_accuracy: 0.8881\n",
      "Epoch 195/200\n",
      "3065/3065 [==============================] - 8s 3ms/step - loss: 0.3556 - accuracy: 0.8693 - val_loss: 0.3084 - val_accuracy: 0.8876\n",
      "Epoch 196/200\n",
      "3065/3065 [==============================] - 8s 3ms/step - loss: 0.3565 - accuracy: 0.8711 - val_loss: 0.3051 - val_accuracy: 0.8892\n",
      "Epoch 197/200\n",
      "3065/3065 [==============================] - 8s 3ms/step - loss: 0.3559 - accuracy: 0.8710 - val_loss: 0.3091 - val_accuracy: 0.8873\n",
      "Epoch 198/200\n",
      "3065/3065 [==============================] - 8s 3ms/step - loss: 0.3579 - accuracy: 0.8676 - val_loss: 0.3089 - val_accuracy: 0.8878\n",
      "Epoch 199/200\n",
      "3065/3065 [==============================] - 8s 3ms/step - loss: 0.3570 - accuracy: 0.8694 - val_loss: 0.3089 - val_accuracy: 0.8871\n",
      "Epoch 200/200\n",
      "3065/3065 [==============================] - 8s 3ms/step - loss: 0.3574 - accuracy: 0.8696 - val_loss: 0.3045 - val_accuracy: 0.8888\n"
     ]
    }
   ],
   "source": [
    "# este paso puede tomar varios minutos, dependiendo de tu ordenador, cpu y memoria ram libre\n",
    "flor_train = flor_model.fit(train_X, train_label, batch_size=batch_size,epochs=epochs,verbose=1,validation_data=(valid_X, valid_label))"
   ]
  },
  {
   "cell_type": "code",
   "execution_count": 20,
   "metadata": {
    "ExecuteTime": {
     "end_time": "2018-11-08T00:20:49.676566Z",
     "start_time": "2018-11-08T00:20:49.566203Z"
    }
   },
   "outputs": [
    {
     "name": "stdout",
     "output_type": "stream",
     "text": [
      "INFO:tensorflow:Assets written to: ./flor_model.h5py\\assets\n"
     ]
    },
    {
     "name": "stderr",
     "output_type": "stream",
     "text": [
      "INFO:tensorflow:Assets written to: ./flor_model.h5py\\assets\n"
     ]
    }
   ],
   "source": [
    "# guardamos la red, para reutilizarla en el futuro, sin tener que volver a entrenar\n",
    "\"\"\" flor_model.save(\"/home/likcos/setDocto/celulas.h5py\") \"\"\"\n",
    "flor_model.save(\"./flor_model.h5py\")"
   ]
  },
  {
   "cell_type": "markdown",
   "metadata": {},
   "source": [
    "# Evaluamos la red"
   ]
  },
  {
   "cell_type": "code",
   "execution_count": 21,
   "metadata": {
    "ExecuteTime": {
     "end_time": "2018-11-08T00:20:54.462929Z",
     "start_time": "2018-11-08T00:20:49.678643Z"
    }
   },
   "outputs": [
    {
     "name": "stdout",
     "output_type": "stream",
     "text": [
      "479/479 [==============================] - 1s 1ms/step - loss: 0.2893 - accuracy: 0.8947\n"
     ]
    }
   ],
   "source": [
    "test_eval = flor_model.evaluate(test_X, test_Y_one_hot, verbose=1)"
   ]
  },
  {
   "cell_type": "code",
   "execution_count": 22,
   "metadata": {
    "ExecuteTime": {
     "end_time": "2018-11-08T00:20:54.474683Z",
     "start_time": "2018-11-08T00:20:54.465378Z"
    }
   },
   "outputs": [
    {
     "name": "stdout",
     "output_type": "stream",
     "text": [
      "Test loss: 0.28932806849479675\n",
      "Test accuracy: 0.8946818709373474\n"
     ]
    }
   ],
   "source": [
    "print('Test loss:', test_eval[0])\n",
    "print('Test accuracy:', test_eval[1])"
   ]
  },
  {
   "cell_type": "code",
   "execution_count": 23,
   "metadata": {},
   "outputs": [
    {
     "data": {
      "text/plain": [
       "{'loss': [1.0607829093933105,\n",
       "  0.8028667569160461,\n",
       "  0.7192361354827881,\n",
       "  0.6675447821617126,\n",
       "  0.6314215064048767,\n",
       "  0.6043760776519775,\n",
       "  0.5825626850128174,\n",
       "  0.5655426383018494,\n",
       "  0.5491377711296082,\n",
       "  0.5402011871337891,\n",
       "  0.5280810594558716,\n",
       "  0.5189332365989685,\n",
       "  0.5129774808883667,\n",
       "  0.5046629905700684,\n",
       "  0.49985331296920776,\n",
       "  0.4942205250263214,\n",
       "  0.488523006439209,\n",
       "  0.4839508831501007,\n",
       "  0.47818467020988464,\n",
       "  0.4804397523403168,\n",
       "  0.47467344999313354,\n",
       "  0.4704866111278534,\n",
       "  0.4710451066493988,\n",
       "  0.46464619040489197,\n",
       "  0.46438631415367126,\n",
       "  0.4587947428226471,\n",
       "  0.45273739099502563,\n",
       "  0.4551866352558136,\n",
       "  0.4485599398612976,\n",
       "  0.4465485215187073,\n",
       "  0.44770169258117676,\n",
       "  0.4435846209526062,\n",
       "  0.44324782490730286,\n",
       "  0.4402995705604553,\n",
       "  0.4405394494533539,\n",
       "  0.4379117488861084,\n",
       "  0.4379238188266754,\n",
       "  0.43541476130485535,\n",
       "  0.4317876100540161,\n",
       "  0.43013566732406616,\n",
       "  0.42987337708473206,\n",
       "  0.42868533730506897,\n",
       "  0.4272651672363281,\n",
       "  0.42767420411109924,\n",
       "  0.42500603199005127,\n",
       "  0.4254082143306732,\n",
       "  0.42329496145248413,\n",
       "  0.4229453504085541,\n",
       "  0.4177255630493164,\n",
       "  0.4181027412414551,\n",
       "  0.4179440438747406,\n",
       "  0.4153538644313812,\n",
       "  0.418335884809494,\n",
       "  0.41566380858421326,\n",
       "  0.4138501286506653,\n",
       "  0.4122733473777771,\n",
       "  0.4126049280166626,\n",
       "  0.4113927185535431,\n",
       "  0.4102206230163574,\n",
       "  0.41033700108528137,\n",
       "  0.4082580506801605,\n",
       "  0.4073496460914612,\n",
       "  0.4051607847213745,\n",
       "  0.4046267867088318,\n",
       "  0.4043254256248474,\n",
       "  0.4034566581249237,\n",
       "  0.4014896750450134,\n",
       "  0.4014747440814972,\n",
       "  0.40176987648010254,\n",
       "  0.40084144473075867,\n",
       "  0.40091803669929504,\n",
       "  0.4007379710674286,\n",
       "  0.4009872078895569,\n",
       "  0.39829808473587036,\n",
       "  0.40041425824165344,\n",
       "  0.39704930782318115,\n",
       "  0.3959158957004547,\n",
       "  0.3957119584083557,\n",
       "  0.3973182141780853,\n",
       "  0.3948823809623718,\n",
       "  0.3954765200614929,\n",
       "  0.39131075143814087,\n",
       "  0.3903394937515259,\n",
       "  0.39366212487220764,\n",
       "  0.39421194791793823,\n",
       "  0.39642032980918884,\n",
       "  0.39083629846572876,\n",
       "  0.390142023563385,\n",
       "  0.3905031979084015,\n",
       "  0.38830268383026123,\n",
       "  0.38784167170524597,\n",
       "  0.3877880275249481,\n",
       "  0.38693952560424805,\n",
       "  0.3829058110713959,\n",
       "  0.3879169523715973,\n",
       "  0.3891303837299347,\n",
       "  0.38350561261177063,\n",
       "  0.3860034942626953,\n",
       "  0.38542938232421875,\n",
       "  0.3827885091304779,\n",
       "  0.384134441614151,\n",
       "  0.38210374116897583,\n",
       "  0.3850584924221039,\n",
       "  0.3797685503959656,\n",
       "  0.38095545768737793,\n",
       "  0.38082170486450195,\n",
       "  0.38012024760246277,\n",
       "  0.3800954520702362,\n",
       "  0.38154807686805725,\n",
       "  0.3816783130168915,\n",
       "  0.38002893328666687,\n",
       "  0.3794458210468292,\n",
       "  0.37710437178611755,\n",
       "  0.37961289286613464,\n",
       "  0.3772851824760437,\n",
       "  0.37880435585975647,\n",
       "  0.3776834309101105,\n",
       "  0.3779453635215759,\n",
       "  0.3776412308216095,\n",
       "  0.3764731287956238,\n",
       "  0.3748411536216736,\n",
       "  0.3751720190048218,\n",
       "  0.3764703869819641,\n",
       "  0.3767015337944031,\n",
       "  0.37050798535346985,\n",
       "  0.3732444643974304,\n",
       "  0.3737599849700928,\n",
       "  0.3760448396205902,\n",
       "  0.37332507967948914,\n",
       "  0.3716486990451813,\n",
       "  0.37044188380241394,\n",
       "  0.3718224763870239,\n",
       "  0.37447306513786316,\n",
       "  0.37241262197494507,\n",
       "  0.37407711148262024,\n",
       "  0.3691365718841553,\n",
       "  0.3714630901813507,\n",
       "  0.37029406428337097,\n",
       "  0.3695265054702759,\n",
       "  0.367835134267807,\n",
       "  0.36860498785972595,\n",
       "  0.36724764108657837,\n",
       "  0.37085697054862976,\n",
       "  0.3681667447090149,\n",
       "  0.36788439750671387,\n",
       "  0.37019750475883484,\n",
       "  0.36652588844299316,\n",
       "  0.3680068850517273,\n",
       "  0.36962127685546875,\n",
       "  0.36901921033859253,\n",
       "  0.3668784499168396,\n",
       "  0.36706462502479553,\n",
       "  0.36621835827827454,\n",
       "  0.3662472367286682,\n",
       "  0.36245375871658325,\n",
       "  0.36565497517585754,\n",
       "  0.3642386198043823,\n",
       "  0.3664313852787018,\n",
       "  0.3635311722755432,\n",
       "  0.3666688799858093,\n",
       "  0.3636507987976074,\n",
       "  0.36556383967399597,\n",
       "  0.36440229415893555,\n",
       "  0.362240195274353,\n",
       "  0.36647605895996094,\n",
       "  0.3640681207180023,\n",
       "  0.3622385859489441,\n",
       "  0.3637479841709137,\n",
       "  0.3653061091899872,\n",
       "  0.36321544647216797,\n",
       "  0.36139193177223206,\n",
       "  0.35668841004371643,\n",
       "  0.36215242743492126,\n",
       "  0.3638383746147156,\n",
       "  0.36360451579093933,\n",
       "  0.3646717369556427,\n",
       "  0.36105266213417053,\n",
       "  0.357964426279068,\n",
       "  0.3612765967845917,\n",
       "  0.3599965274333954,\n",
       "  0.36123618483543396,\n",
       "  0.3608545958995819,\n",
       "  0.35973837971687317,\n",
       "  0.35747113823890686,\n",
       "  0.3577769994735718,\n",
       "  0.35885104537010193,\n",
       "  0.3559161424636841,\n",
       "  0.3578007221221924,\n",
       "  0.35923096537590027,\n",
       "  0.35898056626319885,\n",
       "  0.3554462194442749,\n",
       "  0.3558603525161743,\n",
       "  0.3564090430736542,\n",
       "  0.35601165890693665,\n",
       "  0.355645090341568,\n",
       "  0.35653355717658997,\n",
       "  0.3558598458766937,\n",
       "  0.3578682839870453,\n",
       "  0.3570256531238556,\n",
       "  0.3573572635650635],\n",
       " 'accuracy': [0.5830087661743164,\n",
       "  0.7010828852653503,\n",
       "  0.7332626581192017,\n",
       "  0.7532475590705872,\n",
       "  0.7674205303192139,\n",
       "  0.7804514765739441,\n",
       "  0.7880783677101135,\n",
       "  0.794808030128479,\n",
       "  0.7997226715087891,\n",
       "  0.8041275143623352,\n",
       "  0.8081856369972229,\n",
       "  0.8103880882263184,\n",
       "  0.8147929310798645,\n",
       "  0.8173828125,\n",
       "  0.8183412551879883,\n",
       "  0.8214001655578613,\n",
       "  0.8223994374275208,\n",
       "  0.8237453103065491,\n",
       "  0.8260089159011841,\n",
       "  0.824418306350708,\n",
       "  0.8287619352340698,\n",
       "  0.8298223614692688,\n",
       "  0.8308216333389282,\n",
       "  0.8304137587547302,\n",
       "  0.8292717933654785,\n",
       "  0.8335134983062744,\n",
       "  0.8355935215950012,\n",
       "  0.8352060914039612,\n",
       "  0.8363072872161865,\n",
       "  0.8355935215950012,\n",
       "  0.8366131782531738,\n",
       "  0.838081419467926,\n",
       "  0.8379591107368469,\n",
       "  0.8408140540122986,\n",
       "  0.8401411175727844,\n",
       "  0.84101802110672,\n",
       "  0.8412015438079834,\n",
       "  0.8447702527046204,\n",
       "  0.8431592583656311,\n",
       "  0.8420376181602478,\n",
       "  0.8419560790061951,\n",
       "  0.8450965881347656,\n",
       "  0.8445459604263306,\n",
       "  0.8453616499900818,\n",
       "  0.8423843383789062,\n",
       "  0.8446887135505676,\n",
       "  0.8458715081214905,\n",
       "  0.8476048707962036,\n",
       "  0.8486652970314026,\n",
       "  0.8481146693229675,\n",
       "  0.8472173810005188,\n",
       "  0.8486856818199158,\n",
       "  0.8468911051750183,\n",
       "  0.8475641012191772,\n",
       "  0.8487264513969421,\n",
       "  0.8491750955581665,\n",
       "  0.849909245967865,\n",
       "  0.8493178486824036,\n",
       "  0.8498277068138123,\n",
       "  0.8504802584648132,\n",
       "  0.8502763509750366,\n",
       "  0.8522543907165527,\n",
       "  0.853233277797699,\n",
       "  0.8524175882339478,\n",
       "  0.8529273867607117,\n",
       "  0.8528662323951721,\n",
       "  0.8531516790390015,\n",
       "  0.8524991273880005,\n",
       "  0.8540897965431213,\n",
       "  0.855884313583374,\n",
       "  0.852825403213501,\n",
       "  0.8528662323951721,\n",
       "  0.8548442721366882,\n",
       "  0.8564960956573486,\n",
       "  0.8541101813316345,\n",
       "  0.8542529344558716,\n",
       "  0.8558639287948608,\n",
       "  0.8553948998451233,\n",
       "  0.8547831177711487,\n",
       "  0.8573729991912842,\n",
       "  0.8555376529693604,\n",
       "  0.8573118448257446,\n",
       "  0.8573322296142578,\n",
       "  0.8568223714828491,\n",
       "  0.8555988073348999,\n",
       "  0.8549666404724121,\n",
       "  0.85841304063797,\n",
       "  0.8576177358627319,\n",
       "  0.8586169481277466,\n",
       "  0.8588820695877075,\n",
       "  0.8590859770774841,\n",
       "  0.8565369248390198,\n",
       "  0.8592899441719055,\n",
       "  0.8610029220581055,\n",
       "  0.8589228391647339,\n",
       "  0.8595346212387085,\n",
       "  0.8602280020713806,\n",
       "  0.8596569895744324,\n",
       "  0.8582906723022461,\n",
       "  0.8603095412254333,\n",
       "  0.8584741950035095,\n",
       "  0.860819399356842,\n",
       "  0.8591471910476685,\n",
       "  0.8610029220581055,\n",
       "  0.8610844612121582,\n",
       "  0.8612068295478821,\n",
       "  0.8617166876792908,\n",
       "  0.8613495826721191,\n",
       "  0.8585965633392334,\n",
       "  0.8605746626853943,\n",
       "  0.8597589731216431,\n",
       "  0.8620633482933044,\n",
       "  0.8623080253601074,\n",
       "  0.8610844612121582,\n",
       "  0.8624100089073181,\n",
       "  0.8624712228775024,\n",
       "  0.8611049056053162,\n",
       "  0.8621857166290283,\n",
       "  0.860411524772644,\n",
       "  0.8619002103805542,\n",
       "  0.8630014061927795,\n",
       "  0.8629810214042664,\n",
       "  0.8627362847328186,\n",
       "  0.8630625605583191,\n",
       "  0.8624712228775024,\n",
       "  0.8634092807769775,\n",
       "  0.8633888959884644,\n",
       "  0.8621857166290283,\n",
       "  0.8635315895080566,\n",
       "  0.863592803478241,\n",
       "  0.8662030696868896,\n",
       "  0.864388108253479,\n",
       "  0.8639394640922546,\n",
       "  0.8651426434516907,\n",
       "  0.8653669953346252,\n",
       "  0.8647755980491638,\n",
       "  0.8650814890861511,\n",
       "  0.8648571372032166,\n",
       "  0.8653057813644409,\n",
       "  0.8652650117874146,\n",
       "  0.8645104765892029,\n",
       "  0.8651426434516907,\n",
       "  0.8656728863716125,\n",
       "  0.8642657399177551,\n",
       "  0.8661214709281921,\n",
       "  0.8635724186897278,\n",
       "  0.866651713848114,\n",
       "  0.8651018738746643,\n",
       "  0.8654281497001648,\n",
       "  0.8665497303009033,\n",
       "  0.8659787774085999,\n",
       "  0.8654077649116516,\n",
       "  0.8660807013511658,\n",
       "  0.8676509857177734,\n",
       "  0.8676101565361023,\n",
       "  0.8673858642578125,\n",
       "  0.8667944669723511,\n",
       "  0.8663050532341003,\n",
       "  0.8677529096603394,\n",
       "  0.8647347688674927,\n",
       "  0.8668964505195618,\n",
       "  0.8669576048851013,\n",
       "  0.866651713848114,\n",
       "  0.8684259057044983,\n",
       "  0.8659583330154419,\n",
       "  0.8676101565361023,\n",
       "  0.8661419153213501,\n",
       "  0.8657544255256653,\n",
       "  0.8661419153213501,\n",
       "  0.8668760061264038,\n",
       "  0.8669779896736145,\n",
       "  0.8693639636039734,\n",
       "  0.8687317967414856,\n",
       "  0.8683850765228271,\n",
       "  0.8667536973953247,\n",
       "  0.8683035373687744,\n",
       "  0.8699553608894348,\n",
       "  0.8688745498657227,\n",
       "  0.8675897717475891,\n",
       "  0.867447018623352,\n",
       "  0.8684462904930115,\n",
       "  0.86918044090271,\n",
       "  0.8704651594161987,\n",
       "  0.8683443069458008,\n",
       "  0.8683443069458008,\n",
       "  0.8682219386100769,\n",
       "  0.8686298131942749,\n",
       "  0.868364691734314,\n",
       "  0.8680588006973267,\n",
       "  0.8686094284057617,\n",
       "  0.8684054613113403,\n",
       "  0.8699961304664612,\n",
       "  0.8715663552284241,\n",
       "  0.8689764738082886,\n",
       "  0.8692619800567627,\n",
       "  0.8711380958557129,\n",
       "  0.8709953427314758,\n",
       "  0.8676101565361023,\n",
       "  0.8694455027580261,\n",
       "  0.86956787109375],\n",
       " 'val_loss': [0.7578624486923218,\n",
       "  0.6623883843421936,\n",
       "  0.5961892604827881,\n",
       "  0.5638501048088074,\n",
       "  0.5249618291854858,\n",
       "  0.5045465230941772,\n",
       "  0.485954225063324,\n",
       "  0.47767356038093567,\n",
       "  0.46194782853126526,\n",
       "  0.4518386721611023,\n",
       "  0.44815751910209656,\n",
       "  0.4442538619041443,\n",
       "  0.4315251410007477,\n",
       "  0.4378424286842346,\n",
       "  0.4235416352748871,\n",
       "  0.41571107506752014,\n",
       "  0.4121565818786621,\n",
       "  0.40516170859336853,\n",
       "  0.4026282727718353,\n",
       "  0.40858814120292664,\n",
       "  0.40524131059646606,\n",
       "  0.39779776334762573,\n",
       "  0.39573734998703003,\n",
       "  0.3966820240020752,\n",
       "  0.39011210203170776,\n",
       "  0.3947129547595978,\n",
       "  0.3833615481853485,\n",
       "  0.3880310654640198,\n",
       "  0.38075777888298035,\n",
       "  0.378868043422699,\n",
       "  0.3800143599510193,\n",
       "  0.3781311810016632,\n",
       "  0.3773265480995178,\n",
       "  0.37584179639816284,\n",
       "  0.37366020679473877,\n",
       "  0.37344205379486084,\n",
       "  0.3711942732334137,\n",
       "  0.37091439962387085,\n",
       "  0.37009966373443604,\n",
       "  0.36775708198547363,\n",
       "  0.3719014525413513,\n",
       "  0.36154329776763916,\n",
       "  0.3686651289463043,\n",
       "  0.3668445944786072,\n",
       "  0.3626612722873688,\n",
       "  0.3624984323978424,\n",
       "  0.35747963190078735,\n",
       "  0.36061227321624756,\n",
       "  0.358511358499527,\n",
       "  0.35899317264556885,\n",
       "  0.35509800910949707,\n",
       "  0.3536240756511688,\n",
       "  0.3537921905517578,\n",
       "  0.3553978204727173,\n",
       "  0.3568074703216553,\n",
       "  0.35104238986968994,\n",
       "  0.35154494643211365,\n",
       "  0.3510909974575043,\n",
       "  0.34944233298301697,\n",
       "  0.34908849000930786,\n",
       "  0.3531501591205597,\n",
       "  0.34772002696990967,\n",
       "  0.34600645303726196,\n",
       "  0.3475155830383301,\n",
       "  0.3470745086669922,\n",
       "  0.34685641527175903,\n",
       "  0.34475305676460266,\n",
       "  0.3429805040359497,\n",
       "  0.3446975648403168,\n",
       "  0.34082484245300293,\n",
       "  0.34954190254211426,\n",
       "  0.34166809916496277,\n",
       "  0.3418447971343994,\n",
       "  0.33948811888694763,\n",
       "  0.3395046889781952,\n",
       "  0.34034448862075806,\n",
       "  0.3392060399055481,\n",
       "  0.3385928273200989,\n",
       "  0.337459534406662,\n",
       "  0.3377622365951538,\n",
       "  0.33537545800209045,\n",
       "  0.3367469012737274,\n",
       "  0.34016403555870056,\n",
       "  0.33804893493652344,\n",
       "  0.33879661560058594,\n",
       "  0.3362022638320923,\n",
       "  0.33350977301597595,\n",
       "  0.3345390856266022,\n",
       "  0.33474528789520264,\n",
       "  0.33294129371643066,\n",
       "  0.33180850744247437,\n",
       "  0.3335379660129547,\n",
       "  0.3363664746284485,\n",
       "  0.3321000039577484,\n",
       "  0.3310180902481079,\n",
       "  0.33225303888320923,\n",
       "  0.3297317326068878,\n",
       "  0.3284933269023895,\n",
       "  0.3311525285243988,\n",
       "  0.32939669489860535,\n",
       "  0.3296707570552826,\n",
       "  0.3300590515136719,\n",
       "  0.33633795380592346,\n",
       "  0.3288264572620392,\n",
       "  0.32710203528404236,\n",
       "  0.3256274461746216,\n",
       "  0.3284218907356262,\n",
       "  0.3271750509738922,\n",
       "  0.3274323344230652,\n",
       "  0.325542688369751,\n",
       "  0.3305966258049011,\n",
       "  0.327792227268219,\n",
       "  0.3243592381477356,\n",
       "  0.3265051543712616,\n",
       "  0.3273231089115143,\n",
       "  0.3269738554954529,\n",
       "  0.32338234782218933,\n",
       "  0.3216229975223541,\n",
       "  0.3246452212333679,\n",
       "  0.32356810569763184,\n",
       "  0.32115986943244934,\n",
       "  0.3263196349143982,\n",
       "  0.324465274810791,\n",
       "  0.32410141825675964,\n",
       "  0.32306230068206787,\n",
       "  0.3206416368484497,\n",
       "  0.3194398283958435,\n",
       "  0.3264857828617096,\n",
       "  0.3208732306957245,\n",
       "  0.3211107850074768,\n",
       "  0.32055699825286865,\n",
       "  0.32048285007476807,\n",
       "  0.32066673040390015,\n",
       "  0.31908899545669556,\n",
       "  0.3182142972946167,\n",
       "  0.3195127844810486,\n",
       "  0.31707343459129333,\n",
       "  0.31815603375434875,\n",
       "  0.3210233449935913,\n",
       "  0.31680920720100403,\n",
       "  0.31613776087760925,\n",
       "  0.31774601340293884,\n",
       "  0.31737014651298523,\n",
       "  0.3170255422592163,\n",
       "  0.3152293264865875,\n",
       "  0.3174435794353485,\n",
       "  0.3188145160675049,\n",
       "  0.31562474370002747,\n",
       "  0.316651850938797,\n",
       "  0.3160250186920166,\n",
       "  0.3147551715373993,\n",
       "  0.3149408996105194,\n",
       "  0.3164844214916229,\n",
       "  0.3157044053077698,\n",
       "  0.3132829964160919,\n",
       "  0.3153553009033203,\n",
       "  0.31620660424232483,\n",
       "  0.3161791265010834,\n",
       "  0.31435611844062805,\n",
       "  0.3152996003627777,\n",
       "  0.3124658167362213,\n",
       "  0.31281325221061707,\n",
       "  0.31210193037986755,\n",
       "  0.313511461019516,\n",
       "  0.3140859305858612,\n",
       "  0.3132419288158417,\n",
       "  0.3127034902572632,\n",
       "  0.3145052194595337,\n",
       "  0.3132403492927551,\n",
       "  0.3126050531864166,\n",
       "  0.31341466307640076,\n",
       "  0.31097161769866943,\n",
       "  0.31058889627456665,\n",
       "  0.31050482392311096,\n",
       "  0.30945679545402527,\n",
       "  0.3118882179260254,\n",
       "  0.30975523591041565,\n",
       "  0.30873626470565796,\n",
       "  0.310141384601593,\n",
       "  0.3076001703739166,\n",
       "  0.31332728266716003,\n",
       "  0.31037935614585876,\n",
       "  0.3105274736881256,\n",
       "  0.31031930446624756,\n",
       "  0.3101431429386139,\n",
       "  0.3096783757209778,\n",
       "  0.30952268838882446,\n",
       "  0.30972710251808167,\n",
       "  0.308958500623703,\n",
       "  0.31164294481277466,\n",
       "  0.3101167678833008,\n",
       "  0.3069925308227539,\n",
       "  0.31028321385383606,\n",
       "  0.3080574870109558,\n",
       "  0.30835792422294617,\n",
       "  0.30514663457870483,\n",
       "  0.30914267897605896,\n",
       "  0.30888116359710693,\n",
       "  0.30889615416526794,\n",
       "  0.3044528663158417],\n",
       " 'val_accuracy': [0.7263458371162415,\n",
       "  0.7564437389373779,\n",
       "  0.7778140306472778,\n",
       "  0.7919249534606934,\n",
       "  0.8081566095352173,\n",
       "  0.814681887626648,\n",
       "  0.8220228552818298,\n",
       "  0.8231647610664368,\n",
       "  0.827569305896759,\n",
       "  0.8306688666343689,\n",
       "  0.8355628252029419,\n",
       "  0.8369494080543518,\n",
       "  0.8404567837715149,\n",
       "  0.8390701413154602,\n",
       "  0.8433931469917297,\n",
       "  0.8474714756011963,\n",
       "  0.8500000238418579,\n",
       "  0.8510603308677673,\n",
       "  0.8514682054519653,\n",
       "  0.8508156538009644,\n",
       "  0.8498368859291077,\n",
       "  0.8538336157798767,\n",
       "  0.8561174273490906,\n",
       "  0.8534258008003235,\n",
       "  0.857340931892395,\n",
       "  0.8537520170211792,\n",
       "  0.8593801259994507,\n",
       "  0.8580750226974487,\n",
       "  0.8597063422203064,\n",
       "  0.8609298467636108,\n",
       "  0.8593801259994507,\n",
       "  0.8623980283737183,\n",
       "  0.8614192605018616,\n",
       "  0.862234890460968,\n",
       "  0.8618270754814148,\n",
       "  0.863132119178772,\n",
       "  0.8637030720710754,\n",
       "  0.8627243041992188,\n",
       "  0.862887442111969,\n",
       "  0.8641924858093262,\n",
       "  0.86353999376297,\n",
       "  0.8676998615264893,\n",
       "  0.862887442111969,\n",
       "  0.8646003007888794,\n",
       "  0.8653343915939331,\n",
       "  0.8655791282653809,\n",
       "  0.8708809018135071,\n",
       "  0.8666394948959351,\n",
       "  0.8691680431365967,\n",
       "  0.8657422661781311,\n",
       "  0.8711256384849548,\n",
       "  0.8709625005722046,\n",
       "  0.8699021339416504,\n",
       "  0.8696573972702026,\n",
       "  0.8673735857009888,\n",
       "  0.8714518547058105,\n",
       "  0.8728384971618652,\n",
       "  0.8708809018135071,\n",
       "  0.8716149926185608,\n",
       "  0.8749592304229736,\n",
       "  0.8694943189620972,\n",
       "  0.872920036315918,\n",
       "  0.8703914880752563,\n",
       "  0.8703099489212036,\n",
       "  0.8728384971618652,\n",
       "  0.8714518547058105,\n",
       "  0.8731647729873657,\n",
       "  0.8746329545974731,\n",
       "  0.8747960925102234,\n",
       "  0.8748776316642761,\n",
       "  0.8699836730957031,\n",
       "  0.8736541867256165,\n",
       "  0.8739804029464722,\n",
       "  0.8756117224693298,\n",
       "  0.8761827349662781,\n",
       "  0.8760195970535278,\n",
       "  0.8752855062484741,\n",
       "  0.8754485845565796,\n",
       "  0.877324640750885,\n",
       "  0.8757748603820801,\n",
       "  0.8784665465354919,\n",
       "  0.8757748603820801,\n",
       "  0.8756117224693298,\n",
       "  0.8747144937515259,\n",
       "  0.8752855062484741,\n",
       "  0.8748776316642761,\n",
       "  0.8791190981864929,\n",
       "  0.8769983649253845,\n",
       "  0.8787928223609924,\n",
       "  0.8792006373405457,\n",
       "  0.8796085119247437,\n",
       "  0.8784665465354919,\n",
       "  0.8784665465354919,\n",
       "  0.8784665465354919,\n",
       "  0.8796085119247437,\n",
       "  0.8776509165763855,\n",
       "  0.8789559602737427,\n",
       "  0.881321370601654,\n",
       "  0.8805872797966003,\n",
       "  0.8793637752532959,\n",
       "  0.8793637752532959,\n",
       "  0.8778955936431885,\n",
       "  0.8741435408592224,\n",
       "  0.8796085119247437,\n",
       "  0.8806688189506531,\n",
       "  0.881973922252655,\n",
       "  0.8785481452941895,\n",
       "  0.8789559602737427,\n",
       "  0.8784665465354919,\n",
       "  0.8808319568634033,\n",
       "  0.877324640750885,\n",
       "  0.8792822360992432,\n",
       "  0.8811582326889038,\n",
       "  0.8783034086227417,\n",
       "  0.8804241418838501,\n",
       "  0.8816476464271545,\n",
       "  0.8816476464271545,\n",
       "  0.8838499188423157,\n",
       "  0.8814845085144043,\n",
       "  0.8805872797966003,\n",
       "  0.883115828037262,\n",
       "  0.8801794648170471,\n",
       "  0.8797715902328491,\n",
       "  0.8805056810379028,\n",
       "  0.8826264142990112,\n",
       "  0.8823001384735107,\n",
       "  0.8841761946678162,\n",
       "  0.881973922252655,\n",
       "  0.882463276386261,\n",
       "  0.8831973671913147,\n",
       "  0.881566047668457,\n",
       "  0.8842577338218689,\n",
       "  0.8805872797966003,\n",
       "  0.8820554614067078,\n",
       "  0.882871150970459,\n",
       "  0.8827895522117615,\n",
       "  0.8848286867141724,\n",
       "  0.8836867809295654,\n",
       "  0.881566047668457,\n",
       "  0.886867880821228,\n",
       "  0.88646000623703,\n",
       "  0.8831973671913147,\n",
       "  0.8845024704933167,\n",
       "  0.8830342292785645,\n",
       "  0.886215329170227,\n",
       "  0.8820554614067078,\n",
       "  0.8816476464271545,\n",
       "  0.8839314579963684,\n",
       "  0.8830342292785645,\n",
       "  0.8841761946678162,\n",
       "  0.8855627775192261,\n",
       "  0.8842577338218689,\n",
       "  0.8842577338218689,\n",
       "  0.8861337900161743,\n",
       "  0.8858075141906738,\n",
       "  0.8849918246269226,\n",
       "  0.8835236430168152,\n",
       "  0.8837683796882629,\n",
       "  0.8848286867141724,\n",
       "  0.8841761946678162,\n",
       "  0.8856443762779236,\n",
       "  0.887112557888031,\n",
       "  0.8872756958007812,\n",
       "  0.8858075141906738,\n",
       "  0.887112557888031,\n",
       "  0.8844208717346191,\n",
       "  0.8856443762779236,\n",
       "  0.8852365612983704,\n",
       "  0.8853996992111206,\n",
       "  0.8849102854728699,\n",
       "  0.8858075141906738,\n",
       "  0.8860521912574768,\n",
       "  0.8867047429084778,\n",
       "  0.8862969279289246,\n",
       "  0.886867880821228,\n",
       "  0.887357234954834,\n",
       "  0.887112557888031,\n",
       "  0.8884992003440857,\n",
       "  0.8884992003440857,\n",
       "  0.8869494199752808,\n",
       "  0.8858075141906738,\n",
       "  0.8869494199752808,\n",
       "  0.88646000623703,\n",
       "  0.8870310187339783,\n",
       "  0.8865416049957275,\n",
       "  0.8869494199752808,\n",
       "  0.8872756958007812,\n",
       "  0.8862969279289246,\n",
       "  0.8867047429084778,\n",
       "  0.8860521912574768,\n",
       "  0.8867862820625305,\n",
       "  0.8881729245185852,\n",
       "  0.887112557888031,\n",
       "  0.8880913257598877,\n",
       "  0.8876019716262817,\n",
       "  0.8891516923904419,\n",
       "  0.8872756958007812,\n",
       "  0.887765109539032,\n",
       "  0.887112557888031,\n",
       "  0.8888254761695862]}"
      ]
     },
     "execution_count": 23,
     "metadata": {},
     "output_type": "execute_result"
    }
   ],
   "source": [
    "flor_train.history"
   ]
  },
  {
   "cell_type": "code",
   "execution_count": 24,
   "metadata": {
    "ExecuteTime": {
     "end_time": "2018-11-08T00:20:55.014647Z",
     "start_time": "2018-11-08T00:20:54.479693Z"
    },
    "scrolled": false
   },
   "outputs": [
    {
     "data": {
      "image/png": "[encoded data removed]",
      "text/plain": [
       "<Figure size 640x480 with 1 Axes>"
      ]
     },
     "metadata": {},
     "output_type": "display_data"
    },
    {
     "data": {
      "image/png": "[encoded data removed]",
      "text/plain": [
       "<Figure size 640x480 with 1 Axes>"
      ]
     },
     "metadata": {},
     "output_type": "display_data"
    }
   ],
   "source": [
    "accuracy = flor_train.history['accuracy']\n",
    "val_accuracy = flor_train.history['val_accuracy']\n",
    "loss = flor_train.history['loss']\n",
    "val_loss = flor_train.history['val_loss']\n",
    "epochs = range(len(accuracy))\n",
    "plt.plot(epochs, accuracy, 'bo', label='Training accuracy')\n",
    "plt.plot(epochs, val_accuracy, 'b', label='Validation accuracy')\n",
    "plt.title('Training and validation accuracy')\n",
    "plt.legend()\n",
    "plt.figure()\n",
    "plt.plot(epochs, loss, 'bo', label='Training loss')\n",
    "plt.plot(epochs, val_loss, 'b', label='Validation loss')\n",
    "plt.title('Training and validation loss')\n",
    "plt.legend()\n",
    "plt.show()"
   ]
  },
  {
   "cell_type": "code",
   "execution_count": 25,
   "metadata": {
    "ExecuteTime": {
     "end_time": "2018-11-08T00:20:58.050602Z",
     "start_time": "2018-11-08T00:20:55.021862Z"
    }
   },
   "outputs": [
    {
     "name": "stdout",
     "output_type": "stream",
     "text": [
      "479/479 [==============================] - 1s 1ms/step\n"
     ]
    }
   ],
   "source": [
    "predicted_classes2 = flor_model.predict(test_X)"
   ]
  },
  {
   "cell_type": "code",
   "execution_count": 26,
   "metadata": {
    "ExecuteTime": {
     "end_time": "2018-11-08T00:20:58.262575Z",
     "start_time": "2018-11-08T00:20:58.052878Z"
    }
   },
   "outputs": [],
   "source": [
    "predicted_classes=[]\n",
    "for predicted_sport in predicted_classes2:\n",
    "    predicted_classes.append(predicted_sport.tolist().index(max(predicted_sport)))\n",
    "predicted_classes=np.array(predicted_classes)"
   ]
  },
  {
   "cell_type": "code",
   "execution_count": 27,
   "metadata": {
    "ExecuteTime": {
     "end_time": "2018-11-08T00:20:58.272559Z",
     "start_time": "2018-11-08T00:20:58.264703Z"
    }
   },
   "outputs": [
    {
     "data": {
      "text/plain": [
       "((15325,), (15325,))"
      ]
     },
     "execution_count": 27,
     "metadata": {},
     "output_type": "execute_result"
    }
   ],
   "source": [
    "predicted_classes.shape, test_Y.shape"
   ]
  },
  {
   "cell_type": "markdown",
   "metadata": {},
   "source": [
    "# Aprendamos de los errores: Qué mejorar"
   ]
  },
  {
   "cell_type": "code",
   "execution_count": 28,
   "metadata": {
    "ExecuteTime": {
     "end_time": "2018-11-08T00:20:59.822110Z",
     "start_time": "2018-11-08T00:20:58.275464Z"
    }
   },
   "outputs": [
    {
     "name": "stdout",
     "output_type": "stream",
     "text": [
      "Found 13711 correct labels\n"
     ]
    },
    {
     "data": {
      "image/png": "[encoded data removed]",
      "text/plain": [
       "<Figure size 640x480 with 9 Axes>"
      ]
     },
     "metadata": {},
     "output_type": "display_data"
    }
   ],
   "source": [
    "correct = np.where(predicted_classes==test_Y)[0]\n",
    "print(\"Found %d correct labels\" % len(correct))\n",
    "for i, correct in enumerate(correct[0:9]):\n",
    "    plt.subplot(3,3,i+1)\n",
    "    plt.imshow(test_X[correct].reshape(32,32,3), cmap='gray', interpolation='none')\n",
    "    plt.title(\"{}, {}\".format(flores[predicted_classes[correct]],\n",
    "                                                    flores[test_Y[correct]]))\n",
    "\n",
    "    plt.tight_layout()"
   ]
  },
  {
   "cell_type": "code",
   "execution_count": 29,
   "metadata": {
    "ExecuteTime": {
     "end_time": "2018-11-08T00:21:00.942267Z",
     "start_time": "2018-11-08T00:20:59.829572Z"
    }
   },
   "outputs": [
    {
     "name": "stdout",
     "output_type": "stream",
     "text": [
      "Found 1614 incorrect labels\n"
     ]
    },
    {
     "data": {
      "image/png": "[encoded data removed]",
      "text/plain": [
       "<Figure size 640x480 with 9 Axes>"
      ]
     },
     "metadata": {},
     "output_type": "display_data"
    }
   ],
   "source": [
    "incorrect = np.where(predicted_classes!=test_Y)[0]\n",
    "print(\"Found %d incorrect labels\" % len(incorrect))\n",
    "for i, incorrect in enumerate(incorrect[0:9]):\n",
    "    plt.subplot(3,3,i+1)\n",
    "    plt.imshow(test_X[incorrect].reshape(32,32,3), cmap='gray', interpolation='none')\n",
    "    plt.title(\"{}, {}\".format(flores[predicted_classes[incorrect]],\n",
    "                                                    flores[test_Y[incorrect]]))\n",
    "    plt.tight_layout()"
   ]
  },
  {
   "cell_type": "code",
   "execution_count": 30,
   "metadata": {
    "ExecuteTime": {
     "end_time": "2018-11-08T00:21:00.968727Z",
     "start_time": "2018-11-08T00:21:00.947262Z"
    },
    "scrolled": true
   },
   "outputs": [
    {
     "name": "stdout",
     "output_type": "stream",
     "text": [
      "              precision    recall  f1-score   support\n",
      "\n",
      "     Class 0       0.96      0.98      0.97      3041\n",
      "     Class 1       0.92      0.95      0.93      3136\n",
      "     Class 2       0.94      0.93      0.93      3145\n",
      "     Class 3       0.79      0.85      0.82      2940\n",
      "     Class 4       0.86      0.76      0.81      3063\n",
      "\n",
      "    accuracy                           0.89     15325\n",
      "   macro avg       0.89      0.89      0.89     15325\n",
      "weighted avg       0.89      0.89      0.89     15325\n",
      "\n"
     ]
    }
   ],
   "source": [
    "target_names = [\"Class {}\".format(i) for i in range(nClasses)]\n",
    "print(classification_report(test_Y, predicted_classes, target_names=target_names))"
   ]
  },
  {
   "cell_type": "code",
   "execution_count": null,
   "metadata": {},
   "outputs": [],
   "source": []
  }
 ],
 "metadata": {
  "kernelspec": {
   "display_name": "Python 3 (ipykernel)",
   "language": "python",
   "name": "python3"
  },
  "language_info": {
   "codemirror_mode": {
    "name": "ipython",
    "version": 3
   },
   "file_extension": ".py",
   "mimetype": "text/x-python",
   "name": "python",
   "nbconvert_exporter": "python",
   "pygments_lexer": "ipython3",
   "version": "3.11.5"
  }
 },
 "nbformat": 4,
 "nbformat_minor": 2
}
