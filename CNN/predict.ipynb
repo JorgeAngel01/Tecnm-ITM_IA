{
 "cells": [
  {
   "cell_type": "markdown",
   "metadata": {},
   "source": [
    "# Proyecto 3: Clasificador de flores - CNN\n",
    "\n",
    "Este proyecto se encarga de utilizar un modelo generado en el siguiente archivo [CNNFlores.ipynb](CNNFlores.ipynb) . A continuacion se utiliza dicho modelo para clasificar alguna imagen.\n",
    "\n",
    "## Importar librerias"
   ]
  },
  {
   "cell_type": "code",
   "execution_count": 1,
   "metadata": {},
   "outputs": [
    {
     "name": "stdout",
     "output_type": "stream",
     "text": [
      "WARNING:tensorflow:From c:\\Users\\jorge\\Desktop\\Tec\\9no Sem\\Tecnm-ITM_IA\\venv\\Lib\\site-packages\\keras\\src\\losses.py:2976: The name tf.losses.sparse_softmax_cross_entropy is deprecated. Please use tf.compat.v1.losses.sparse_softmax_cross_entropy instead.\n",
      "\n"
     ]
    }
   ],
   "source": [
    "import tensorflow as tf\n",
    "from tensorflow.keras.preprocessing import image\n",
    "import numpy as np"
   ]
  },
  {
   "cell_type": "markdown",
   "metadata": {},
   "source": [
    "# Utilizar el modelo"
   ]
  },
  {
   "cell_type": "code",
   "execution_count": 41,
   "metadata": {},
   "outputs": [
    {
     "name": "stdout",
     "output_type": "stream",
     "text": [
      "1/1 [==============================] - 0s 45ms/step\n",
      "Predicted class: common_daisy\n"
     ]
    }
   ],
   "source": [
    "\"\"\" model_path = '/home/angel/Desktop/IA/Tecnm-ITM_IA/CNN/flor_model.h5py' \"\"\"\n",
    "model_path = './flor_model5.h5py'\n",
    "model = tf.keras.models.load_model(model_path)\n",
    "\n",
    "target_size = (64, 64)\n",
    "flower = \"../assets/flowers/cd1.jpg\"\n",
    "\n",
    "# Load the image and resize it to match the model's input size\n",
    "img = image.load_img(flower, target_size=target_size)\n",
    "img_array = image.img_to_array(img)\n",
    "img_array = np.expand_dims(img_array, axis=0)\n",
    "\n",
    "# Make prediction\n",
    "predictions = model.predict(img_array)\n",
    "\n",
    "# Map the predicted indices to class labels\n",
    "class_labels = [\"astilbe\",\"black_eyed_susan\", \"common_daisy\", \"iris\", \"paradisebirds\"]\n",
    "predicted_class_indices = np.argmax(predictions, axis=1)\n",
    "predicted_labels = [class_labels[i] for i in predicted_class_indices]\n",
    "\n",
    "# Print the predicted class labels\n",
    "print(\"Predicted class:\", predicted_labels[0])"
   ]
  },
  {
   "cell_type": "code",
   "execution_count": null,
   "metadata": {},
   "outputs": [],
   "source": []
  },
  {
   "cell_type": "code",
   "execution_count": null,
   "metadata": {},
   "outputs": [],
   "source": []
  }
 ],
 "metadata": {
  "kernelspec": {
   "display_name": "Python 3 (ipykernel)",
   "language": "python",
   "name": "python3"
  },
  "language_info": {
   "codemirror_mode": {
    "name": "ipython",
    "version": 3
   },
   "file_extension": ".py",
   "mimetype": "text/x-python",
   "name": "python",
   "nbconvert_exporter": "python",
   "pygments_lexer": "ipython3",
   "version": "3.11.5"
  }
 },
 "nbformat": 4,
 "nbformat_minor": 4
}
