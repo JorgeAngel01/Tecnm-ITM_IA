{
 "cells": [
  {
   "cell_type": "code",
   "execution_count": 1,
   "metadata": {
    "scrolled": true
   },
   "outputs": [
    {
     "name": "stdout",
     "output_type": "stream",
     "text": [
      "256 256 3 3\n"
     ]
    }
   ],
   "source": [
    "import cv2 \n",
    "\n",
    "img = cv2.imread('../../a/flowers/black_eyed_susan/1007595613_b884ca8509_c.jpg')\n",
    "\"\"\" img = cv2.imread('/home/angel/Desktop/IA/sportimages/basket/basket_0004.jpg') \"\"\"\n",
    "\n",
    "print(img.shape[0], img.shape[1], img.shape[2], len(img.shape))"
   ]
  },
  {
   "cell_type": "markdown",
   "metadata": {},
   "source": [
    "# Convolutional Neural Networks"
   ]
  },
  {
   "cell_type": "markdown",
   "metadata": {},
   "source": []
  },
  {
   "cell_type": "markdown",
   "metadata": {},
   "source": [
    "# Importar Librerías"
   ]
  },
  {
   "cell_type": "code",
   "execution_count": 2,
   "metadata": {
    "ExecuteTime": {
     "end_time": "2018-11-08T00:12:59.231970Z",
     "start_time": "2018-11-08T00:12:51.800950Z"
    }
   },
   "outputs": [],
   "source": [
    "import numpy as np\n",
    "import os\n",
    "import re\n",
    "import matplotlib.pyplot as plt\n",
    "%matplotlib inline\n",
    "from sklearn.model_selection import train_test_split\n",
    "from sklearn.metrics import classification_report\n",
    "\n",
    "from skimage.transform import resize\n",
    "from skimage import img_as_ubyte"
   ]
  },
  {
   "cell_type": "code",
   "execution_count": 3,
   "metadata": {
    "ExecuteTime": {
     "end_time": "2018-11-08T00:13:12.550878Z",
     "start_time": "2018-11-08T00:12:59.234748Z"
    },
    "scrolled": true
   },
   "outputs": [
    {
     "name": "stdout",
     "output_type": "stream",
     "text": [
      "WARNING:tensorflow:From c:\\Users\\jorge\\Desktop\\Tec\\9no Sem\\Tecnm-ITM_IA\\venv\\Lib\\site-packages\\keras\\src\\losses.py:2976: The name tf.losses.sparse_softmax_cross_entropy is deprecated. Please use tf.compat.v1.losses.sparse_softmax_cross_entropy instead.\n",
      "\n"
     ]
    }
   ],
   "source": [
    "import keras\n",
    "import tensorflow as tf\n",
    "from tensorflow.keras.utils import to_categorical\n",
    "from keras.models import Sequential,Model\n",
    "from tensorflow.keras.layers import Input\n",
    "from keras.layers import Dense, Dropout, Flatten\n",
    "#from keras.layers import Conv2D, MaxPooling2D\n",
    "#from tensorflow.keras.models import Sequential\n",
    "from tensorflow.keras.layers import (\n",
    "    BatchNormalization, SeparableConv2D, MaxPooling2D, Activation, Flatten, Dropout, Dense, Conv2D\n",
    ")\n",
    "from keras.layers import LeakyReLU"
   ]
  },
  {
   "cell_type": "markdown",
   "metadata": {},
   "source": [
    "# Cargar set de Imágenes"
   ]
  },
  {
   "cell_type": "code",
   "execution_count": 4,
   "metadata": {
    "ExecuteTime": {
     "end_time": "2018-11-08T00:16:45.248080Z",
     "start_time": "2018-11-08T00:13:12.553292Z"
    },
    "scrolled": true
   },
   "outputs": [
    {
     "name": "stdout",
     "output_type": "stream",
     "text": [
      "leyendo imagenes de  c:\\Users\\jorge\\Desktop\\Tec\\9no Sem\\Tecnm-ITM_IA\\CNN\\../../dataAugmented/\\\n",
      "c:\\Users\\jorge\\Desktop\\Tec\\9no Sem\\Tecnm-ITM_IA\\CNN\\../../dataAugmented/\\black_eyed_susan 1\n",
      "c:\\Users\\jorge\\Desktop\\Tec\\9no Sem\\Tecnm-ITM_IA\\CNN\\../../dataAugmented/\\dandelion 14959\n",
      "c:\\Users\\jorge\\Desktop\\Tec\\9no Sem\\Tecnm-ITM_IA\\CNN\\../../dataAugmented/\\iris 15602\n",
      "c:\\Users\\jorge\\Desktop\\Tec\\9no Sem\\Tecnm-ITM_IA\\CNN\\../../dataAugmented/\\rose 15637\n",
      "c:\\Users\\jorge\\Desktop\\Tec\\9no Sem\\Tecnm-ITM_IA\\CNN\\../../dataAugmented/\\tulip 14910\n",
      "Directorios leidos: 5\n",
      "Imagenes en cada directorio [14960, 15602, 15637, 14910, 15513]\n",
      "suma Total de imagenes en subdirs: 76622\n"
     ]
    }
   ],
   "source": [
    "dirname = os.path.join(os.getcwd(),'../../dataAugmented/')\n",
    "\"\"\" dirname = os.path.join(os.getcwd(),'/home/likcos/DataSets/sportimages/sportimages') \"\"\"\n",
    "imgpath = dirname + os.sep \n",
    "\n",
    "images = []\n",
    "directories = []\n",
    "dircount = []\n",
    "prevRoot=''\n",
    "cant=0\n",
    "\n",
    "print(\"leyendo imagenes de \",imgpath)\n",
    "\n",
    "small_size = (32, 32, 3)  # Adjust the size as needed\n",
    "\n",
    "for root, dirnames, filenames in os.walk(imgpath):\n",
    "    for filename in filenames:\n",
    "        if re.search(\"\\.(jpg|jpeg|png|bmp|tiff)$\", filename):\n",
    "            cant=cant+1\n",
    "            filepath = os.path.join(root, filename)\n",
    "            image = plt.imread(filepath)\n",
    "            if(len(image.shape)==3):\n",
    "                resized_image = resize(image, small_size)\n",
    "                resized_image = img_as_ubyte(resized_image)\n",
    "                images.append(resized_image)\n",
    "            b = \"Leyendo...\" + str(cant)\n",
    "            print (b, end=\"\\r\")\n",
    "            if len(image.shape) == 2:\n",
    "                # Grayscale image - delete the file\n",
    "                print(f\"Deleting: {filepath} - Grayscale image\")\n",
    "                os.remove(filepath)\n",
    "            # Deleted all non RGB images\n",
    "            \n",
    "            if prevRoot !=root:\n",
    "                print(root, cant)\n",
    "                prevRoot=root\n",
    "                directories.append(root)\n",
    "                dircount.append(cant)\n",
    "                cant=0\n",
    "dircount.append(cant)\n",
    "\n",
    "dircount = dircount[1:]\n",
    "dircount[0]=dircount[0]+1\n",
    "print('Directorios leidos:',len(directories))\n",
    "print(\"Imagenes en cada directorio\", dircount)\n",
    "print('suma Total de imagenes en subdirs:',sum(dircount))"
   ]
  },
  {
   "cell_type": "markdown",
   "metadata": {},
   "source": [
    "# Creamos las etiquetas"
   ]
  },
  {
   "cell_type": "code",
   "execution_count": 5,
   "metadata": {
    "ExecuteTime": {
     "end_time": "2018-11-08T00:16:45.269861Z",
     "start_time": "2018-11-08T00:16:45.251786Z"
    }
   },
   "outputs": [
    {
     "name": "stdout",
     "output_type": "stream",
     "text": [
      "Cantidad etiquetas creadas:  76622\n"
     ]
    }
   ],
   "source": [
    "labels=[]\n",
    "indice=0\n",
    "for cantidad in dircount:\n",
    "    for i in range(cantidad):\n",
    "        labels.append(indice)\n",
    "    indice=indice+1\n",
    "print(\"Cantidad etiquetas creadas: \",len(labels))\n"
   ]
  },
  {
   "cell_type": "code",
   "execution_count": 6,
   "metadata": {
    "ExecuteTime": {
     "end_time": "2018-11-08T00:16:45.285925Z",
     "start_time": "2018-11-08T00:16:45.273489Z"
    }
   },
   "outputs": [
    {
     "name": "stdout",
     "output_type": "stream",
     "text": [
      "0 black_eyed_susan\n",
      "1 dandelion\n",
      "2 iris\n",
      "3 rose\n",
      "4 tulip\n"
     ]
    }
   ],
   "source": [
    "flores=[]\n",
    "indice=0\n",
    "for directorio in directories:\n",
    "    name = directorio.split(os.sep)\n",
    "    print(indice , name[len(name)-1])\n",
    "    flores.append(name[len(name)-1])\n",
    "    indice=indice+1"
   ]
  },
  {
   "cell_type": "code",
   "execution_count": 7,
   "metadata": {},
   "outputs": [
    {
     "name": "stdout",
     "output_type": "stream",
     "text": [
      "Total number of outputs :  5\n",
      "Output classes :  [0 1 2 3 4]\n"
     ]
    }
   ],
   "source": [
    "y = np.array(labels)\n",
    "X = np.array(images, dtype=np.uint8) #convierto de lista a numpy\n",
    "\n",
    "\n",
    "\n",
    "# Find the unique numbers from the train labels\n",
    "classes = np.unique(y)\n",
    "nClasses = len(classes)\n",
    "print('Total number of outputs : ', nClasses)\n",
    "print('Output classes : ', classes)"
   ]
  },
  {
   "cell_type": "markdown",
   "metadata": {},
   "source": [
    "# Creamos Sets de Entrenamiento y Test"
   ]
  },
  {
   "cell_type": "code",
   "execution_count": 8,
   "metadata": {},
   "outputs": [
    {
     "name": "stdout",
     "output_type": "stream",
     "text": [
      "Shape of X: (76622, 32, 32, 3)\n",
      "Shape of y: (76622,)\n",
      "76622\n"
     ]
    }
   ],
   "source": [
    "print('Shape of X:', X.shape)\n",
    "print('Shape of y:', y.shape)\n",
    "print(len(images))\n"
   ]
  },
  {
   "cell_type": "code",
   "execution_count": 9,
   "metadata": {
    "ExecuteTime": {
     "end_time": "2018-11-08T00:16:45.669596Z",
     "start_time": "2018-11-08T00:16:45.502716Z"
    }
   },
   "outputs": [
    {
     "name": "stdout",
     "output_type": "stream",
     "text": [
      "Training data shape :  (61297, 32, 32, 3) (61297,)\n",
      "Testing data shape :  (15325, 32, 32, 3) (15325,)\n"
     ]
    }
   ],
   "source": [
    "train_X,test_X,train_Y,test_Y = train_test_split(X,y,test_size=0.2)\n",
    "print('Training data shape : ', train_X.shape, train_Y.shape)\n",
    "print('Testing data shape : ', test_X.shape, test_Y.shape)"
   ]
  },
  {
   "cell_type": "code",
   "execution_count": 10,
   "metadata": {
    "ExecuteTime": {
     "end_time": "2018-11-08T00:16:49.319746Z",
     "start_time": "2018-11-08T00:16:45.673944Z"
    }
   },
   "outputs": [
    {
     "data": {
      "text/plain": [
       "Text(0.5, 1.0, 'Ground Truth : 0')"
      ]
     },
     "execution_count": 10,
     "metadata": {},
     "output_type": "execute_result"
    },
    {
     "data": {
      "image/png": "[encoded data removed]",
      "text/plain": [
       "<Figure size 500x500 with 2 Axes>"
      ]
     },
     "metadata": {},
     "output_type": "display_data"
    }
   ],
   "source": [
    "plt.figure(figsize=[5,5])\n",
    "\n",
    "# Display the first image in training data\n",
    "plt.subplot(121)\n",
    "plt.imshow(train_X[0,:,:], cmap='gray')\n",
    "plt.title(\"Ground Truth : {}\".format(train_Y[0]))\n",
    "\n",
    "# Display the first image in testing data\n",
    "plt.subplot(122)\n",
    "plt.imshow(test_X[0,:,:], cmap='gray')\n",
    "plt.title(\"Ground Truth : {}\".format(test_Y[0]))"
   ]
  },
  {
   "cell_type": "markdown",
   "metadata": {},
   "source": [
    "# Preprocesamos las imagenes"
   ]
  },
  {
   "cell_type": "code",
   "execution_count": 11,
   "metadata": {
    "ExecuteTime": {
     "end_time": "2018-11-08T00:16:50.798162Z",
     "start_time": "2018-11-08T00:16:49.322999Z"
    }
   },
   "outputs": [
    {
     "data": {
      "text/plain": [
       "<matplotlib.image.AxesImage at 0x1edc0df41d0>"
      ]
     },
     "execution_count": 11,
     "metadata": {},
     "output_type": "execute_result"
    },
    {
     "data": {
      "image/png": "[encoded data removed]",
      "text/plain": [
       "<Figure size 640x480 with 1 Axes>"
      ]
     },
     "metadata": {},
     "output_type": "display_data"
    }
   ],
   "source": [
    "train_X = train_X.astype('float32')\n",
    "test_X = test_X.astype('float32')\n",
    "train_X = train_X/255.\n",
    "test_X = test_X/255.\n",
    "plt.imshow(test_X[0,:,:])"
   ]
  },
  {
   "cell_type": "markdown",
   "metadata": {},
   "source": [
    "## Hacemos el One-hot Encoding para la red"
   ]
  },
  {
   "cell_type": "code",
   "execution_count": 12,
   "metadata": {
    "ExecuteTime": {
     "end_time": "2018-11-08T00:16:50.815482Z",
     "start_time": "2018-11-08T00:16:50.800831Z"
    }
   },
   "outputs": [
    {
     "name": "stdout",
     "output_type": "stream",
     "text": [
      "Original label: 0\n",
      "After conversion to one-hot: [1. 0. 0. 0. 0.]\n"
     ]
    }
   ],
   "source": [
    "# Change the labels from categorical to one-hot encoding\n",
    "train_Y_one_hot = to_categorical(train_Y)\n",
    "test_Y_one_hot = to_categorical(test_Y)\n",
    "\n",
    "# Display the change for category label using one-hot encoding\n",
    "print('Original label:', train_Y[0])\n",
    "print('After conversion to one-hot:', train_Y_one_hot[0])"
   ]
  },
  {
   "cell_type": "markdown",
   "metadata": {},
   "source": [
    "# Creamos el Set de Entrenamiento y Validación"
   ]
  },
  {
   "cell_type": "code",
   "execution_count": 13,
   "metadata": {
    "ExecuteTime": {
     "end_time": "2018-11-08T00:16:51.218520Z",
     "start_time": "2018-11-08T00:16:50.818992Z"
    }
   },
   "outputs": [],
   "source": [
    "#Mezclar todo y crear los grupos de entrenamiento y testing\n",
    "train_X,valid_X,train_label,valid_label = train_test_split(train_X, train_Y_one_hot, test_size=0.2, random_state=13)"
   ]
  },
  {
   "cell_type": "code",
   "execution_count": 14,
   "metadata": {
    "ExecuteTime": {
     "end_time": "2018-11-08T00:16:51.228116Z",
     "start_time": "2018-11-08T00:16:51.222460Z"
    }
   },
   "outputs": [
    {
     "name": "stdout",
     "output_type": "stream",
     "text": [
      "(49037, 32, 32, 3) (12260, 32, 32, 3) (49037, 5) (12260, 5)\n"
     ]
    }
   ],
   "source": [
    "print(train_X.shape,valid_X.shape,train_label.shape,valid_label.shape)"
   ]
  },
  {
   "cell_type": "markdown",
   "metadata": {},
   "source": [
    "# Creamos el modelo de CNN"
   ]
  },
  {
   "cell_type": "code",
   "execution_count": 15,
   "metadata": {
    "ExecuteTime": {
     "end_time": "2018-11-08T00:16:51.244776Z",
     "start_time": "2018-11-08T00:16:51.238704Z"
    }
   },
   "outputs": [],
   "source": [
    "#declaramos variables con los parámetros de configuración de la red\n",
    "\"\"\" INIT_LR = 1e-3 # Valor inicial de learning rate. El valor 1e-3 corresponde con 0.001 \"\"\"\n",
    "INIT_LR = 0.003 # Valor inicial de learning rate. El valor 1e-3 corresponde con 0.001\n",
    "epochs = 200 # Cantidad de iteraciones completas al conjunto de imagenes de entrenamiento\n",
    "batch_size = 16 # cantidad de imágenes que se toman a la vez en memoria"
   ]
  },
  {
   "cell_type": "code",
   "execution_count": 16,
   "metadata": {
    "ExecuteTime": {
     "end_time": "2018-11-08T00:16:51.384131Z",
     "start_time": "2018-11-08T00:16:51.252188Z"
    }
   },
   "outputs": [
    {
     "name": "stdout",
     "output_type": "stream",
     "text": [
      "WARNING:tensorflow:From c:\\Users\\jorge\\Desktop\\Tec\\9no Sem\\Tecnm-ITM_IA\\venv\\Lib\\site-packages\\keras\\src\\backend.py:873: The name tf.get_default_graph is deprecated. Please use tf.compat.v1.get_default_graph instead.\n",
      "\n",
      "WARNING:tensorflow:From c:\\Users\\jorge\\Desktop\\Tec\\9no Sem\\Tecnm-ITM_IA\\venv\\Lib\\site-packages\\keras\\src\\layers\\pooling\\max_pooling2d.py:161: The name tf.nn.max_pool is deprecated. Please use tf.nn.max_pool2d instead.\n",
      "\n"
     ]
    }
   ],
   "source": [
    "flor_model = Sequential()\n",
    "flor_model.add(Conv2D(32, kernel_size=(3, 3),activation='linear',padding='same',input_shape=(32,32,3)))\n",
    "flor_model.add(LeakyReLU(alpha=0.1))\n",
    "flor_model.add(MaxPooling2D((2, 2),padding='same'))\n",
    "flor_model.add(Dropout(0.5))\n",
    "\"\"\" \n",
    "flor_model.add(Conv2D(64, kernel_size=(3, 3), activation='linear', padding='same'))\n",
    "flor_model.add(LeakyReLU(alpha=0.1))\n",
    "flor_model.add(MaxPooling2D((2, 2), padding='same'))\n",
    "flor_model.add(Dropout(0.5)) \"\"\"\n",
    "\n",
    "flor_model.add(Flatten())\n",
    "flor_model.add(Dense(32, activation='linear'))\n",
    "flor_model.add(LeakyReLU(alpha=0.1))\n",
    "flor_model.add(Dropout(0.5))\n",
    "flor_model.add(Dense(nClasses, activation='softmax'))"
   ]
  },
  {
   "cell_type": "code",
   "execution_count": 17,
   "metadata": {
    "ExecuteTime": {
     "end_time": "2018-11-08T00:16:51.401674Z",
     "start_time": "2018-11-08T00:16:51.386676Z"
    }
   },
   "outputs": [
    {
     "name": "stdout",
     "output_type": "stream",
     "text": [
      "Model: \"sequential\"\n",
      "_________________________________________________________________\n",
      " Layer (type)                Output Shape              Param #   \n",
      "=================================================================\n",
      " conv2d (Conv2D)             (None, 32, 32, 32)        896       \n",
      "                                                                 \n",
      " leaky_re_lu (LeakyReLU)     (None, 32, 32, 32)        0         \n",
      "                                                                 \n",
      " max_pooling2d (MaxPooling2  (None, 16, 16, 32)        0         \n",
      " D)                                                              \n",
      "                                                                 \n",
      " dropout (Dropout)           (None, 16, 16, 32)        0         \n",
      "                                                                 \n",
      " flatten (Flatten)           (None, 8192)              0         \n",
      "                                                                 \n",
      " dense (Dense)               (None, 32)                262176    \n",
      "                                                                 \n",
      " leaky_re_lu_1 (LeakyReLU)   (None, 32)                0         \n",
      "                                                                 \n",
      " dropout_1 (Dropout)         (None, 32)                0         \n",
      "                                                                 \n",
      " dense_1 (Dense)             (None, 5)                 165       \n",
      "                                                                 \n",
      "=================================================================\n",
      "Total params: 263237 (1.00 MB)\n",
      "Trainable params: 263237 (1.00 MB)\n",
      "Non-trainable params: 0 (0.00 Byte)\n",
      "_________________________________________________________________\n"
     ]
    }
   ],
   "source": [
    "flor_model.summary()"
   ]
  },
  {
   "cell_type": "code",
   "execution_count": 18,
   "metadata": {
    "ExecuteTime": {
     "end_time": "2018-11-08T00:16:51.472349Z",
     "start_time": "2018-11-08T00:16:51.406817Z"
    }
   },
   "outputs": [],
   "source": [
    "flor_model.compile(loss=keras.losses.categorical_crossentropy, optimizer=tf.keras.optimizers.legacy.SGD(learning_rate=INIT_LR, decay=INIT_LR / 100),metrics=['accuracy'])"
   ]
  },
  {
   "cell_type": "markdown",
   "metadata": {},
   "source": [
    "# Entrenamos el modelo: Aprende a clasificar imágenes"
   ]
  },
  {
   "cell_type": "code",
   "execution_count": 19,
   "metadata": {
    "ExecuteTime": {
     "end_time": "2018-11-08T00:20:49.562522Z",
     "start_time": "2018-11-08T00:16:51.474807Z"
    }
   },
   "outputs": [
    {
     "name": "stdout",
     "output_type": "stream",
     "text": [
      "Epoch 1/200\n",
      "WARNING:tensorflow:From c:\\Users\\jorge\\Desktop\\Tec\\9no Sem\\Tecnm-ITM_IA\\venv\\Lib\\site-packages\\keras\\src\\utils\\tf_utils.py:492: The name tf.ragged.RaggedTensorValue is deprecated. Please use tf.compat.v1.ragged.RaggedTensorValue instead.\n",
      "\n",
      "WARNING:tensorflow:From c:\\Users\\jorge\\Desktop\\Tec\\9no Sem\\Tecnm-ITM_IA\\venv\\Lib\\site-packages\\keras\\src\\engine\\base_layer_utils.py:384: The name tf.executing_eagerly_outside_functions is deprecated. Please use tf.compat.v1.executing_eagerly_outside_functions instead.\n",
      "\n",
      "3065/3065 [==============================] - 8s 3ms/step - loss: 1.0827 - accuracy: 0.5775 - val_loss: 0.7829 - val_accuracy: 0.7223\n",
      "Epoch 2/200\n",
      "3065/3065 [==============================] - 7s 2ms/step - loss: 0.8171 - accuracy: 0.6990 - val_loss: 0.6727 - val_accuracy: 0.7507\n",
      "Epoch 3/200\n",
      "3065/3065 [==============================] - 7s 2ms/step - loss: 0.7304 - accuracy: 0.7317 - val_loss: 0.6175 - val_accuracy: 0.7670\n",
      "Epoch 4/200\n",
      "3065/3065 [==============================] - 8s 2ms/step - loss: 0.6743 - accuracy: 0.7520 - val_loss: 0.5698 - val_accuracy: 0.7903\n",
      "Epoch 5/200\n",
      "3065/3065 [==============================] - 8s 2ms/step - loss: 0.6371 - accuracy: 0.7662 - val_loss: 0.5333 - val_accuracy: 0.7969\n",
      "Epoch 6/200\n",
      "3065/3065 [==============================] - 8s 2ms/step - loss: 0.6003 - accuracy: 0.7781 - val_loss: 0.5141 - val_accuracy: 0.8102\n",
      "Epoch 7/200\n",
      "3065/3065 [==============================] - 8s 2ms/step - loss: 0.5797 - accuracy: 0.7865 - val_loss: 0.4940 - val_accuracy: 0.8181\n",
      "Epoch 8/200\n",
      "3065/3065 [==============================] - 8s 2ms/step - loss: 0.5614 - accuracy: 0.7937 - val_loss: 0.4754 - val_accuracy: 0.8220\n",
      "Epoch 9/200\n",
      "3065/3065 [==============================] - 8s 2ms/step - loss: 0.5499 - accuracy: 0.7985 - val_loss: 0.4631 - val_accuracy: 0.8243\n",
      "Epoch 10/200\n",
      "3065/3065 [==============================] - 8s 2ms/step - loss: 0.5372 - accuracy: 0.8039 - val_loss: 0.4513 - val_accuracy: 0.8330\n",
      "Epoch 11/200\n",
      "3065/3065 [==============================] - 8s 2ms/step - loss: 0.5291 - accuracy: 0.8068 - val_loss: 0.4408 - val_accuracy: 0.8370\n",
      "Epoch 12/200\n",
      "3065/3065 [==============================] - 8s 2ms/step - loss: 0.5203 - accuracy: 0.8092 - val_loss: 0.4455 - val_accuracy: 0.8384\n",
      "Epoch 13/200\n",
      "3065/3065 [==============================] - 8s 2ms/step - loss: 0.5104 - accuracy: 0.8136 - val_loss: 0.4325 - val_accuracy: 0.8384\n",
      "Epoch 14/200\n",
      "3065/3065 [==============================] - 8s 2ms/step - loss: 0.5012 - accuracy: 0.8151 - val_loss: 0.4221 - val_accuracy: 0.8445\n",
      "Epoch 15/200\n",
      "3065/3065 [==============================] - 8s 2ms/step - loss: 0.4993 - accuracy: 0.8180 - val_loss: 0.4167 - val_accuracy: 0.8461\n",
      "Epoch 16/200\n",
      "3065/3065 [==============================] - 7s 2ms/step - loss: 0.4902 - accuracy: 0.8211 - val_loss: 0.4251 - val_accuracy: 0.8408\n",
      "Epoch 17/200\n",
      "3065/3065 [==============================] - 8s 2ms/step - loss: 0.4825 - accuracy: 0.8223 - val_loss: 0.4072 - val_accuracy: 0.8486\n",
      "Epoch 18/200\n",
      "3065/3065 [==============================] - 8s 2ms/step - loss: 0.4831 - accuracy: 0.8253 - val_loss: 0.4029 - val_accuracy: 0.8513\n",
      "Epoch 19/200\n",
      "3065/3065 [==============================] - 8s 2ms/step - loss: 0.4757 - accuracy: 0.8255 - val_loss: 0.3992 - val_accuracy: 0.8524\n",
      "Epoch 20/200\n",
      "3065/3065 [==============================] - 8s 2ms/step - loss: 0.4743 - accuracy: 0.8291 - val_loss: 0.4070 - val_accuracy: 0.8520\n",
      "Epoch 21/200\n",
      "3065/3065 [==============================] - 8s 2ms/step - loss: 0.4726 - accuracy: 0.8266 - val_loss: 0.3945 - val_accuracy: 0.8527\n",
      "Epoch 22/200\n",
      "3065/3065 [==============================] - 7s 2ms/step - loss: 0.4652 - accuracy: 0.8299 - val_loss: 0.3955 - val_accuracy: 0.8513\n",
      "Epoch 23/200\n",
      "3065/3065 [==============================] - 8s 3ms/step - loss: 0.4637 - accuracy: 0.8301 - val_loss: 0.3899 - val_accuracy: 0.8561\n",
      "Epoch 24/200\n",
      "3065/3065 [==============================] - 8s 2ms/step - loss: 0.4598 - accuracy: 0.8317 - val_loss: 0.3897 - val_accuracy: 0.8553\n",
      "Epoch 25/200\n",
      "3065/3065 [==============================] - 7s 2ms/step - loss: 0.4583 - accuracy: 0.8345 - val_loss: 0.3867 - val_accuracy: 0.8573\n",
      "Epoch 26/200\n",
      "3065/3065 [==============================] - 8s 2ms/step - loss: 0.4551 - accuracy: 0.8323 - val_loss: 0.3800 - val_accuracy: 0.8600\n",
      "Epoch 27/200\n",
      "3065/3065 [==============================] - 8s 2ms/step - loss: 0.4537 - accuracy: 0.8339 - val_loss: 0.3789 - val_accuracy: 0.8606\n",
      "Epoch 28/200\n",
      "3065/3065 [==============================] - 7s 2ms/step - loss: 0.4510 - accuracy: 0.8350 - val_loss: 0.3808 - val_accuracy: 0.8607\n",
      "Epoch 29/200\n",
      "3065/3065 [==============================] - 8s 2ms/step - loss: 0.4486 - accuracy: 0.8360 - val_loss: 0.3748 - val_accuracy: 0.8603\n",
      "Epoch 30/200\n",
      "3065/3065 [==============================] - 7s 2ms/step - loss: 0.4491 - accuracy: 0.8369 - val_loss: 0.3746 - val_accuracy: 0.8614\n",
      "Epoch 31/200\n",
      "3065/3065 [==============================] - 7s 2ms/step - loss: 0.4457 - accuracy: 0.8371 - val_loss: 0.3733 - val_accuracy: 0.8613\n",
      "Epoch 32/200\n",
      "3065/3065 [==============================] - 8s 2ms/step - loss: 0.4392 - accuracy: 0.8393 - val_loss: 0.3744 - val_accuracy: 0.8605\n",
      "Epoch 33/200\n",
      "3065/3065 [==============================] - 8s 2ms/step - loss: 0.4380 - accuracy: 0.8402 - val_loss: 0.3672 - val_accuracy: 0.8630\n",
      "Epoch 34/200\n",
      "3065/3065 [==============================] - 8s 2ms/step - loss: 0.4388 - accuracy: 0.8416 - val_loss: 0.3687 - val_accuracy: 0.8623\n",
      "Epoch 35/200\n",
      "3065/3065 [==============================] - 7s 2ms/step - loss: 0.4353 - accuracy: 0.8408 - val_loss: 0.3669 - val_accuracy: 0.8635\n",
      "Epoch 36/200\n",
      "3065/3065 [==============================] - 7s 2ms/step - loss: 0.4329 - accuracy: 0.8419 - val_loss: 0.3630 - val_accuracy: 0.8655\n",
      "Epoch 37/200\n",
      "3065/3065 [==============================] - 7s 2ms/step - loss: 0.4337 - accuracy: 0.8417 - val_loss: 0.3657 - val_accuracy: 0.8643\n",
      "Epoch 38/200\n",
      "3065/3065 [==============================] - 7s 2ms/step - loss: 0.4284 - accuracy: 0.8431 - val_loss: 0.3629 - val_accuracy: 0.8672\n",
      "Epoch 39/200\n",
      "3065/3065 [==============================] - 7s 2ms/step - loss: 0.4288 - accuracy: 0.8431 - val_loss: 0.3621 - val_accuracy: 0.8649\n",
      "Epoch 40/200\n",
      "3065/3065 [==============================] - 7s 2ms/step - loss: 0.4279 - accuracy: 0.8448 - val_loss: 0.3632 - val_accuracy: 0.8644\n",
      "Epoch 41/200\n",
      "3065/3065 [==============================] - 7s 2ms/step - loss: 0.4291 - accuracy: 0.8443 - val_loss: 0.3589 - val_accuracy: 0.8670\n",
      "Epoch 42/200\n",
      "3065/3065 [==============================] - 7s 2ms/step - loss: 0.4271 - accuracy: 0.8441 - val_loss: 0.3572 - val_accuracy: 0.8664\n",
      "Epoch 43/200\n",
      "3065/3065 [==============================] - 7s 2ms/step - loss: 0.4222 - accuracy: 0.8467 - val_loss: 0.3573 - val_accuracy: 0.8679\n",
      "Epoch 44/200\n",
      "3065/3065 [==============================] - 7s 2ms/step - loss: 0.4209 - accuracy: 0.8474 - val_loss: 0.3542 - val_accuracy: 0.8686\n",
      "Epoch 45/200\n",
      "3065/3065 [==============================] - 7s 2ms/step - loss: 0.4198 - accuracy: 0.8484 - val_loss: 0.3563 - val_accuracy: 0.8688\n",
      "Epoch 46/200\n",
      "3065/3065 [==============================] - 7s 2ms/step - loss: 0.4176 - accuracy: 0.8482 - val_loss: 0.3524 - val_accuracy: 0.8686\n",
      "Epoch 47/200\n",
      "3065/3065 [==============================] - 7s 2ms/step - loss: 0.4181 - accuracy: 0.8461 - val_loss: 0.3548 - val_accuracy: 0.8701\n",
      "Epoch 48/200\n",
      "3065/3065 [==============================] - 7s 2ms/step - loss: 0.4187 - accuracy: 0.8481 - val_loss: 0.3562 - val_accuracy: 0.8676\n",
      "Epoch 49/200\n",
      "3065/3065 [==============================] - 7s 2ms/step - loss: 0.4165 - accuracy: 0.8498 - val_loss: 0.3495 - val_accuracy: 0.8710\n",
      "Epoch 50/200\n",
      "3065/3065 [==============================] - 7s 2ms/step - loss: 0.4186 - accuracy: 0.8489 - val_loss: 0.3541 - val_accuracy: 0.8667\n",
      "Epoch 51/200\n",
      "3065/3065 [==============================] - 7s 2ms/step - loss: 0.4152 - accuracy: 0.8502 - val_loss: 0.3496 - val_accuracy: 0.8698\n",
      "Epoch 52/200\n",
      "3065/3065 [==============================] - 7s 2ms/step - loss: 0.4137 - accuracy: 0.8498 - val_loss: 0.3487 - val_accuracy: 0.8723\n",
      "Epoch 53/200\n",
      "3065/3065 [==============================] - 7s 2ms/step - loss: 0.4126 - accuracy: 0.8506 - val_loss: 0.3474 - val_accuracy: 0.8701\n",
      "Epoch 54/200\n",
      "3065/3065 [==============================] - 7s 2ms/step - loss: 0.4086 - accuracy: 0.8508 - val_loss: 0.3429 - val_accuracy: 0.8731\n",
      "Epoch 55/200\n",
      "3065/3065 [==============================] - 7s 2ms/step - loss: 0.4095 - accuracy: 0.8516 - val_loss: 0.3435 - val_accuracy: 0.8718\n",
      "Epoch 56/200\n",
      "3065/3065 [==============================] - 7s 2ms/step - loss: 0.4080 - accuracy: 0.8515 - val_loss: 0.3449 - val_accuracy: 0.8723\n",
      "Epoch 57/200\n",
      "3065/3065 [==============================] - 7s 2ms/step - loss: 0.4087 - accuracy: 0.8491 - val_loss: 0.3536 - val_accuracy: 0.8691\n",
      "Epoch 58/200\n",
      "3065/3065 [==============================] - 7s 2ms/step - loss: 0.4097 - accuracy: 0.8516 - val_loss: 0.3479 - val_accuracy: 0.8681\n",
      "Epoch 59/200\n",
      "3065/3065 [==============================] - 7s 2ms/step - loss: 0.4082 - accuracy: 0.8527 - val_loss: 0.3421 - val_accuracy: 0.8730\n",
      "Epoch 60/200\n",
      "3065/3065 [==============================] - 7s 2ms/step - loss: 0.4050 - accuracy: 0.8522 - val_loss: 0.3449 - val_accuracy: 0.8718\n",
      "Epoch 61/200\n",
      "3065/3065 [==============================] - 7s 2ms/step - loss: 0.4066 - accuracy: 0.8511 - val_loss: 0.3392 - val_accuracy: 0.8759\n",
      "Epoch 62/200\n",
      "3065/3065 [==============================] - 7s 2ms/step - loss: 0.4051 - accuracy: 0.8526 - val_loss: 0.3401 - val_accuracy: 0.8740\n",
      "Epoch 63/200\n",
      "3065/3065 [==============================] - 7s 2ms/step - loss: 0.4042 - accuracy: 0.8519 - val_loss: 0.3372 - val_accuracy: 0.8737\n",
      "Epoch 64/200\n",
      "3065/3065 [==============================] - 7s 2ms/step - loss: 0.4042 - accuracy: 0.8518 - val_loss: 0.3388 - val_accuracy: 0.8750\n",
      "Epoch 65/200\n",
      "3065/3065 [==============================] - 7s 2ms/step - loss: 0.3989 - accuracy: 0.8539 - val_loss: 0.3374 - val_accuracy: 0.8746\n",
      "Epoch 66/200\n",
      "3065/3065 [==============================] - 7s 2ms/step - loss: 0.3994 - accuracy: 0.8538 - val_loss: 0.3374 - val_accuracy: 0.8755\n",
      "Epoch 67/200\n",
      "3065/3065 [==============================] - 7s 2ms/step - loss: 0.3982 - accuracy: 0.8545 - val_loss: 0.3386 - val_accuracy: 0.8738\n",
      "Epoch 68/200\n",
      "3065/3065 [==============================] - 7s 2ms/step - loss: 0.3998 - accuracy: 0.8531 - val_loss: 0.3366 - val_accuracy: 0.8743\n",
      "Epoch 69/200\n",
      "3065/3065 [==============================] - 7s 2ms/step - loss: 0.3991 - accuracy: 0.8559 - val_loss: 0.3354 - val_accuracy: 0.8775\n",
      "Epoch 70/200\n",
      "3065/3065 [==============================] - 7s 2ms/step - loss: 0.3964 - accuracy: 0.8547 - val_loss: 0.3339 - val_accuracy: 0.8754\n",
      "Epoch 71/200\n",
      "3065/3065 [==============================] - 7s 2ms/step - loss: 0.3967 - accuracy: 0.8554 - val_loss: 0.3376 - val_accuracy: 0.8759\n",
      "Epoch 72/200\n",
      "3065/3065 [==============================] - 7s 2ms/step - loss: 0.3950 - accuracy: 0.8574 - val_loss: 0.3319 - val_accuracy: 0.8768\n",
      "Epoch 73/200\n",
      "3065/3065 [==============================] - 7s 2ms/step - loss: 0.3948 - accuracy: 0.8555 - val_loss: 0.3337 - val_accuracy: 0.8752\n",
      "Epoch 74/200\n",
      "3065/3065 [==============================] - 7s 2ms/step - loss: 0.3941 - accuracy: 0.8577 - val_loss: 0.3345 - val_accuracy: 0.8753\n",
      "Epoch 75/200\n",
      "3065/3065 [==============================] - 7s 2ms/step - loss: 0.3912 - accuracy: 0.8582 - val_loss: 0.3305 - val_accuracy: 0.8774\n",
      "Epoch 76/200\n",
      "3065/3065 [==============================] - 7s 2ms/step - loss: 0.3944 - accuracy: 0.8572 - val_loss: 0.3308 - val_accuracy: 0.8762\n",
      "Epoch 77/200\n",
      "3065/3065 [==============================] - 7s 2ms/step - loss: 0.3927 - accuracy: 0.8583 - val_loss: 0.3307 - val_accuracy: 0.8766\n",
      "Epoch 78/200\n",
      "3065/3065 [==============================] - 7s 2ms/step - loss: 0.3926 - accuracy: 0.8551 - val_loss: 0.3315 - val_accuracy: 0.8770\n",
      "Epoch 79/200\n",
      "3065/3065 [==============================] - 7s 2ms/step - loss: 0.3922 - accuracy: 0.8562 - val_loss: 0.3297 - val_accuracy: 0.8779\n",
      "Epoch 80/200\n",
      "3065/3065 [==============================] - 8s 2ms/step - loss: 0.3889 - accuracy: 0.8579 - val_loss: 0.3271 - val_accuracy: 0.8788\n",
      "Epoch 81/200\n",
      "3065/3065 [==============================] - 7s 2ms/step - loss: 0.3918 - accuracy: 0.8585 - val_loss: 0.3277 - val_accuracy: 0.8781\n",
      "Epoch 82/200\n",
      "3065/3065 [==============================] - 7s 2ms/step - loss: 0.3902 - accuracy: 0.8591 - val_loss: 0.3411 - val_accuracy: 0.8725\n",
      "Epoch 83/200\n",
      "3065/3065 [==============================] - 7s 2ms/step - loss: 0.3908 - accuracy: 0.8589 - val_loss: 0.3269 - val_accuracy: 0.8795\n",
      "Epoch 84/200\n",
      "3065/3065 [==============================] - 7s 2ms/step - loss: 0.3908 - accuracy: 0.8587 - val_loss: 0.3281 - val_accuracy: 0.8776\n",
      "Epoch 85/200\n",
      "3065/3065 [==============================] - 7s 2ms/step - loss: 0.3858 - accuracy: 0.8588 - val_loss: 0.3280 - val_accuracy: 0.8769\n",
      "Epoch 86/200\n",
      "3065/3065 [==============================] - 7s 2ms/step - loss: 0.3897 - accuracy: 0.8589 - val_loss: 0.3271 - val_accuracy: 0.8769\n",
      "Epoch 87/200\n",
      "3065/3065 [==============================] - 7s 2ms/step - loss: 0.3851 - accuracy: 0.8607 - val_loss: 0.3250 - val_accuracy: 0.8794\n",
      "Epoch 88/200\n",
      "3065/3065 [==============================] - 7s 2ms/step - loss: 0.3852 - accuracy: 0.8597 - val_loss: 0.3291 - val_accuracy: 0.8794\n",
      "Epoch 89/200\n",
      "3065/3065 [==============================] - 7s 2ms/step - loss: 0.3874 - accuracy: 0.8596 - val_loss: 0.3282 - val_accuracy: 0.8763\n",
      "Epoch 90/200\n",
      "3065/3065 [==============================] - 7s 2ms/step - loss: 0.3834 - accuracy: 0.8602 - val_loss: 0.3230 - val_accuracy: 0.8792\n",
      "Epoch 91/200\n",
      "3065/3065 [==============================] - 7s 2ms/step - loss: 0.3844 - accuracy: 0.8601 - val_loss: 0.3248 - val_accuracy: 0.8794\n",
      "Epoch 92/200\n",
      "3065/3065 [==============================] - 7s 2ms/step - loss: 0.3839 - accuracy: 0.8608 - val_loss: 0.3239 - val_accuracy: 0.8799\n",
      "Epoch 93/200\n",
      "3065/3065 [==============================] - 7s 2ms/step - loss: 0.3835 - accuracy: 0.8619 - val_loss: 0.3220 - val_accuracy: 0.8792\n",
      "Epoch 94/200\n",
      "3065/3065 [==============================] - 7s 2ms/step - loss: 0.3832 - accuracy: 0.8611 - val_loss: 0.3217 - val_accuracy: 0.8812\n",
      "Epoch 95/200\n",
      "3065/3065 [==============================] - 7s 2ms/step - loss: 0.3832 - accuracy: 0.8602 - val_loss: 0.3237 - val_accuracy: 0.8790\n",
      "Epoch 96/200\n",
      "3065/3065 [==============================] - 7s 2ms/step - loss: 0.3801 - accuracy: 0.8633 - val_loss: 0.3213 - val_accuracy: 0.8802\n",
      "Epoch 97/200\n",
      "3065/3065 [==============================] - 8s 2ms/step - loss: 0.3817 - accuracy: 0.8618 - val_loss: 0.3220 - val_accuracy: 0.8828\n",
      "Epoch 98/200\n",
      "3065/3065 [==============================] - 7s 2ms/step - loss: 0.3825 - accuracy: 0.8601 - val_loss: 0.3213 - val_accuracy: 0.8807\n",
      "Epoch 99/200\n",
      "3065/3065 [==============================] - 7s 2ms/step - loss: 0.3810 - accuracy: 0.8620 - val_loss: 0.3216 - val_accuracy: 0.8808\n",
      "Epoch 100/200\n",
      "3065/3065 [==============================] - 7s 2ms/step - loss: 0.3805 - accuracy: 0.8610 - val_loss: 0.3220 - val_accuracy: 0.8808\n",
      "Epoch 101/200\n",
      "3065/3065 [==============================] - 7s 2ms/step - loss: 0.3772 - accuracy: 0.8618 - val_loss: 0.3197 - val_accuracy: 0.8812\n",
      "Epoch 102/200\n",
      "3065/3065 [==============================] - 7s 2ms/step - loss: 0.3805 - accuracy: 0.8615 - val_loss: 0.3204 - val_accuracy: 0.8824\n",
      "Epoch 103/200\n",
      "3065/3065 [==============================] - 7s 2ms/step - loss: 0.3797 - accuracy: 0.8621 - val_loss: 0.3211 - val_accuracy: 0.8807\n",
      "Epoch 104/200\n",
      "3065/3065 [==============================] - 7s 2ms/step - loss: 0.3774 - accuracy: 0.8630 - val_loss: 0.3186 - val_accuracy: 0.8833\n",
      "Epoch 105/200\n",
      "3065/3065 [==============================] - 7s 2ms/step - loss: 0.3786 - accuracy: 0.8624 - val_loss: 0.3186 - val_accuracy: 0.8836\n",
      "Epoch 106/200\n",
      "3065/3065 [==============================] - 7s 2ms/step - loss: 0.3785 - accuracy: 0.8626 - val_loss: 0.3185 - val_accuracy: 0.8842\n",
      "Epoch 107/200\n",
      "3065/3065 [==============================] - 7s 2ms/step - loss: 0.3752 - accuracy: 0.8640 - val_loss: 0.3161 - val_accuracy: 0.8826\n",
      "Epoch 108/200\n",
      "3065/3065 [==============================] - 7s 2ms/step - loss: 0.3761 - accuracy: 0.8637 - val_loss: 0.3186 - val_accuracy: 0.8837\n",
      "Epoch 109/200\n",
      "3065/3065 [==============================] - 7s 2ms/step - loss: 0.3767 - accuracy: 0.8636 - val_loss: 0.3215 - val_accuracy: 0.8802\n",
      "Epoch 110/200\n",
      "3065/3065 [==============================] - 7s 2ms/step - loss: 0.3770 - accuracy: 0.8635 - val_loss: 0.3157 - val_accuracy: 0.8843\n",
      "Epoch 111/200\n",
      "3065/3065 [==============================] - 7s 2ms/step - loss: 0.3738 - accuracy: 0.8649 - val_loss: 0.3143 - val_accuracy: 0.8837\n",
      "Epoch 112/200\n",
      "3065/3065 [==============================] - 7s 2ms/step - loss: 0.3752 - accuracy: 0.8624 - val_loss: 0.3143 - val_accuracy: 0.8843\n",
      "Epoch 113/200\n",
      "3065/3065 [==============================] - 7s 2ms/step - loss: 0.3746 - accuracy: 0.8625 - val_loss: 0.3184 - val_accuracy: 0.8844\n",
      "Epoch 114/200\n",
      "3065/3065 [==============================] - 7s 2ms/step - loss: 0.3744 - accuracy: 0.8640 - val_loss: 0.3180 - val_accuracy: 0.8840\n",
      "Epoch 115/200\n",
      "3065/3065 [==============================] - 7s 2ms/step - loss: 0.3725 - accuracy: 0.8647 - val_loss: 0.3147 - val_accuracy: 0.8843\n",
      "Epoch 116/200\n",
      "3065/3065 [==============================] - 8s 3ms/step - loss: 0.3723 - accuracy: 0.8640 - val_loss: 0.3156 - val_accuracy: 0.8833\n",
      "Epoch 117/200\n",
      "3065/3065 [==============================] - 7s 2ms/step - loss: 0.3746 - accuracy: 0.8635 - val_loss: 0.3169 - val_accuracy: 0.8826\n",
      "Epoch 118/200\n",
      "3065/3065 [==============================] - 7s 2ms/step - loss: 0.3750 - accuracy: 0.8633 - val_loss: 0.3141 - val_accuracy: 0.8824\n",
      "Epoch 119/200\n",
      "3065/3065 [==============================] - 7s 2ms/step - loss: 0.3713 - accuracy: 0.8652 - val_loss: 0.3144 - val_accuracy: 0.8839\n",
      "Epoch 120/200\n",
      "3065/3065 [==============================] - 7s 2ms/step - loss: 0.3703 - accuracy: 0.8652 - val_loss: 0.3123 - val_accuracy: 0.8857\n",
      "Epoch 121/200\n",
      "3065/3065 [==============================] - 7s 2ms/step - loss: 0.3699 - accuracy: 0.8682 - val_loss: 0.3112 - val_accuracy: 0.8851\n",
      "Epoch 122/200\n",
      "3065/3065 [==============================] - 7s 2ms/step - loss: 0.3700 - accuracy: 0.8663 - val_loss: 0.3106 - val_accuracy: 0.8852\n",
      "Epoch 123/200\n",
      "3065/3065 [==============================] - 7s 2ms/step - loss: 0.3713 - accuracy: 0.8645 - val_loss: 0.3121 - val_accuracy: 0.8859\n",
      "Epoch 124/200\n",
      "3065/3065 [==============================] - 7s 2ms/step - loss: 0.3742 - accuracy: 0.8645 - val_loss: 0.3142 - val_accuracy: 0.8842\n",
      "Epoch 125/200\n",
      "3065/3065 [==============================] - 7s 2ms/step - loss: 0.3702 - accuracy: 0.8656 - val_loss: 0.3120 - val_accuracy: 0.8843\n",
      "Epoch 126/200\n",
      "3065/3065 [==============================] - 7s 2ms/step - loss: 0.3649 - accuracy: 0.8685 - val_loss: 0.3107 - val_accuracy: 0.8847\n",
      "Epoch 127/200\n",
      "3065/3065 [==============================] - 8s 2ms/step - loss: 0.3690 - accuracy: 0.8672 - val_loss: 0.3107 - val_accuracy: 0.8853\n",
      "Epoch 128/200\n",
      "3065/3065 [==============================] - 7s 2ms/step - loss: 0.3691 - accuracy: 0.8660 - val_loss: 0.3115 - val_accuracy: 0.8848\n",
      "Epoch 129/200\n",
      "3065/3065 [==============================] - 7s 2ms/step - loss: 0.3692 - accuracy: 0.8665 - val_loss: 0.3089 - val_accuracy: 0.8868\n",
      "Epoch 130/200\n",
      "3065/3065 [==============================] - 7s 2ms/step - loss: 0.3701 - accuracy: 0.8656 - val_loss: 0.3110 - val_accuracy: 0.8869\n",
      "Epoch 131/200\n",
      "3065/3065 [==============================] - 8s 2ms/step - loss: 0.3674 - accuracy: 0.8676 - val_loss: 0.3093 - val_accuracy: 0.8862\n",
      "Epoch 132/200\n",
      "3065/3065 [==============================] - 8s 3ms/step - loss: 0.3675 - accuracy: 0.8647 - val_loss: 0.3119 - val_accuracy: 0.8859\n",
      "Epoch 133/200\n",
      "3065/3065 [==============================] - 8s 3ms/step - loss: 0.3667 - accuracy: 0.8652 - val_loss: 0.3070 - val_accuracy: 0.8861\n",
      "Epoch 134/200\n",
      "3065/3065 [==============================] - 7s 2ms/step - loss: 0.3676 - accuracy: 0.8679 - val_loss: 0.3081 - val_accuracy: 0.8867\n",
      "Epoch 135/200\n",
      "3065/3065 [==============================] - 7s 2ms/step - loss: 0.3671 - accuracy: 0.8678 - val_loss: 0.3090 - val_accuracy: 0.8867\n",
      "Epoch 136/200\n",
      "3065/3065 [==============================] - 7s 2ms/step - loss: 0.3675 - accuracy: 0.8677 - val_loss: 0.3088 - val_accuracy: 0.8861\n",
      "Epoch 137/200\n",
      "3065/3065 [==============================] - 7s 2ms/step - loss: 0.3659 - accuracy: 0.8665 - val_loss: 0.3091 - val_accuracy: 0.8878\n",
      "Epoch 138/200\n",
      "3065/3065 [==============================] - 7s 2ms/step - loss: 0.3667 - accuracy: 0.8668 - val_loss: 0.3075 - val_accuracy: 0.8874\n",
      "Epoch 139/200\n",
      "3065/3065 [==============================] - 7s 2ms/step - loss: 0.3654 - accuracy: 0.8661 - val_loss: 0.3079 - val_accuracy: 0.8850\n",
      "Epoch 140/200\n",
      "3065/3065 [==============================] - 7s 2ms/step - loss: 0.3657 - accuracy: 0.8681 - val_loss: 0.3065 - val_accuracy: 0.8869\n",
      "Epoch 141/200\n",
      "3065/3065 [==============================] - 7s 2ms/step - loss: 0.3635 - accuracy: 0.8689 - val_loss: 0.3056 - val_accuracy: 0.8886\n",
      "Epoch 142/200\n",
      "3065/3065 [==============================] - 7s 2ms/step - loss: 0.3645 - accuracy: 0.8688 - val_loss: 0.3069 - val_accuracy: 0.8865\n",
      "Epoch 143/200\n",
      "3065/3065 [==============================] - 7s 2ms/step - loss: 0.3657 - accuracy: 0.8683 - val_loss: 0.3089 - val_accuracy: 0.8867\n",
      "Epoch 144/200\n",
      "3065/3065 [==============================] - 7s 2ms/step - loss: 0.3632 - accuracy: 0.8682 - val_loss: 0.3070 - val_accuracy: 0.8875\n",
      "Epoch 145/200\n",
      "3065/3065 [==============================] - 7s 2ms/step - loss: 0.3645 - accuracy: 0.8676 - val_loss: 0.3059 - val_accuracy: 0.8869\n",
      "Epoch 146/200\n",
      "3065/3065 [==============================] - 7s 2ms/step - loss: 0.3648 - accuracy: 0.8681 - val_loss: 0.3065 - val_accuracy: 0.8881\n",
      "Epoch 147/200\n",
      "3065/3065 [==============================] - 7s 2ms/step - loss: 0.3631 - accuracy: 0.8674 - val_loss: 0.3056 - val_accuracy: 0.8884\n",
      "Epoch 148/200\n",
      "3065/3065 [==============================] - 7s 2ms/step - loss: 0.3656 - accuracy: 0.8685 - val_loss: 0.3064 - val_accuracy: 0.8883\n",
      "Epoch 149/200\n",
      "3065/3065 [==============================] - 7s 2ms/step - loss: 0.3641 - accuracy: 0.8682 - val_loss: 0.3052 - val_accuracy: 0.8867\n",
      "Epoch 150/200\n",
      "3065/3065 [==============================] - 8s 2ms/step - loss: 0.3595 - accuracy: 0.8703 - val_loss: 0.3044 - val_accuracy: 0.8892\n",
      "Epoch 151/200\n",
      "3065/3065 [==============================] - 7s 2ms/step - loss: 0.3631 - accuracy: 0.8673 - val_loss: 0.3048 - val_accuracy: 0.8883\n",
      "Epoch 152/200\n",
      "3065/3065 [==============================] - 7s 2ms/step - loss: 0.3606 - accuracy: 0.8687 - val_loss: 0.3041 - val_accuracy: 0.8875\n",
      "Epoch 153/200\n",
      "3065/3065 [==============================] - 7s 2ms/step - loss: 0.3606 - accuracy: 0.8691 - val_loss: 0.3022 - val_accuracy: 0.8890\n",
      "Epoch 154/200\n",
      "3065/3065 [==============================] - 7s 2ms/step - loss: 0.3618 - accuracy: 0.8696 - val_loss: 0.3032 - val_accuracy: 0.8892\n",
      "Epoch 155/200\n",
      "3065/3065 [==============================] - 7s 2ms/step - loss: 0.3577 - accuracy: 0.8698 - val_loss: 0.3023 - val_accuracy: 0.8888\n",
      "Epoch 156/200\n",
      "3065/3065 [==============================] - 7s 2ms/step - loss: 0.3611 - accuracy: 0.8706 - val_loss: 0.3034 - val_accuracy: 0.8885\n",
      "Epoch 157/200\n",
      "3065/3065 [==============================] - 8s 2ms/step - loss: 0.3621 - accuracy: 0.8699 - val_loss: 0.3043 - val_accuracy: 0.8896\n",
      "Epoch 158/200\n",
      "3065/3065 [==============================] - 7s 2ms/step - loss: 0.3602 - accuracy: 0.8690 - val_loss: 0.3027 - val_accuracy: 0.8883\n",
      "Epoch 159/200\n",
      "3065/3065 [==============================] - 7s 2ms/step - loss: 0.3601 - accuracy: 0.8702 - val_loss: 0.3032 - val_accuracy: 0.8884\n",
      "Epoch 160/200\n",
      "3065/3065 [==============================] - 8s 2ms/step - loss: 0.3576 - accuracy: 0.8713 - val_loss: 0.3027 - val_accuracy: 0.8895\n",
      "Epoch 161/200\n",
      "3065/3065 [==============================] - 7s 2ms/step - loss: 0.3568 - accuracy: 0.8723 - val_loss: 0.3031 - val_accuracy: 0.8878\n",
      "Epoch 162/200\n",
      "3065/3065 [==============================] - 7s 2ms/step - loss: 0.3560 - accuracy: 0.8711 - val_loss: 0.3003 - val_accuracy: 0.8898\n",
      "Epoch 163/200\n",
      "3065/3065 [==============================] - 8s 3ms/step - loss: 0.3561 - accuracy: 0.8722 - val_loss: 0.3014 - val_accuracy: 0.8894\n",
      "Epoch 164/200\n",
      "3065/3065 [==============================] - 7s 2ms/step - loss: 0.3620 - accuracy: 0.8673 - val_loss: 0.3000 - val_accuracy: 0.8892\n",
      "Epoch 165/200\n",
      "3065/3065 [==============================] - 7s 2ms/step - loss: 0.3544 - accuracy: 0.8720 - val_loss: 0.3008 - val_accuracy: 0.8900\n",
      "Epoch 166/200\n",
      "3065/3065 [==============================] - 7s 2ms/step - loss: 0.3613 - accuracy: 0.8687 - val_loss: 0.3028 - val_accuracy: 0.8887\n",
      "Epoch 167/200\n",
      "3065/3065 [==============================] - 7s 2ms/step - loss: 0.3594 - accuracy: 0.8698 - val_loss: 0.3008 - val_accuracy: 0.8900\n",
      "Epoch 168/200\n",
      "3065/3065 [==============================] - 7s 2ms/step - loss: 0.3562 - accuracy: 0.8712 - val_loss: 0.2991 - val_accuracy: 0.8907\n",
      "Epoch 169/200\n",
      "3065/3065 [==============================] - 7s 2ms/step - loss: 0.3591 - accuracy: 0.8709 - val_loss: 0.3000 - val_accuracy: 0.8898\n",
      "Epoch 170/200\n",
      "3065/3065 [==============================] - 7s 2ms/step - loss: 0.3547 - accuracy: 0.8707 - val_loss: 0.2997 - val_accuracy: 0.8898\n",
      "Epoch 171/200\n",
      "3065/3065 [==============================] - 8s 2ms/step - loss: 0.3581 - accuracy: 0.8701 - val_loss: 0.2993 - val_accuracy: 0.8900\n",
      "Epoch 172/200\n",
      "3065/3065 [==============================] - 7s 2ms/step - loss: 0.3604 - accuracy: 0.8699 - val_loss: 0.3000 - val_accuracy: 0.8895\n",
      "Epoch 173/200\n",
      "3065/3065 [==============================] - 7s 2ms/step - loss: 0.3556 - accuracy: 0.8710 - val_loss: 0.2982 - val_accuracy: 0.8917\n",
      "Epoch 174/200\n",
      "3065/3065 [==============================] - 7s 2ms/step - loss: 0.3572 - accuracy: 0.8703 - val_loss: 0.2986 - val_accuracy: 0.8908\n",
      "Epoch 175/200\n",
      "3065/3065 [==============================] - 7s 2ms/step - loss: 0.3568 - accuracy: 0.8709 - val_loss: 0.2980 - val_accuracy: 0.8905\n",
      "Epoch 176/200\n",
      "3065/3065 [==============================] - 8s 2ms/step - loss: 0.3520 - accuracy: 0.8727 - val_loss: 0.2962 - val_accuracy: 0.8904\n",
      "Epoch 177/200\n",
      "3065/3065 [==============================] - 8s 3ms/step - loss: 0.3536 - accuracy: 0.8711 - val_loss: 0.2976 - val_accuracy: 0.8919\n",
      "Epoch 178/200\n",
      "3065/3065 [==============================] - 7s 2ms/step - loss: 0.3527 - accuracy: 0.8722 - val_loss: 0.2984 - val_accuracy: 0.8903\n",
      "Epoch 179/200\n",
      "3065/3065 [==============================] - 7s 2ms/step - loss: 0.3540 - accuracy: 0.8702 - val_loss: 0.2985 - val_accuracy: 0.8900\n",
      "Epoch 180/200\n",
      "3065/3065 [==============================] - 7s 2ms/step - loss: 0.3545 - accuracy: 0.8721 - val_loss: 0.2964 - val_accuracy: 0.8894\n",
      "Epoch 181/200\n",
      "3065/3065 [==============================] - 7s 2ms/step - loss: 0.3558 - accuracy: 0.8719 - val_loss: 0.2984 - val_accuracy: 0.8915\n",
      "Epoch 182/200\n",
      "3065/3065 [==============================] - 8s 2ms/step - loss: 0.3535 - accuracy: 0.8726 - val_loss: 0.2965 - val_accuracy: 0.8921\n",
      "Epoch 183/200\n",
      "3065/3065 [==============================] - 7s 2ms/step - loss: 0.3572 - accuracy: 0.8705 - val_loss: 0.2987 - val_accuracy: 0.8884\n",
      "Epoch 184/200\n",
      "3065/3065 [==============================] - 7s 2ms/step - loss: 0.3553 - accuracy: 0.8713 - val_loss: 0.2973 - val_accuracy: 0.8915\n",
      "Epoch 185/200\n",
      "3065/3065 [==============================] - 8s 2ms/step - loss: 0.3525 - accuracy: 0.8727 - val_loss: 0.2965 - val_accuracy: 0.8920\n",
      "Epoch 186/200\n",
      "3065/3065 [==============================] - 7s 2ms/step - loss: 0.3506 - accuracy: 0.8729 - val_loss: 0.2968 - val_accuracy: 0.8916\n",
      "Epoch 187/200\n",
      "3065/3065 [==============================] - 7s 2ms/step - loss: 0.3512 - accuracy: 0.8726 - val_loss: 0.2962 - val_accuracy: 0.8913\n",
      "Epoch 188/200\n",
      "3065/3065 [==============================] - 7s 2ms/step - loss: 0.3532 - accuracy: 0.8710 - val_loss: 0.2974 - val_accuracy: 0.8915\n",
      "Epoch 189/200\n",
      "3065/3065 [==============================] - 7s 2ms/step - loss: 0.3533 - accuracy: 0.8723 - val_loss: 0.2963 - val_accuracy: 0.8925\n",
      "Epoch 190/200\n",
      "3065/3065 [==============================] - 7s 2ms/step - loss: 0.3528 - accuracy: 0.8725 - val_loss: 0.2980 - val_accuracy: 0.8910\n",
      "Epoch 191/200\n",
      "3065/3065 [==============================] - 7s 2ms/step - loss: 0.3526 - accuracy: 0.8733 - val_loss: 0.2960 - val_accuracy: 0.8921\n",
      "Epoch 192/200\n",
      "3065/3065 [==============================] - 7s 2ms/step - loss: 0.3507 - accuracy: 0.8732 - val_loss: 0.2946 - val_accuracy: 0.8923\n",
      "Epoch 193/200\n",
      "3065/3065 [==============================] - 7s 2ms/step - loss: 0.3523 - accuracy: 0.8724 - val_loss: 0.2956 - val_accuracy: 0.8909\n",
      "Epoch 194/200\n",
      "3065/3065 [==============================] - 7s 2ms/step - loss: 0.3547 - accuracy: 0.8719 - val_loss: 0.2947 - val_accuracy: 0.8916\n",
      "Epoch 195/200\n",
      "3065/3065 [==============================] - 7s 2ms/step - loss: 0.3528 - accuracy: 0.8743 - val_loss: 0.2936 - val_accuracy: 0.8922\n",
      "Epoch 196/200\n",
      "3065/3065 [==============================] - 7s 2ms/step - loss: 0.3502 - accuracy: 0.8726 - val_loss: 0.2932 - val_accuracy: 0.8927\n",
      "Epoch 197/200\n",
      "3065/3065 [==============================] - 7s 2ms/step - loss: 0.3494 - accuracy: 0.8736 - val_loss: 0.2977 - val_accuracy: 0.8893\n",
      "Epoch 198/200\n",
      "3065/3065 [==============================] - 7s 2ms/step - loss: 0.3530 - accuracy: 0.8719 - val_loss: 0.2948 - val_accuracy: 0.8930\n",
      "Epoch 199/200\n",
      "3065/3065 [==============================] - 7s 2ms/step - loss: 0.3515 - accuracy: 0.8749 - val_loss: 0.2952 - val_accuracy: 0.8929\n",
      "Epoch 200/200\n",
      "3065/3065 [==============================] - 7s 2ms/step - loss: 0.3512 - accuracy: 0.8733 - val_loss: 0.2925 - val_accuracy: 0.8935\n"
     ]
    }
   ],
   "source": [
    "# este paso puede tomar varios minutos, dependiendo de tu ordenador, cpu y memoria ram libre\n",
    "flor_train = flor_model.fit(train_X, train_label, batch_size=batch_size,epochs=epochs,verbose=1,validation_data=(valid_X, valid_label))"
   ]
  },
  {
   "cell_type": "code",
   "execution_count": 20,
   "metadata": {
    "ExecuteTime": {
     "end_time": "2018-11-08T00:20:49.676566Z",
     "start_time": "2018-11-08T00:20:49.566203Z"
    }
   },
   "outputs": [
    {
     "name": "stderr",
     "output_type": "stream",
     "text": [
      "c:\\Users\\jorge\\Desktop\\Tec\\9no Sem\\Tecnm-ITM_IA\\venv\\Lib\\site-packages\\keras\\src\\engine\\training.py:3103: UserWarning: You are saving your model as an HDF5 file via `model.save()`. This file format is considered legacy. We recommend using instead the native Keras format, e.g. `model.save('my_model.keras')`.\n",
      "  saving_api.save_model(\n"
     ]
    }
   ],
   "source": [
    "# guardamos la red, para reutilizarla en el futuro, sin tener que volver a entrenar\n",
    "\"\"\" flor_model.save(\"/home/likcos/setDocto/celulas.h5\") \"\"\"\n",
    "flor_model.save(\"./flor_model2.h5py\")"
   ]
  },
  {
   "cell_type": "markdown",
   "metadata": {},
   "source": [
    "# Evaluamos la red"
   ]
  },
  {
   "cell_type": "code",
   "execution_count": 21,
   "metadata": {
    "ExecuteTime": {
     "end_time": "2018-11-08T00:20:54.462929Z",
     "start_time": "2018-11-08T00:20:49.678643Z"
    }
   },
   "outputs": [
    {
     "name": "stdout",
     "output_type": "stream",
     "text": [
      "479/479 [==============================] - 1s 1ms/step - loss: 0.3024 - accuracy: 0.8915\n"
     ]
    }
   ],
   "source": [
    "test_eval = flor_model.evaluate(test_X, test_Y_one_hot, verbose=1)"
   ]
  },
  {
   "cell_type": "code",
   "execution_count": 22,
   "metadata": {
    "ExecuteTime": {
     "end_time": "2018-11-08T00:20:54.474683Z",
     "start_time": "2018-11-08T00:20:54.465378Z"
    }
   },
   "outputs": [
    {
     "name": "stdout",
     "output_type": "stream",
     "text": [
      "Test loss: 0.3023633062839508\n",
      "Test accuracy: 0.8914844989776611\n"
     ]
    }
   ],
   "source": [
    "print('Test loss:', test_eval[0])\n",
    "print('Test accuracy:', test_eval[1])"
   ]
  },
  {
   "cell_type": "code",
   "execution_count": 23,
   "metadata": {},
   "outputs": [
    {
     "data": {
      "text/plain": [
       "{'loss': [1.082677960395813,\n",
       "  0.8170740604400635,\n",
       "  0.7303640246391296,\n",
       "  0.6743090152740479,\n",
       "  0.6370900869369507,\n",
       "  0.6003198027610779,\n",
       "  0.5797141194343567,\n",
       "  0.5614347457885742,\n",
       "  0.5499246120452881,\n",
       "  0.5372236967086792,\n",
       "  0.5291119813919067,\n",
       "  0.5202988982200623,\n",
       "  0.5104203224182129,\n",
       "  0.5011923909187317,\n",
       "  0.4993021786212921,\n",
       "  0.4902290403842926,\n",
       "  0.48254749178886414,\n",
       "  0.4830559194087982,\n",
       "  0.4756925106048584,\n",
       "  0.4743479788303375,\n",
       "  0.472636878490448,\n",
       "  0.46522989869117737,\n",
       "  0.4637385904788971,\n",
       "  0.4598493278026581,\n",
       "  0.4583348333835602,\n",
       "  0.4550742506980896,\n",
       "  0.453741192817688,\n",
       "  0.45104390382766724,\n",
       "  0.44856929779052734,\n",
       "  0.4490779638290405,\n",
       "  0.4456850290298462,\n",
       "  0.43915435671806335,\n",
       "  0.43798744678497314,\n",
       "  0.43877992033958435,\n",
       "  0.4352651536464691,\n",
       "  0.43290576338768005,\n",
       "  0.43365225195884705,\n",
       "  0.42841437458992004,\n",
       "  0.42878901958465576,\n",
       "  0.42787960171699524,\n",
       "  0.4290602207183838,\n",
       "  0.42707082629203796,\n",
       "  0.4221649169921875,\n",
       "  0.4208809733390808,\n",
       "  0.4197503328323364,\n",
       "  0.41758647561073303,\n",
       "  0.418131023645401,\n",
       "  0.4187234342098236,\n",
       "  0.4164815843105316,\n",
       "  0.41860494017601013,\n",
       "  0.41516709327697754,\n",
       "  0.4136795699596405,\n",
       "  0.4126160144805908,\n",
       "  0.4085913896560669,\n",
       "  0.4094734489917755,\n",
       "  0.40796226263046265,\n",
       "  0.4087230861186981,\n",
       "  0.4096944332122803,\n",
       "  0.4081794321537018,\n",
       "  0.40500226616859436,\n",
       "  0.4065508246421814,\n",
       "  0.4050629436969757,\n",
       "  0.4041558504104614,\n",
       "  0.4042471647262573,\n",
       "  0.39885595440864563,\n",
       "  0.39942800998687744,\n",
       "  0.39823558926582336,\n",
       "  0.3997887074947357,\n",
       "  0.399065762758255,\n",
       "  0.3963928520679474,\n",
       "  0.39665699005126953,\n",
       "  0.39499956369400024,\n",
       "  0.3948323726654053,\n",
       "  0.39413997530937195,\n",
       "  0.39120516180992126,\n",
       "  0.3943875730037689,\n",
       "  0.39274704456329346,\n",
       "  0.39264705777168274,\n",
       "  0.3921877443790436,\n",
       "  0.3888985812664032,\n",
       "  0.3917570114135742,\n",
       "  0.3901909291744232,\n",
       "  0.3908338248729706,\n",
       "  0.3908231854438782,\n",
       "  0.38576486706733704,\n",
       "  0.3896779716014862,\n",
       "  0.38511377573013306,\n",
       "  0.38516196608543396,\n",
       "  0.38740912079811096,\n",
       "  0.3833896219730377,\n",
       "  0.3843536972999573,\n",
       "  0.3838953375816345,\n",
       "  0.38353583216667175,\n",
       "  0.3831792175769806,\n",
       "  0.3831765949726105,\n",
       "  0.38011616468429565,\n",
       "  0.3817089796066284,\n",
       "  0.3825407326221466,\n",
       "  0.38104236125946045,\n",
       "  0.38052284717559814,\n",
       "  0.37720292806625366,\n",
       "  0.38053297996520996,\n",
       "  0.37965869903564453,\n",
       "  0.37744250893592834,\n",
       "  0.3785514831542969,\n",
       "  0.3785192668437958,\n",
       "  0.37515345215797424,\n",
       "  0.3760630786418915,\n",
       "  0.3767167031764984,\n",
       "  0.3769558370113373,\n",
       "  0.3737623393535614,\n",
       "  0.37521612644195557,\n",
       "  0.3746489882469177,\n",
       "  0.374400794506073,\n",
       "  0.3725278675556183,\n",
       "  0.37232935428619385,\n",
       "  0.37464389204978943,\n",
       "  0.3750306963920593,\n",
       "  0.37130042910575867,\n",
       "  0.37033379077911377,\n",
       "  0.3698517084121704,\n",
       "  0.3700048625469208,\n",
       "  0.3712894022464752,\n",
       "  0.3741573989391327,\n",
       "  0.37019339203834534,\n",
       "  0.36488717794418335,\n",
       "  0.3690054714679718,\n",
       "  0.36909204721450806,\n",
       "  0.36921003460884094,\n",
       "  0.3700752258300781,\n",
       "  0.36741501092910767,\n",
       "  0.3674885034561157,\n",
       "  0.3667193055152893,\n",
       "  0.3676055073738098,\n",
       "  0.36713090538978577,\n",
       "  0.36749398708343506,\n",
       "  0.3658791780471802,\n",
       "  0.36672231554985046,\n",
       "  0.3654491901397705,\n",
       "  0.36566630005836487,\n",
       "  0.3634614646434784,\n",
       "  0.3644583821296692,\n",
       "  0.36567920446395874,\n",
       "  0.3631775379180908,\n",
       "  0.3645477890968323,\n",
       "  0.3648335039615631,\n",
       "  0.36305657029151917,\n",
       "  0.3656400144100189,\n",
       "  0.3640548288822174,\n",
       "  0.35948944091796875,\n",
       "  0.36306020617485046,\n",
       "  0.3606138527393341,\n",
       "  0.360554963350296,\n",
       "  0.36182424426078796,\n",
       "  0.357685387134552,\n",
       "  0.36111822724342346,\n",
       "  0.36207178235054016,\n",
       "  0.3601785898208618,\n",
       "  0.36010661721229553,\n",
       "  0.35763826966285706,\n",
       "  0.3567562401294708,\n",
       "  0.3560432493686676,\n",
       "  0.3560818135738373,\n",
       "  0.36203476786613464,\n",
       "  0.3543839156627655,\n",
       "  0.36133667826652527,\n",
       "  0.35944700241088867,\n",
       "  0.3562226891517639,\n",
       "  0.35913997888565063,\n",
       "  0.3546706438064575,\n",
       "  0.3581312894821167,\n",
       "  0.3604120910167694,\n",
       "  0.35560867190361023,\n",
       "  0.3571915030479431,\n",
       "  0.35675740242004395,\n",
       "  0.3520468771457672,\n",
       "  0.3536241948604584,\n",
       "  0.3527385890483856,\n",
       "  0.3539530634880066,\n",
       "  0.35445547103881836,\n",
       "  0.3558151423931122,\n",
       "  0.35354816913604736,\n",
       "  0.3572380244731903,\n",
       "  0.3552596867084503,\n",
       "  0.3524749279022217,\n",
       "  0.35059913992881775,\n",
       "  0.3512217700481415,\n",
       "  0.3531845211982727,\n",
       "  0.3533051908016205,\n",
       "  0.35276439785957336,\n",
       "  0.3526276648044586,\n",
       "  0.3506951332092285,\n",
       "  0.3522542715072632,\n",
       "  0.35468074679374695,\n",
       "  0.3528083562850952,\n",
       "  0.35015252232551575,\n",
       "  0.349449098110199,\n",
       "  0.352999746799469,\n",
       "  0.35145795345306396,\n",
       "  0.351169228553772],\n",
       " 'accuracy': [0.5774618983268738,\n",
       "  0.6990231871604919,\n",
       "  0.7317127585411072,\n",
       "  0.7520036101341248,\n",
       "  0.7661561965942383,\n",
       "  0.77806556224823,\n",
       "  0.7865285277366638,\n",
       "  0.7937271595001221,\n",
       "  0.7985398769378662,\n",
       "  0.8039031624794006,\n",
       "  0.8068193197250366,\n",
       "  0.8092256784439087,\n",
       "  0.8136305212974548,\n",
       "  0.8150579929351807,\n",
       "  0.8179742097854614,\n",
       "  0.8210535049438477,\n",
       "  0.8223178386688232,\n",
       "  0.8253155946731567,\n",
       "  0.8254583477973938,\n",
       "  0.8291290402412415,\n",
       "  0.8266003131866455,\n",
       "  0.8298835754394531,\n",
       "  0.8301486372947693,\n",
       "  0.8316577076911926,\n",
       "  0.8345127105712891,\n",
       "  0.8323307037353516,\n",
       "  0.8338805437088013,\n",
       "  0.8350021243095398,\n",
       "  0.8360013961791992,\n",
       "  0.8368782997131348,\n",
       "  0.8371433615684509,\n",
       "  0.8392642140388489,\n",
       "  0.840202271938324,\n",
       "  0.8415685892105103,\n",
       "  0.8407732844352722,\n",
       "  0.8418540954589844,\n",
       "  0.8417113423347473,\n",
       "  0.8431388735771179,\n",
       "  0.8430572748184204,\n",
       "  0.8448110818862915,\n",
       "  0.844342052936554,\n",
       "  0.8440973162651062,\n",
       "  0.8467279672622681,\n",
       "  0.8473805785179138,\n",
       "  0.8484205603599548,\n",
       "  0.8481758832931519,\n",
       "  0.8460958003997803,\n",
       "  0.848053514957428,\n",
       "  0.8497868776321411,\n",
       "  0.8489100337028503,\n",
       "  0.8501539826393127,\n",
       "  0.8498480916023254,\n",
       "  0.8506433963775635,\n",
       "  0.8508473038673401,\n",
       "  0.8516426086425781,\n",
       "  0.8514590859413147,\n",
       "  0.8491343259811401,\n",
       "  0.8515814542770386,\n",
       "  0.8526622653007507,\n",
       "  0.8521524667739868,\n",
       "  0.8510716557502747,\n",
       "  0.8526418805122375,\n",
       "  0.8519484996795654,\n",
       "  0.8517853617668152,\n",
       "  0.8539062142372131,\n",
       "  0.8538450598716736,\n",
       "  0.8545383810997009,\n",
       "  0.8530905246734619,\n",
       "  0.8559455275535583,\n",
       "  0.8547219634056091,\n",
       "  0.8553948998451233,\n",
       "  0.8574341535568237,\n",
       "  0.8555376529693604,\n",
       "  0.8577196598052979,\n",
       "  0.8581683039665222,\n",
       "  0.8571690917015076,\n",
       "  0.8583314418792725,\n",
       "  0.8550686240196228,\n",
       "  0.8561902046203613,\n",
       "  0.8579440116882324,\n",
       "  0.8585354089736938,\n",
       "  0.8591063618659973,\n",
       "  0.8588820695877075,\n",
       "  0.8586985468864441,\n",
       "  0.8588413000106812,\n",
       "  0.8589432239532471,\n",
       "  0.8606562614440918,\n",
       "  0.8597385883331299,\n",
       "  0.8595754504203796,\n",
       "  0.8602280020713806,\n",
       "  0.8600648641586304,\n",
       "  0.8607785701751709,\n",
       "  0.8619002103805542,\n",
       "  0.8610844612121582,\n",
       "  0.8601667881011963,\n",
       "  0.8632869124412537,\n",
       "  0.8617982268333435,\n",
       "  0.8601464033126831,\n",
       "  0.8619613647460938,\n",
       "  0.8610436916351318,\n",
       "  0.8618186116218567,\n",
       "  0.8614923357963562,\n",
       "  0.862124502658844,\n",
       "  0.8629606366157532,\n",
       "  0.8624303936958313,\n",
       "  0.8625935316085815,\n",
       "  0.8640210628509521,\n",
       "  0.863735556602478,\n",
       "  0.863592803478241,\n",
       "  0.8635112047195435,\n",
       "  0.8648775219917297,\n",
       "  0.8624100089073181,\n",
       "  0.8624507784843445,\n",
       "  0.8640210628509521,\n",
       "  0.8646532297134399,\n",
       "  0.8640210628509521,\n",
       "  0.8634704351425171,\n",
       "  0.8632869124412537,\n",
       "  0.8652446269989014,\n",
       "  0.8652446269989014,\n",
       "  0.8682015538215637,\n",
       "  0.8662846684455872,\n",
       "  0.8644900918006897,\n",
       "  0.8644900918006897,\n",
       "  0.8656116724014282,\n",
       "  0.8685482144355774,\n",
       "  0.8671615123748779,\n",
       "  0.865999162197113,\n",
       "  0.8665497303009033,\n",
       "  0.865591287612915,\n",
       "  0.8676305413246155,\n",
       "  0.8647143840789795,\n",
       "  0.8651630282402039,\n",
       "  0.8679364323616028,\n",
       "  0.8677936792373657,\n",
       "  0.867712140083313,\n",
       "  0.8664681911468506,\n",
       "  0.8667944669723511,\n",
       "  0.8660807013511658,\n",
       "  0.868099570274353,\n",
       "  0.8688745498657227,\n",
       "  0.8688337206840515,\n",
       "  0.868262767791748,\n",
       "  0.8682219386100769,\n",
       "  0.8675693869590759,\n",
       "  0.8681403994560242,\n",
       "  0.867447018623352,\n",
       "  0.8684666752815247,\n",
       "  0.8682423233985901,\n",
       "  0.8702816367149353,\n",
       "  0.8672838807106018,\n",
       "  0.8687317967414856,\n",
       "  0.8691192269325256,\n",
       "  0.86956787109375,\n",
       "  0.8698329925537109,\n",
       "  0.8706486821174622,\n",
       "  0.8699145317077637,\n",
       "  0.8690376877784729,\n",
       "  0.870220422744751,\n",
       "  0.8712604641914368,\n",
       "  0.8723208904266357,\n",
       "  0.8710769414901733,\n",
       "  0.8722189664840698,\n",
       "  0.867304265499115,\n",
       "  0.8719946146011353,\n",
       "  0.8687317967414856,\n",
       "  0.8697717785835266,\n",
       "  0.8711585402488708,\n",
       "  0.8709341883659363,\n",
       "  0.8706690669059753,\n",
       "  0.8701184988021851,\n",
       "  0.8698941469192505,\n",
       "  0.8709953427314758,\n",
       "  0.8703020215034485,\n",
       "  0.8708730340003967,\n",
       "  0.8727491497993469,\n",
       "  0.8711380958557129,\n",
       "  0.8722189664840698,\n",
       "  0.8701796531677246,\n",
       "  0.872096598148346,\n",
       "  0.8719334602355957,\n",
       "  0.8725656270980835,\n",
       "  0.8704855442047119,\n",
       "  0.8713420629501343,\n",
       "  0.8727491497993469,\n",
       "  0.8728511333465576,\n",
       "  0.8726471662521362,\n",
       "  0.8709953427314758,\n",
       "  0.8722801208496094,\n",
       "  0.8724636435508728,\n",
       "  0.873299777507782,\n",
       "  0.8732181787490845,\n",
       "  0.8724432587623596,\n",
       "  0.8718722462654114,\n",
       "  0.874339759349823,\n",
       "  0.8726063966751099,\n",
       "  0.8735852241516113,\n",
       "  0.8719130158424377,\n",
       "  0.8749107718467712,\n",
       "  0.8733405470848083],\n",
       " 'val_loss': [0.7828540205955505,\n",
       "  0.6727096438407898,\n",
       "  0.617536187171936,\n",
       "  0.569797694683075,\n",
       "  0.533258855342865,\n",
       "  0.514118492603302,\n",
       "  0.4939515292644501,\n",
       "  0.4754236936569214,\n",
       "  0.46312636137008667,\n",
       "  0.4513319730758667,\n",
       "  0.4407537877559662,\n",
       "  0.4454927146434784,\n",
       "  0.4324501156806946,\n",
       "  0.4220902919769287,\n",
       "  0.4167078137397766,\n",
       "  0.4250774681568146,\n",
       "  0.40718144178390503,\n",
       "  0.40292567014694214,\n",
       "  0.399179607629776,\n",
       "  0.406968355178833,\n",
       "  0.39451026916503906,\n",
       "  0.39545220136642456,\n",
       "  0.3899106979370117,\n",
       "  0.38965901732444763,\n",
       "  0.3867306709289551,\n",
       "  0.3799501955509186,\n",
       "  0.3788708448410034,\n",
       "  0.3807825446128845,\n",
       "  0.3747834861278534,\n",
       "  0.37460416555404663,\n",
       "  0.373283714056015,\n",
       "  0.3743884861469269,\n",
       "  0.3671814799308777,\n",
       "  0.36867859959602356,\n",
       "  0.3669167160987854,\n",
       "  0.36302831768989563,\n",
       "  0.3656631410121918,\n",
       "  0.3628694415092468,\n",
       "  0.362118124961853,\n",
       "  0.3631880581378937,\n",
       "  0.35891997814178467,\n",
       "  0.3571711480617523,\n",
       "  0.3572847247123718,\n",
       "  0.3542017936706543,\n",
       "  0.35625582933425903,\n",
       "  0.35238760709762573,\n",
       "  0.35482338070869446,\n",
       "  0.3562226891517639,\n",
       "  0.3495270609855652,\n",
       "  0.3540861904621124,\n",
       "  0.34958794713020325,\n",
       "  0.3487008512020111,\n",
       "  0.34740978479385376,\n",
       "  0.34290874004364014,\n",
       "  0.34347814321517944,\n",
       "  0.3448832333087921,\n",
       "  0.35357317328453064,\n",
       "  0.3478648364543915,\n",
       "  0.3421226739883423,\n",
       "  0.3448692560195923,\n",
       "  0.33915242552757263,\n",
       "  0.3400781452655792,\n",
       "  0.3371509611606598,\n",
       "  0.33881711959838867,\n",
       "  0.33739808201789856,\n",
       "  0.33741679787635803,\n",
       "  0.33857327699661255,\n",
       "  0.3365911543369293,\n",
       "  0.33538028597831726,\n",
       "  0.3339347839355469,\n",
       "  0.33762821555137634,\n",
       "  0.3319393992424011,\n",
       "  0.33366578817367554,\n",
       "  0.3345222473144531,\n",
       "  0.330498069524765,\n",
       "  0.3308146297931671,\n",
       "  0.3306526243686676,\n",
       "  0.33153316378593445,\n",
       "  0.3297008275985718,\n",
       "  0.32706958055496216,\n",
       "  0.32772397994995117,\n",
       "  0.34114983677864075,\n",
       "  0.32693910598754883,\n",
       "  0.3281455934047699,\n",
       "  0.32802388072013855,\n",
       "  0.32711097598075867,\n",
       "  0.32498395442962646,\n",
       "  0.3290981650352478,\n",
       "  0.3281581699848175,\n",
       "  0.3230478763580322,\n",
       "  0.3247789442539215,\n",
       "  0.32391682267189026,\n",
       "  0.32203322649002075,\n",
       "  0.32171687483787537,\n",
       "  0.32369932532310486,\n",
       "  0.32125866413116455,\n",
       "  0.32198721170425415,\n",
       "  0.3213028013706207,\n",
       "  0.32155081629753113,\n",
       "  0.32196930050849915,\n",
       "  0.3196977972984314,\n",
       "  0.32038015127182007,\n",
       "  0.32110872864723206,\n",
       "  0.3185926079750061,\n",
       "  0.31861650943756104,\n",
       "  0.3185413181781769,\n",
       "  0.31611523032188416,\n",
       "  0.3185780644416809,\n",
       "  0.32152414321899414,\n",
       "  0.3156868815422058,\n",
       "  0.3143296539783478,\n",
       "  0.31425222754478455,\n",
       "  0.3184482157230377,\n",
       "  0.317952960729599,\n",
       "  0.3146704435348511,\n",
       "  0.31560438871383667,\n",
       "  0.31693747639656067,\n",
       "  0.314144492149353,\n",
       "  0.314372718334198,\n",
       "  0.31229934096336365,\n",
       "  0.31118524074554443,\n",
       "  0.3105740547180176,\n",
       "  0.3121325671672821,\n",
       "  0.3142245411872864,\n",
       "  0.31202149391174316,\n",
       "  0.3106939196586609,\n",
       "  0.310724675655365,\n",
       "  0.31152573227882385,\n",
       "  0.3089447617530823,\n",
       "  0.3110434412956238,\n",
       "  0.3093431890010834,\n",
       "  0.31186825037002563,\n",
       "  0.30695927143096924,\n",
       "  0.30809253454208374,\n",
       "  0.3089519441127777,\n",
       "  0.3087587058544159,\n",
       "  0.3090698719024658,\n",
       "  0.3075176477432251,\n",
       "  0.3078644573688507,\n",
       "  0.30646881461143494,\n",
       "  0.305617094039917,\n",
       "  0.30693453550338745,\n",
       "  0.3089035451412201,\n",
       "  0.30695974826812744,\n",
       "  0.3058735430240631,\n",
       "  0.30647650361061096,\n",
       "  0.3055766224861145,\n",
       "  0.3063901662826538,\n",
       "  0.30518919229507446,\n",
       "  0.3044132590293884,\n",
       "  0.3048405647277832,\n",
       "  0.304113507270813,\n",
       "  0.30224552750587463,\n",
       "  0.303207129240036,\n",
       "  0.30228695273399353,\n",
       "  0.30339136719703674,\n",
       "  0.30432552099227905,\n",
       "  0.3026539981365204,\n",
       "  0.303151398897171,\n",
       "  0.30272534489631653,\n",
       "  0.3030841648578644,\n",
       "  0.3003469407558441,\n",
       "  0.3013830780982971,\n",
       "  0.2999836206436157,\n",
       "  0.30075374245643616,\n",
       "  0.3028451204299927,\n",
       "  0.3008139729499817,\n",
       "  0.2991335690021515,\n",
       "  0.299969345331192,\n",
       "  0.29965293407440186,\n",
       "  0.29930418729782104,\n",
       "  0.29999467730522156,\n",
       "  0.29819318652153015,\n",
       "  0.29862892627716064,\n",
       "  0.297961950302124,\n",
       "  0.2962020933628082,\n",
       "  0.2976388931274414,\n",
       "  0.2983793318271637,\n",
       "  0.29851412773132324,\n",
       "  0.29637205600738525,\n",
       "  0.2983785569667816,\n",
       "  0.29652273654937744,\n",
       "  0.2987140119075775,\n",
       "  0.2973375916481018,\n",
       "  0.29650673270225525,\n",
       "  0.29675745964050293,\n",
       "  0.29617467522621155,\n",
       "  0.29736414551734924,\n",
       "  0.29626232385635376,\n",
       "  0.297951340675354,\n",
       "  0.29600363969802856,\n",
       "  0.2946230173110962,\n",
       "  0.29560741782188416,\n",
       "  0.2946666181087494,\n",
       "  0.2935732901096344,\n",
       "  0.2931676208972931,\n",
       "  0.2976595461368561,\n",
       "  0.29482364654541016,\n",
       "  0.29521435499191284,\n",
       "  0.2924678325653076],\n",
       " 'val_accuracy': [0.7223491072654724,\n",
       "  0.750652551651001,\n",
       "  0.7670472860336304,\n",
       "  0.7902936339378357,\n",
       "  0.7969005107879639,\n",
       "  0.8101957440376282,\n",
       "  0.8181076645851135,\n",
       "  0.8220228552818298,\n",
       "  0.8243066668510437,\n",
       "  0.8330342769622803,\n",
       "  0.8370310068130493,\n",
       "  0.8384175896644592,\n",
       "  0.8384175896644592,\n",
       "  0.8444535136222839,\n",
       "  0.8460848331451416,\n",
       "  0.8407830595970154,\n",
       "  0.8486133813858032,\n",
       "  0.8513050675392151,\n",
       "  0.8523654341697693,\n",
       "  0.8520391583442688,\n",
       "  0.8526917099952698,\n",
       "  0.8513050675392151,\n",
       "  0.8561174273490906,\n",
       "  0.8553017973899841,\n",
       "  0.857340931892395,\n",
       "  0.8600326180458069,\n",
       "  0.8606035709381104,\n",
       "  0.8606851696968079,\n",
       "  0.8602772951126099,\n",
       "  0.8614192605018616,\n",
       "  0.8613376617431641,\n",
       "  0.8605220317840576,\n",
       "  0.8629689812660217,\n",
       "  0.8623164892196655,\n",
       "  0.86353999376297,\n",
       "  0.8654975295066833,\n",
       "  0.8642740845680237,\n",
       "  0.8672104477882385,\n",
       "  0.8649265766143799,\n",
       "  0.8643556237220764,\n",
       "  0.8669657707214355,\n",
       "  0.8663947582244873,\n",
       "  0.8678629398345947,\n",
       "  0.8685970902442932,\n",
       "  0.8688417673110962,\n",
       "  0.8685970902442932,\n",
       "  0.8700652718544006,\n",
       "  0.8676182627677917,\n",
       "  0.8709625005722046,\n",
       "  0.8667210340499878,\n",
       "  0.8698205351829529,\n",
       "  0.8723490834236145,\n",
       "  0.8700652718544006,\n",
       "  0.8730831742286682,\n",
       "  0.871778130531311,\n",
       "  0.8723490834236145,\n",
       "  0.8690864443778992,\n",
       "  0.8681076765060425,\n",
       "  0.8730016350746155,\n",
       "  0.871778130531311,\n",
       "  0.8758564591407776,\n",
       "  0.8739804029464722,\n",
       "  0.8736541867256165,\n",
       "  0.8750407695770264,\n",
       "  0.8746329545974731,\n",
       "  0.8755301833152771,\n",
       "  0.8738172650337219,\n",
       "  0.8743066787719727,\n",
       "  0.8774877786636353,\n",
       "  0.8753670454025269,\n",
       "  0.8758564591407776,\n",
       "  0.8767536878585815,\n",
       "  0.8752039074897766,\n",
       "  0.8752855062484741,\n",
       "  0.8774061799049377,\n",
       "  0.8761827349662781,\n",
       "  0.8765905499458313,\n",
       "  0.8769983649253845,\n",
       "  0.8778955936431885,\n",
       "  0.8787928223609924,\n",
       "  0.8780587315559387,\n",
       "  0.8725122213363647,\n",
       "  0.8795269131660461,\n",
       "  0.877569317817688,\n",
       "  0.8769168257713318,\n",
       "  0.8769168257713318,\n",
       "  0.8793637752532959,\n",
       "  0.8794453740119934,\n",
       "  0.8763458132743835,\n",
       "  0.8792006373405457,\n",
       "  0.8794453740119934,\n",
       "  0.8799347281455994,\n",
       "  0.8792006373405457,\n",
       "  0.8811582326889038,\n",
       "  0.8789559602737427,\n",
       "  0.8801794648170471,\n",
       "  0.8827895522117615,\n",
       "  0.8806688189506531,\n",
       "  0.8807504177093506,\n",
       "  0.8808319568634033,\n",
       "  0.8811582326889038,\n",
       "  0.8823817372322083,\n",
       "  0.8806688189506531,\n",
       "  0.8832789659500122,\n",
       "  0.8836052417755127,\n",
       "  0.8841761946678162,\n",
       "  0.8826264142990112,\n",
       "  0.8836867809295654,\n",
       "  0.8801794648170471,\n",
       "  0.8843393325805664,\n",
       "  0.8836867809295654,\n",
       "  0.8843393325805664,\n",
       "  0.8844208717346191,\n",
       "  0.8840130567550659,\n",
       "  0.8843393325805664,\n",
       "  0.8832789659500122,\n",
       "  0.8826264142990112,\n",
       "  0.8823817372322083,\n",
       "  0.8839314579963684,\n",
       "  0.8857259154319763,\n",
       "  0.8850734233856201,\n",
       "  0.8851549625396729,\n",
       "  0.8858890533447266,\n",
       "  0.8841761946678162,\n",
       "  0.8842577338218689,\n",
       "  0.8846656084060669,\n",
       "  0.8853181004524231,\n",
       "  0.8848286867141724,\n",
       "  0.8867862820625305,\n",
       "  0.886867880821228,\n",
       "  0.886215329170227,\n",
       "  0.8858890533447266,\n",
       "  0.8861337900161743,\n",
       "  0.8867047429084778,\n",
       "  0.8867047429084778,\n",
       "  0.8860521912574768,\n",
       "  0.8878466486930847,\n",
       "  0.887357234954834,\n",
       "  0.8849918246269226,\n",
       "  0.8869494199752808,\n",
       "  0.8885807394981384,\n",
       "  0.8865416049957275,\n",
       "  0.8867047429084778,\n",
       "  0.8875203728675842,\n",
       "  0.8869494199752808,\n",
       "  0.8880913257598877,\n",
       "  0.8884176015853882,\n",
       "  0.8882544636726379,\n",
       "  0.8867047429084778,\n",
       "  0.8892332911491394,\n",
       "  0.8883360624313354,\n",
       "  0.8875203728675842,\n",
       "  0.8889885544776917,\n",
       "  0.8892332911491394,\n",
       "  0.8888254761695862,\n",
       "  0.8884992003440857,\n",
       "  0.8896411061286926,\n",
       "  0.8883360624313354,\n",
       "  0.8884176015853882,\n",
       "  0.8894779682159424,\n",
       "  0.8878466486930847,\n",
       "  0.8898042440414429,\n",
       "  0.8893964290618896,\n",
       "  0.8892332911491394,\n",
       "  0.8899673819541931,\n",
       "  0.8886623382568359,\n",
       "  0.8899673819541931,\n",
       "  0.8907014727592468,\n",
       "  0.8898042440414429,\n",
       "  0.8898042440414429,\n",
       "  0.8900489211082458,\n",
       "  0.8894779682159424,\n",
       "  0.8916802406311035,\n",
       "  0.8907830119132996,\n",
       "  0.8905383348464966,\n",
       "  0.8903751969337463,\n",
       "  0.8919249773025513,\n",
       "  0.8902936577796936,\n",
       "  0.8899673819541931,\n",
       "  0.8893964290618896,\n",
       "  0.8915171027183533,\n",
       "  0.8920881152153015,\n",
       "  0.8884176015853882,\n",
       "  0.8915171027183533,\n",
       "  0.892006516456604,\n",
       "  0.8915987014770508,\n",
       "  0.8912724256515503,\n",
       "  0.8915171027183533,\n",
       "  0.8924959301948547,\n",
       "  0.8910277485847473,\n",
       "  0.8920881152153015,\n",
       "  0.8922512531280518,\n",
       "  0.8909461498260498,\n",
       "  0.8915987014770508,\n",
       "  0.8921696543693542,\n",
       "  0.8927406072616577,\n",
       "  0.8893148303031921,\n",
       "  0.8929853439331055,\n",
       "  0.892903745174408,\n",
       "  0.8934746980667114]}"
      ]
     },
     "execution_count": 23,
     "metadata": {},
     "output_type": "execute_result"
    }
   ],
   "source": [
    "flor_train.history"
   ]
  },
  {
   "cell_type": "code",
   "execution_count": 24,
   "metadata": {
    "ExecuteTime": {
     "end_time": "2018-11-08T00:20:55.014647Z",
     "start_time": "2018-11-08T00:20:54.479693Z"
    },
    "scrolled": false
   },
   "outputs": [
    {
     "data": {
      "image/png": "[encoded data removed]",
      "text/plain": [
       "<Figure size 640x480 with 1 Axes>"
      ]
     },
     "metadata": {},
     "output_type": "display_data"
    },
    {
     "data": {
      "image/png": "[encoded data removed]",
      "text/plain": [
       "<Figure size 640x480 with 1 Axes>"
      ]
     },
     "metadata": {},
     "output_type": "display_data"
    }
   ],
   "source": [
    "accuracy = flor_train.history['accuracy']\n",
    "val_accuracy = flor_train.history['val_accuracy']\n",
    "loss = flor_train.history['loss']\n",
    "val_loss = flor_train.history['val_loss']\n",
    "epochs = range(len(accuracy))\n",
    "plt.plot(epochs, accuracy, 'bo', label='Training accuracy')\n",
    "plt.plot(epochs, val_accuracy, 'b', label='Validation accuracy')\n",
    "plt.title('Training and validation accuracy')\n",
    "plt.legend()\n",
    "plt.figure()\n",
    "plt.plot(epochs, loss, 'bo', label='Training loss')\n",
    "plt.plot(epochs, val_loss, 'b', label='Validation loss')\n",
    "plt.title('Training and validation loss')\n",
    "plt.legend()\n",
    "plt.show()"
   ]
  },
  {
   "cell_type": "code",
   "execution_count": 25,
   "metadata": {
    "ExecuteTime": {
     "end_time": "2018-11-08T00:20:58.050602Z",
     "start_time": "2018-11-08T00:20:55.021862Z"
    }
   },
   "outputs": [
    {
     "name": "stdout",
     "output_type": "stream",
     "text": [
      "479/479 [==============================] - 1s 1000us/step\n"
     ]
    }
   ],
   "source": [
    "predicted_classes2 = flor_model.predict(test_X)"
   ]
  },
  {
   "cell_type": "code",
   "execution_count": 26,
   "metadata": {
    "ExecuteTime": {
     "end_time": "2018-11-08T00:20:58.262575Z",
     "start_time": "2018-11-08T00:20:58.052878Z"
    }
   },
   "outputs": [],
   "source": [
    "predicted_classes=[]\n",
    "for predicted_sport in predicted_classes2:\n",
    "    predicted_classes.append(predicted_sport.tolist().index(max(predicted_sport)))\n",
    "predicted_classes=np.array(predicted_classes)"
   ]
  },
  {
   "cell_type": "code",
   "execution_count": 27,
   "metadata": {
    "ExecuteTime": {
     "end_time": "2018-11-08T00:20:58.272559Z",
     "start_time": "2018-11-08T00:20:58.264703Z"
    }
   },
   "outputs": [
    {
     "data": {
      "text/plain": [
       "((15325,), (15325,))"
      ]
     },
     "execution_count": 27,
     "metadata": {},
     "output_type": "execute_result"
    }
   ],
   "source": [
    "predicted_classes.shape, test_Y.shape"
   ]
  },
  {
   "cell_type": "markdown",
   "metadata": {},
   "source": [
    "# Aprendamos de los errores: Qué mejorar"
   ]
  },
  {
   "cell_type": "code",
   "execution_count": 28,
   "metadata": {
    "ExecuteTime": {
     "end_time": "2018-11-08T00:20:59.822110Z",
     "start_time": "2018-11-08T00:20:58.275464Z"
    }
   },
   "outputs": [
    {
     "name": "stdout",
     "output_type": "stream",
     "text": [
      "Found 13662 correct labels\n"
     ]
    },
    {
     "data": {
      "image/png": "[encoded data removed]",
      "text/plain": [
       "<Figure size 640x480 with 9 Axes>"
      ]
     },
     "metadata": {},
     "output_type": "display_data"
    }
   ],
   "source": [
    "correct = np.where(predicted_classes==test_Y)[0]\n",
    "print(\"Found %d correct labels\" % len(correct))\n",
    "for i, correct in enumerate(correct[0:9]):\n",
    "    plt.subplot(3,3,i+1)\n",
    "    plt.imshow(test_X[correct].reshape(32,32,3), cmap='gray', interpolation='none')\n",
    "    plt.title(\"{}, {}\".format(flores[predicted_classes[correct]],\n",
    "                                                    flores[test_Y[correct]]))\n",
    "\n",
    "    plt.tight_layout()"
   ]
  },
  {
   "cell_type": "code",
   "execution_count": 29,
   "metadata": {
    "ExecuteTime": {
     "end_time": "2018-11-08T00:21:00.942267Z",
     "start_time": "2018-11-08T00:20:59.829572Z"
    }
   },
   "outputs": [
    {
     "name": "stdout",
     "output_type": "stream",
     "text": [
      "Found 1663 incorrect labels\n"
     ]
    },
    {
     "data": {
      "image/png": "[encoded data removed]",
      "text/plain": [
       "<Figure size 640x480 with 9 Axes>"
      ]
     },
     "metadata": {},
     "output_type": "display_data"
    }
   ],
   "source": [
    "incorrect = np.where(predicted_classes!=test_Y)[0]\n",
    "print(\"Found %d incorrect labels\" % len(incorrect))\n",
    "for i, incorrect in enumerate(incorrect[0:9]):\n",
    "    plt.subplot(3,3,i+1)\n",
    "    plt.imshow(test_X[incorrect].reshape(32,32,3), cmap='gray', interpolation='none')\n",
    "    plt.title(\"{}, {}\".format(flores[predicted_classes[incorrect]],\n",
    "                                                    flores[test_Y[incorrect]]))\n",
    "    plt.tight_layout()"
   ]
  },
  {
   "cell_type": "code",
   "execution_count": 30,
   "metadata": {
    "ExecuteTime": {
     "end_time": "2018-11-08T00:21:00.968727Z",
     "start_time": "2018-11-08T00:21:00.947262Z"
    },
    "scrolled": true
   },
   "outputs": [
    {
     "name": "stdout",
     "output_type": "stream",
     "text": [
      "              precision    recall  f1-score   support\n",
      "\n",
      "     Class 0       0.95      0.98      0.96      2880\n",
      "     Class 1       0.91      0.95      0.93      3195\n",
      "     Class 2       0.93      0.91      0.92      3084\n",
      "     Class 3       0.82      0.83      0.82      3034\n",
      "     Class 4       0.85      0.79      0.82      3132\n",
      "\n",
      "    accuracy                           0.89     15325\n",
      "   macro avg       0.89      0.89      0.89     15325\n",
      "weighted avg       0.89      0.89      0.89     15325\n",
      "\n"
     ]
    }
   ],
   "source": [
    "target_names = [\"Class {}\".format(i) for i in range(nClasses)]\n",
    "print(classification_report(test_Y, predicted_classes, target_names=target_names))"
   ]
  },
  {
   "cell_type": "code",
   "execution_count": null,
   "metadata": {},
   "outputs": [],
   "source": []
  }
 ],
 "metadata": {
  "kernelspec": {
   "display_name": "Python 3 (ipykernel)",
   "language": "python",
   "name": "python3"
  },
  "language_info": {
   "codemirror_mode": {
    "name": "ipython",
    "version": 3
   },
   "file_extension": ".py",
   "mimetype": "text/x-python",
   "name": "python",
   "nbconvert_exporter": "python",
   "pygments_lexer": "ipython3",
   "version": "3.11.5"
  }
 },
 "nbformat": 4,
 "nbformat_minor": 2
}
